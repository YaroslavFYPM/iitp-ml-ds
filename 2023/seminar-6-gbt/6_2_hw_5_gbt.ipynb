{
  "cells": [
    {
      "cell_type": "markdown",
      "metadata": {
        "id": "YiihWy4m1pSz"
      },
      "source": [
        "# Домашнее задание 5.\n",
        "\n",
        "Ниже приведено решение задачи Walmart TripType prediction.\n",
        "\n",
        "Сначала мы строим простую baseline модель используя алгоритм случайного леса, затем делаем Exploratory Data Analysis, и наконец генерим новый набор признаков и на нем обучаем алгоритм градиентного бустинга.\n",
        "\n",
        "Ваше домашнее задание заключается в следующем:\n",
        "\n",
        "1. Разобраться в этом нотбуке: \n",
        "- разберитесь в чем заключается задача\n",
        "- разберитесь какие признаки мы генерим\n",
        "\n",
        "2. Отредактируйте разделы 4-5 таким образом чтобы обучить модель на данных `train.csv` и сделать предсказание на данных `test.csv`. Обратите внимание что для набора данных `test.csv` у вас нет столбца `TripType`. Получив предсказание для `TripType` на наборе данных `test.csv` вам необходимо загрузить их на лидерборд kaggle. Используйте catboost.\n",
        "\n",
        "3. Существует 3 популярные библиотеки реализующие алгоритм градиентного бустинга:\n",
        "- xgboost https://xgboost.readthedocs.io/en/stable/python/python_intro.html\n",
        "- catboost https://catboost.ai/en/docs/concepts/python-quickstart\n",
        "- lightgbm https://lightgbm.readthedocs.io/en/latest/Python-Intro.html\n",
        "\n",
        "Обучите каждый из них используя сопоставимые наборы гиперпараметров и сравните \n",
        "- время обучения\n",
        "- точность на `test.csv` на лидерборде kaggle\n",
        "Прокомментируйте полученные результаты.\n",
        " \n",
        "Ваш репорт отправляйте на почту kurmukovai@gmail.com, до полуночи 1 апреля, 23:59:59 с темой письма [iitp-intro-ds-2023-ha5-Surname], например [iitp-intro-ds-2023-ha5-Kurmukov]\n",
        "\n",
        "* если вам нужно будет обработать пропуски (missing values) обрабатывайте их любым разумным образом (см. семинар 3) и отразите это в вашем репорте.\n",
        "* все 3 библиотеки умеют работать с категориальным переменными \"из коробки\":\n",
        "- https://xgboost.readthedocs.io/en/stable/tutorials/categorical.html\n",
        "- https://lightgbm.readthedocs.io/en/latest/Advanced-Topics.html\n",
        "возможно необходимо строковые признаки закодировать в числа 1..n ."
      ]
    },
    {
      "cell_type": "markdown",
      "metadata": {
        "id": "dqikFhxb1pS4"
      },
      "source": [
        "# Walmart TripType prediction\n",
        "\n",
        "https://www.kaggle.com/c/walmart-recruiting-trip-type-classification\n",
        "\n",
        ">For this competition, you are tasked with categorizing shopping trip types based on the items that customers purchased. To give a few hypothetical examples of trip types: a customer may make a small daily dinner trip, a weekly large grocery trip, a trip to buy gifts for an upcoming holiday, or a seasonal trip to buy clothes.\n",
        "\n",
        "\n",
        "## Multi-class classification, goal is to predict `type of the trip`.\n",
        "\n"
      ]
    },
    {
      "cell_type": "code",
      "source": [
        "!pip install kaggle\n",
        "!mkdir ~/.kaggle\n",
        "!touch ~/.kaggle/kaggle.json\n",
        "\n",
        "api_token = {\"username\":\"yaroslavklyukin20\",\"key\":\"bb553834b71b489fa42962b62d4f23c8\"}\n",
        "\n",
        "import json\n",
        "\n",
        "with open('/root/.kaggle/kaggle.json', 'w') as file:\n",
        "    json.dump(api_token, file)\n",
        "\n",
        "!chmod 600 ~/.kaggle/kaggle.json"
      ],
      "metadata": {
        "id": "MoDr_lXq27xc",
        "outputId": "e9196a16-8648-4e97-ff01-c7a811181d4a",
        "colab": {
          "base_uri": "https://localhost:8080/"
        }
      },
      "execution_count": 1,
      "outputs": [
        {
          "output_type": "stream",
          "name": "stdout",
          "text": [
            "Looking in indexes: https://pypi.org/simple, https://us-python.pkg.dev/colab-wheels/public/simple/\n",
            "Requirement already satisfied: kaggle in /usr/local/lib/python3.9/dist-packages (1.5.13)\n",
            "Requirement already satisfied: urllib3 in /usr/local/lib/python3.9/dist-packages (from kaggle) (1.26.15)\n",
            "Requirement already satisfied: python-dateutil in /usr/local/lib/python3.9/dist-packages (from kaggle) (2.8.2)\n",
            "Requirement already satisfied: certifi in /usr/local/lib/python3.9/dist-packages (from kaggle) (2022.12.7)\n",
            "Requirement already satisfied: tqdm in /usr/local/lib/python3.9/dist-packages (from kaggle) (4.65.0)\n",
            "Requirement already satisfied: python-slugify in /usr/local/lib/python3.9/dist-packages (from kaggle) (8.0.1)\n",
            "Requirement already satisfied: requests in /usr/local/lib/python3.9/dist-packages (from kaggle) (2.27.1)\n",
            "Requirement already satisfied: six>=1.10 in /usr/local/lib/python3.9/dist-packages (from kaggle) (1.16.0)\n",
            "Requirement already satisfied: text-unidecode>=1.3 in /usr/local/lib/python3.9/dist-packages (from python-slugify->kaggle) (1.3)\n",
            "Requirement already satisfied: idna<4,>=2.5 in /usr/local/lib/python3.9/dist-packages (from requests->kaggle) (3.4)\n",
            "Requirement already satisfied: charset-normalizer~=2.0.0 in /usr/local/lib/python3.9/dist-packages (from requests->kaggle) (2.0.12)\n"
          ]
        }
      ]
    },
    {
      "cell_type": "code",
      "execution_count": 2,
      "metadata": {
        "id": "si1GL4EZ1pS6",
        "outputId": "158ba142-223b-4055-b6ca-3bca236603a2",
        "colab": {
          "base_uri": "https://localhost:8080/"
        }
      },
      "outputs": [
        {
          "output_type": "stream",
          "name": "stdout",
          "text": [
            "Downloading walmart-recruiting-trip-type-classification.zip to /content\n",
            "\r  0% 0.00/11.0M [00:00<?, ?B/s]\r 46% 5.00M/11.0M [00:00<00:00, 47.4MB/s]\n",
            "\r100% 11.0M/11.0M [00:00<00:00, 77.0MB/s]\n"
          ]
        }
      ],
      "source": [
        "!kaggle competitions download -c walmart-recruiting-trip-type-classification"
      ]
    },
    {
      "cell_type": "code",
      "source": [
        "!unzip walmart-recruiting-trip-type-classification.zip -d walmart-recruiting-trip-type-classification"
      ],
      "metadata": {
        "id": "xz2cYnN16_pZ",
        "outputId": "deb35b69-a8c8-417c-d340-7251870f5889",
        "colab": {
          "base_uri": "https://localhost:8080/"
        }
      },
      "execution_count": 3,
      "outputs": [
        {
          "output_type": "stream",
          "name": "stdout",
          "text": [
            "Archive:  walmart-recruiting-trip-type-classification.zip\n",
            "  inflating: walmart-recruiting-trip-type-classification/sample_submission.csv.zip  \n",
            "  inflating: walmart-recruiting-trip-type-classification/test.csv.zip  \n",
            "  inflating: walmart-recruiting-trip-type-classification/train.csv.zip  \n"
          ]
        }
      ]
    },
    {
      "cell_type": "code",
      "execution_count": null,
      "metadata": {
        "id": "JyTwRPex1pS8"
      },
      "outputs": [],
      "source": [
        "import pandas as pd\n",
        "import numpy as np\n",
        "import matplotlib.pyplot as plt\n",
        "import seaborn as sns\n",
        "%matplotlib inline"
      ]
    },
    {
      "cell_type": "code",
      "execution_count": null,
      "metadata": {
        "id": "smeABxEs1pS8"
      },
      "outputs": [],
      "source": [
        "train = pd.read_csv('train.csv')\n",
        "# test = pd.read_csv('walmart-recruiting-trip-type-classification/test.csv')"
      ]
    },
    {
      "cell_type": "code",
      "execution_count": null,
      "metadata": {
        "id": "1xZF5sO41pS9",
        "outputId": "4c9e980c-922f-4047-a976-47aef3d43f08"
      },
      "outputs": [
        {
          "data": {
            "text/html": [
              "<div>\n",
              "<style scoped>\n",
              "    .dataframe tbody tr th:only-of-type {\n",
              "        vertical-align: middle;\n",
              "    }\n",
              "\n",
              "    .dataframe tbody tr th {\n",
              "        vertical-align: top;\n",
              "    }\n",
              "\n",
              "    .dataframe thead th {\n",
              "        text-align: right;\n",
              "    }\n",
              "</style>\n",
              "<table border=\"1\" class=\"dataframe\">\n",
              "  <thead>\n",
              "    <tr style=\"text-align: right;\">\n",
              "      <th></th>\n",
              "      <th>TripType</th>\n",
              "      <th>VisitNumber</th>\n",
              "      <th>Weekday</th>\n",
              "      <th>Upc</th>\n",
              "      <th>ScanCount</th>\n",
              "      <th>DepartmentDescription</th>\n",
              "      <th>FinelineNumber</th>\n",
              "    </tr>\n",
              "  </thead>\n",
              "  <tbody>\n",
              "    <tr>\n",
              "      <th>0</th>\n",
              "      <td>999</td>\n",
              "      <td>5</td>\n",
              "      <td>Friday</td>\n",
              "      <td>6.811315e+10</td>\n",
              "      <td>-1</td>\n",
              "      <td>FINANCIAL SERVICES</td>\n",
              "      <td>1000.0</td>\n",
              "    </tr>\n",
              "    <tr>\n",
              "      <th>1</th>\n",
              "      <td>30</td>\n",
              "      <td>7</td>\n",
              "      <td>Friday</td>\n",
              "      <td>6.053882e+10</td>\n",
              "      <td>1</td>\n",
              "      <td>SHOES</td>\n",
              "      <td>8931.0</td>\n",
              "    </tr>\n",
              "    <tr>\n",
              "      <th>2</th>\n",
              "      <td>30</td>\n",
              "      <td>7</td>\n",
              "      <td>Friday</td>\n",
              "      <td>7.410811e+09</td>\n",
              "      <td>1</td>\n",
              "      <td>PERSONAL CARE</td>\n",
              "      <td>4504.0</td>\n",
              "    </tr>\n",
              "    <tr>\n",
              "      <th>3</th>\n",
              "      <td>26</td>\n",
              "      <td>8</td>\n",
              "      <td>Friday</td>\n",
              "      <td>2.238404e+09</td>\n",
              "      <td>2</td>\n",
              "      <td>PAINT AND ACCESSORIES</td>\n",
              "      <td>3565.0</td>\n",
              "    </tr>\n",
              "    <tr>\n",
              "      <th>4</th>\n",
              "      <td>26</td>\n",
              "      <td>8</td>\n",
              "      <td>Friday</td>\n",
              "      <td>2.006614e+09</td>\n",
              "      <td>2</td>\n",
              "      <td>PAINT AND ACCESSORIES</td>\n",
              "      <td>1017.0</td>\n",
              "    </tr>\n",
              "  </tbody>\n",
              "</table>\n",
              "</div>"
            ],
            "text/plain": [
              "   TripType  VisitNumber Weekday           Upc  ScanCount  \\\n",
              "0       999            5  Friday  6.811315e+10         -1   \n",
              "1        30            7  Friday  6.053882e+10          1   \n",
              "2        30            7  Friday  7.410811e+09          1   \n",
              "3        26            8  Friday  2.238404e+09          2   \n",
              "4        26            8  Friday  2.006614e+09          2   \n",
              "\n",
              "   DepartmentDescription  FinelineNumber  \n",
              "0     FINANCIAL SERVICES          1000.0  \n",
              "1                  SHOES          8931.0  \n",
              "2          PERSONAL CARE          4504.0  \n",
              "3  PAINT AND ACCESSORIES          3565.0  \n",
              "4  PAINT AND ACCESSORIES          1017.0  "
            ]
          },
          "execution_count": 4,
          "metadata": {},
          "output_type": "execute_result"
        }
      ],
      "source": [
        "train.head()"
      ]
    },
    {
      "cell_type": "markdown",
      "metadata": {
        "id": "fl-K8QFh1pS-"
      },
      "source": [
        "### Columns description\n",
        "\n",
        "- `TripType` - a categorical id representing the type of shopping trip the customer made. This is the ground truth that you are predicting. TripType_999 is an \"other\" category.\n",
        "- `VisitNumber` - an id corresponding to a single trip by a single customer\n",
        "- `Weekday` - the weekday of the trip\n",
        "- `Upc`- the UPC number of the product purchased\n",
        "- `ScanCount` - the number of the given item that was purchased. A negative value indicates a product return.\n",
        "- `DepartmentDescription` - a high-level description of the item's department\n",
        "- `FinelineNumber` - a more refined category for each of the products, created by Walmart\n"
      ]
    },
    {
      "cell_type": "code",
      "execution_count": null,
      "metadata": {
        "id": "QloyEWDH1pS-",
        "outputId": "b45c6861-1403-48e0-a0e8-7c896dcc1a7c"
      },
      "outputs": [
        {
          "data": {
            "text/plain": [
              "(647054, 7)"
            ]
          },
          "execution_count": 5,
          "metadata": {},
          "output_type": "execute_result"
        }
      ],
      "source": [
        "train.shape"
      ]
    },
    {
      "cell_type": "code",
      "execution_count": null,
      "metadata": {
        "id": "A1YeVwt-1pS_",
        "outputId": "6cf73eb2-6583-4c6c-c595-bd721a0a8662"
      },
      "outputs": [
        {
          "data": {
            "text/plain": [
              "TripType                 647054\n",
              "VisitNumber              647054\n",
              "Weekday                  647054\n",
              "Upc                      642925\n",
              "ScanCount                647054\n",
              "DepartmentDescription    645693\n",
              "FinelineNumber           642925\n",
              "dtype: int64"
            ]
          },
          "execution_count": 6,
          "metadata": {},
          "output_type": "execute_result"
        }
      ],
      "source": [
        "train.count()"
      ]
    },
    {
      "cell_type": "code",
      "execution_count": null,
      "metadata": {
        "id": "SP-D1oIx1pS_",
        "outputId": "859e22da-9a7e-4e06-fe75-44dc169b5f49"
      },
      "outputs": [
        {
          "data": {
            "text/plain": [
              "40     174164\n",
              "39      95504\n",
              "37      38954\n",
              "38      29565\n",
              "25      27609\n",
              "7       23199\n",
              "8       22844\n",
              "36      21990\n",
              "44      20424\n",
              "42      19468\n",
              "24      18015\n",
              "999     17590\n",
              "9       16820\n",
              "32      13843\n",
              "5       13836\n",
              "35      12501\n",
              "33       9918\n",
              "15       7147\n",
              "3        6827\n",
              "43       6383\n",
              "41       5508\n",
              "30       4861\n",
              "34       4751\n",
              "27       4613\n",
              "21       4032\n",
              "22       3592\n",
              "6        3405\n",
              "20       3116\n",
              "18       2977\n",
              "28       2664\n",
              "26       2507\n",
              "12       2108\n",
              "29       2105\n",
              "31       1765\n",
              "19       1188\n",
              "4         901\n",
              "23        325\n",
              "14         35\n",
              "Name: TripType, dtype: int64"
            ]
          },
          "execution_count": 7,
          "metadata": {},
          "output_type": "execute_result"
        }
      ],
      "source": [
        "train.TripType.value_counts()"
      ]
    },
    {
      "cell_type": "markdown",
      "metadata": {
        "id": "ow-AJjr-1pTA"
      },
      "source": [
        "# 1. Understand the task.\n",
        "\n",
        "> Every single ml task has its features, and there are no universal solutions, only generally working principles.\n",
        "\n",
        "We need to predict type of the visit: `TripType`. Every row of the data table contains information about a single product not a visit, threfore we need to combine the information about the visit from all the purchases. \n",
        "\n",
        "![](https://github.com/YaroslavFYPM/iitp-ml-ds/blob/main/2023/seminar-6-gbt/trip-type.png?raw=1)\n",
        "\n",
        "Unfortunately, we do not have the information about customers, so we do not know if some of the Visits were performed by the same person.\n"
      ]
    },
    {
      "cell_type": "code",
      "execution_count": null,
      "metadata": {
        "id": "EMU45bY51pTA",
        "outputId": "f2bf9f78-ebfe-43ef-ae9c-f11d7df8b3d2"
      },
      "outputs": [
        {
          "data": {
            "text/html": [
              "<div>\n",
              "<style scoped>\n",
              "    .dataframe tbody tr th:only-of-type {\n",
              "        vertical-align: middle;\n",
              "    }\n",
              "\n",
              "    .dataframe tbody tr th {\n",
              "        vertical-align: top;\n",
              "    }\n",
              "\n",
              "    .dataframe thead th {\n",
              "        text-align: right;\n",
              "    }\n",
              "</style>\n",
              "<table border=\"1\" class=\"dataframe\">\n",
              "  <thead>\n",
              "    <tr style=\"text-align: right;\">\n",
              "      <th></th>\n",
              "      <th>TripType</th>\n",
              "      <th>VisitNumber</th>\n",
              "      <th>Weekday</th>\n",
              "      <th>Upc</th>\n",
              "      <th>ScanCount</th>\n",
              "      <th>DepartmentDescription</th>\n",
              "      <th>FinelineNumber</th>\n",
              "    </tr>\n",
              "  </thead>\n",
              "  <tbody>\n",
              "    <tr>\n",
              "      <th>0</th>\n",
              "      <td>999</td>\n",
              "      <td>5</td>\n",
              "      <td>Friday</td>\n",
              "      <td>6.811315e+10</td>\n",
              "      <td>-1</td>\n",
              "      <td>FINANCIAL SERVICES</td>\n",
              "      <td>1000.0</td>\n",
              "    </tr>\n",
              "    <tr>\n",
              "      <th>1</th>\n",
              "      <td>30</td>\n",
              "      <td>7</td>\n",
              "      <td>Friday</td>\n",
              "      <td>6.053882e+10</td>\n",
              "      <td>1</td>\n",
              "      <td>SHOES</td>\n",
              "      <td>8931.0</td>\n",
              "    </tr>\n",
              "    <tr>\n",
              "      <th>2</th>\n",
              "      <td>30</td>\n",
              "      <td>7</td>\n",
              "      <td>Friday</td>\n",
              "      <td>7.410811e+09</td>\n",
              "      <td>1</td>\n",
              "      <td>PERSONAL CARE</td>\n",
              "      <td>4504.0</td>\n",
              "    </tr>\n",
              "    <tr>\n",
              "      <th>3</th>\n",
              "      <td>26</td>\n",
              "      <td>8</td>\n",
              "      <td>Friday</td>\n",
              "      <td>2.238404e+09</td>\n",
              "      <td>2</td>\n",
              "      <td>PAINT AND ACCESSORIES</td>\n",
              "      <td>3565.0</td>\n",
              "    </tr>\n",
              "    <tr>\n",
              "      <th>4</th>\n",
              "      <td>26</td>\n",
              "      <td>8</td>\n",
              "      <td>Friday</td>\n",
              "      <td>2.006614e+09</td>\n",
              "      <td>2</td>\n",
              "      <td>PAINT AND ACCESSORIES</td>\n",
              "      <td>1017.0</td>\n",
              "    </tr>\n",
              "  </tbody>\n",
              "</table>\n",
              "</div>"
            ],
            "text/plain": [
              "   TripType  VisitNumber Weekday           Upc  ScanCount  \\\n",
              "0       999            5  Friday  6.811315e+10         -1   \n",
              "1        30            7  Friday  6.053882e+10          1   \n",
              "2        30            7  Friday  7.410811e+09          1   \n",
              "3        26            8  Friday  2.238404e+09          2   \n",
              "4        26            8  Friday  2.006614e+09          2   \n",
              "\n",
              "   DepartmentDescription  FinelineNumber  \n",
              "0     FINANCIAL SERVICES          1000.0  \n",
              "1                  SHOES          8931.0  \n",
              "2          PERSONAL CARE          4504.0  \n",
              "3  PAINT AND ACCESSORIES          3565.0  \n",
              "4  PAINT AND ACCESSORIES          1017.0  "
            ]
          },
          "execution_count": 8,
          "metadata": {},
          "output_type": "execute_result"
        }
      ],
      "source": [
        "train.head(5)"
      ]
    },
    {
      "cell_type": "code",
      "execution_count": null,
      "metadata": {
        "id": "zfGFcCyo1pTB"
      },
      "outputs": [],
      "source": []
    },
    {
      "cell_type": "markdown",
      "metadata": {
        "id": "4iwvgweY1pTB"
      },
      "source": [
        "# 2. Build a simple baseline model\n",
        "\n",
        "- Count number of purchases in a Visit\n",
        "- Create binary column `is_weekend`\n",
        "- Drop all the remaining columns"
      ]
    },
    {
      "cell_type": "code",
      "execution_count": null,
      "metadata": {
        "id": "1NK22WzD1pTB"
      },
      "outputs": [],
      "source": [
        "from sklearn.model_selection import train_test_split\n",
        "from sklearn.ensemble import RandomForestClassifier\n",
        "from sklearn.preprocessing import LabelEncoder"
      ]
    },
    {
      "cell_type": "code",
      "execution_count": null,
      "metadata": {
        "id": "CBl9rJQl1pTC"
      },
      "outputs": [],
      "source": [
        "def is_weekend(day):\n",
        "    return int(day in ['Saturday', 'Sunday'])\n",
        "\n",
        "df_train = train.copy()\n",
        "\n",
        "# Generate is_weekend\n",
        "df_train['is_weekend'] = df_train.Weekday.apply(is_weekend)\n",
        "\n",
        "# Generate n_products\n",
        "gp_n_products = df_train.groupby('VisitNumber')['ScanCount'].count()\n",
        "df_train['n_products'] = df_train.VisitNumber.map(gp_n_products)\n",
        "\n",
        "# drop duplicated Visit numbers\n",
        "df_train = df_train.drop_duplicates(subset=['VisitNumber']).reset_index(drop=True)\n",
        "\n",
        "# drop all columns except `is_weekend`, `n_products` and `TripType`\n",
        "df_train = df_train.drop(['VisitNumber', 'Weekday', 'Upc', 'ScanCount',\n",
        "                          'DepartmentDescription', 'FinelineNumber'], axis=1)\n",
        "\n",
        "# Encode TripType so unique values are from 0 to (m-1), where m is number of classes\n",
        "encoder = LabelEncoder().fit(df_train['TripType'])\n",
        "df_train['TripType_encoded'] =  encoder.transform(df_train['TripType'])\n",
        "df_train = df_train.drop('TripType', axis=1)\n",
        "\n",
        "# Create separate variables X and y\n",
        "X = df_train.drop('TripType_encoded', axis=1)\n",
        "y = df_train.TripType_encoded"
      ]
    },
    {
      "cell_type": "code",
      "execution_count": null,
      "metadata": {
        "id": "NYUvsKCW1pTC"
      },
      "outputs": [],
      "source": [
        "from sklearn.model_selection import train_test_split"
      ]
    },
    {
      "cell_type": "code",
      "execution_count": null,
      "metadata": {
        "id": "AURX8BCz1pTC"
      },
      "outputs": [],
      "source": [
        "# Split data into train and test, use parameter `stratify=y`\n",
        "\n",
        "X_train, X_test, y_train, y_test = train_test_split(X, y, test_size=0.20, random_state=774, stratify=y)"
      ]
    },
    {
      "cell_type": "code",
      "execution_count": null,
      "metadata": {
        "id": "UJqqmZRe1pTD"
      },
      "outputs": [],
      "source": [
        "from sklearn.ensemble import RandomForestClassifier\n",
        "from sklearn.metrics import log_loss"
      ]
    },
    {
      "cell_type": "code",
      "execution_count": null,
      "metadata": {
        "id": "8DwL_U0K1pTD",
        "outputId": "4aecefa3-713f-4532-eebe-079b9c68b2c9"
      },
      "outputs": [
        {
          "data": {
            "text/plain": [
              "RandomForestClassifier()"
            ]
          },
          "execution_count": 14,
          "metadata": {},
          "output_type": "execute_result"
        }
      ],
      "source": [
        "# train a RandomForest model with default hyperparameters\n",
        "\n",
        "clf = RandomForestClassifier()\n",
        "clf.fit(X_train, y_train)"
      ]
    },
    {
      "cell_type": "markdown",
      "metadata": {
        "id": "9BvfG7RX1pTE"
      },
      "source": [
        "---\n",
        "For this tash we are using a log loss $$- y \\log p - (1-y)\\log(1-p)$$\n",
        "in the following multi class form:\n",
        "\n",
        "$$\\frac{1}{N}\\sum_{i=1}^N \\log {\\left(\\frac{e^{a_{it_i}}}{\\sum_{j=0}^{M-1} e^{a_{ij}}}\\right)}$$\n",
        "\n",
        "$t \\in \\{0\\ldots M-1\\}$, $M$ is number of classes, $N$ is number of objects. Numerator is $a_{it_{i}}$ = \\[ unnormalized probability of an $i$'th object to be assigned to the right class $t_i$\\], thus:\n",
        "\n",
        "$$p_{it_i} = \\frac{e^{a_{it_i}}}{\\sum_{j=0}^{M-1} e^{a_{ij}}}$$\n",
        "\n",
        "see for example https://towardsdatascience.com/cross-entropy-for-classification-d98e7f974451"
      ]
    },
    {
      "cell_type": "code",
      "execution_count": null,
      "metadata": {
        "id": "sM3-sgHG1pTE",
        "outputId": "49d18b7d-5cf9-4920-83f9-9645f8e1b87a"
      },
      "outputs": [
        {
          "data": {
            "text/plain": [
              "2.6265851020452513"
            ]
          },
          "execution_count": 15,
          "metadata": {},
          "output_type": "execute_result"
        }
      ],
      "source": [
        "# predict y_test and compute multi-class log loss of your prediction\n",
        "\n",
        "y_pred = clf.predict_proba(X_test)\n",
        "log_loss(y_test, y_pred)"
      ]
    },
    {
      "cell_type": "code",
      "execution_count": null,
      "metadata": {
        "id": "70kD-0dI1pTE",
        "outputId": "543a2c5c-8261-49fc-9746-11f7c6246d17"
      },
      "outputs": [
        {
          "data": {
            "text/plain": [
              "(19135, 38)"
            ]
          },
          "execution_count": 16,
          "metadata": {},
          "output_type": "execute_result"
        }
      ],
      "source": [
        "y_pred.shape"
      ]
    },
    {
      "cell_type": "code",
      "execution_count": null,
      "metadata": {
        "id": "aaaOsT_d1pTF"
      },
      "outputs": [],
      "source": [
        "from sklearn.metrics import accuracy_score"
      ]
    },
    {
      "cell_type": "code",
      "execution_count": null,
      "metadata": {
        "id": "vag2kfbp1pTF",
        "outputId": "14b4522f-9c7a-4956-cb9f-86efbb26dd61"
      },
      "outputs": [
        {
          "data": {
            "text/plain": [
              "0.27640449438202247"
            ]
          },
          "execution_count": 18,
          "metadata": {},
          "output_type": "execute_result"
        }
      ],
      "source": [
        "# just to get an intuition on whether it is a good a bad prediction compute an accuracy of your model\n",
        "\n",
        "y_pred = clf.predict(X_test)\n",
        "accuracy_score(y_test, y_pred)"
      ]
    },
    {
      "cell_type": "code",
      "execution_count": null,
      "metadata": {
        "id": "ChfglRW_1pTG",
        "outputId": "5f211420-8605-49b8-9495-d8a74c8816a8"
      },
      "outputs": [
        {
          "data": {
            "text/plain": [
              "(array([ 5, 31, 32]), array([9480, 7923, 1732]))"
            ]
          },
          "execution_count": 19,
          "metadata": {},
          "output_type": "execute_result"
        }
      ],
      "source": [
        "# Remember this is a 38 class classification, count predicted classes\n",
        "\n",
        "np.unique(y_pred, return_counts=True)"
      ]
    },
    {
      "cell_type": "code",
      "execution_count": null,
      "metadata": {
        "id": "Bp8Aztb_1pTG",
        "outputId": "f063b7de-86dd-4428-fedc-ac7c09f3c79e"
      },
      "outputs": [
        {
          "data": {
            "text/plain": [
              "5     9729\n",
              "31    7917\n",
              "6     7571\n",
              "37    6755\n",
              "32    4904\n",
              "4     4602\n",
              "2     3674\n",
              "17    2958\n",
              "0     2914\n",
              "28    2404\n",
              "30    2330\n",
              "29    2230\n",
              "16    2087\n",
              "27    1624\n",
              "24    1587\n",
              "34    1486\n",
              "25    1052\n",
              "3     1022\n",
              "36     950\n",
              "22     865\n",
              "9      782\n",
              "14     742\n",
              "35     698\n",
              "19     628\n",
              "26     575\n",
              "13     513\n",
              "12     510\n",
              "23     475\n",
              "33     466\n",
              "10     439\n",
              "18     403\n",
              "20     394\n",
              "21     347\n",
              "11     300\n",
              "1      277\n",
              "7      215\n",
              "15     111\n",
              "8        3\n",
              "Name: TripType_encoded, dtype: int64"
            ]
          },
          "execution_count": 20,
          "metadata": {},
          "output_type": "execute_result"
        }
      ],
      "source": [
        "# Check value counts of a TripType on a train set\n",
        "\n",
        "y_train.value_counts()"
      ]
    },
    {
      "cell_type": "markdown",
      "metadata": {
        "id": "l_0oB6M51pTG"
      },
      "source": [
        "## Compare with the constant prediction\n"
      ]
    },
    {
      "cell_type": "code",
      "execution_count": null,
      "metadata": {
        "id": "dMmpn9Rx1pTH",
        "outputId": "01faa268-cd72-483a-a8c1-90a4a69425a7"
      },
      "outputs": [
        {
          "name": "stdout",
          "output_type": "stream",
          "text": [
            "0.1270969427750196\n",
            "30.149003507927553\n"
          ]
        }
      ],
      "source": [
        "# Compute a log loss and an accuracy of a constant prediction (predict most frequent TripType)\n",
        "\n",
        "y_dummy = [5]*19135\n",
        "print(accuracy_score(y_test, y_dummy))\n",
        "\n",
        "y_dummy_proba = np.zeros((19135, 38))\n",
        "y_dummy_proba[:, 5] = 1\n",
        "print(log_loss(y_test, y_dummy_proba))"
      ]
    },
    {
      "cell_type": "code",
      "execution_count": null,
      "metadata": {
        "id": "4md2QqAe1pTH"
      },
      "outputs": [],
      "source": []
    },
    {
      "cell_type": "markdown",
      "metadata": {
        "id": "nMdjC7bp1pTH"
      },
      "source": [
        "## Conclusions on the baseline\n",
        "1. Even with this simple features and relatively stupid predictions we are better than a constant prediction.\n",
        "2. Classifier mostly predicts frequent classes.\n",
        "3. Some frequent classes are predicted and some are not. This may be due to the fact that predicted\n",
        "classes are better described by the generated features."
      ]
    },
    {
      "cell_type": "code",
      "execution_count": null,
      "metadata": {
        "id": "IGW788121pTI"
      },
      "outputs": [],
      "source": []
    },
    {
      "cell_type": "markdown",
      "metadata": {
        "id": "pERXvJLo1pTI"
      },
      "source": [
        "# 3. Deeper look on the features.\n",
        "\n",
        "### Columns description\n",
        "\n",
        "- `TripType` - a categorical id representing the type of shopping trip the customer made. This is the ground truth that you are predicting. TripType_999 is an \"other\" category.\n",
        "- `VisitNumber` - an id corresponding to a single trip by a single customer\n",
        "- `Weekday` - the weekday of the trip\n",
        "- `Upc`- the UPC number of the product purchased\n",
        "- `ScanCount` - the number of the given item that was purchased. A negative value indicates a product return.\n",
        "- `DepartmentDescription` - a high-level description of the item's department\n",
        "- `FinelineNumber` - a more refined category for each of the products, created by Walmart\n"
      ]
    },
    {
      "cell_type": "code",
      "execution_count": null,
      "metadata": {
        "id": "-EJaT9iC1pTI",
        "outputId": "0f806bf7-0b7a-4db8-9930-35d658234712"
      },
      "outputs": [
        {
          "data": {
            "text/html": [
              "<div>\n",
              "<style scoped>\n",
              "    .dataframe tbody tr th:only-of-type {\n",
              "        vertical-align: middle;\n",
              "    }\n",
              "\n",
              "    .dataframe tbody tr th {\n",
              "        vertical-align: top;\n",
              "    }\n",
              "\n",
              "    .dataframe thead th {\n",
              "        text-align: right;\n",
              "    }\n",
              "</style>\n",
              "<table border=\"1\" class=\"dataframe\">\n",
              "  <thead>\n",
              "    <tr style=\"text-align: right;\">\n",
              "      <th></th>\n",
              "      <th>TripType</th>\n",
              "      <th>VisitNumber</th>\n",
              "      <th>Weekday</th>\n",
              "      <th>Upc</th>\n",
              "      <th>ScanCount</th>\n",
              "      <th>DepartmentDescription</th>\n",
              "      <th>FinelineNumber</th>\n",
              "    </tr>\n",
              "  </thead>\n",
              "  <tbody>\n",
              "    <tr>\n",
              "      <th>0</th>\n",
              "      <td>999</td>\n",
              "      <td>5</td>\n",
              "      <td>Friday</td>\n",
              "      <td>6.811315e+10</td>\n",
              "      <td>-1</td>\n",
              "      <td>FINANCIAL SERVICES</td>\n",
              "      <td>1000.0</td>\n",
              "    </tr>\n",
              "    <tr>\n",
              "      <th>1</th>\n",
              "      <td>30</td>\n",
              "      <td>7</td>\n",
              "      <td>Friday</td>\n",
              "      <td>6.053882e+10</td>\n",
              "      <td>1</td>\n",
              "      <td>SHOES</td>\n",
              "      <td>8931.0</td>\n",
              "    </tr>\n",
              "    <tr>\n",
              "      <th>2</th>\n",
              "      <td>30</td>\n",
              "      <td>7</td>\n",
              "      <td>Friday</td>\n",
              "      <td>7.410811e+09</td>\n",
              "      <td>1</td>\n",
              "      <td>PERSONAL CARE</td>\n",
              "      <td>4504.0</td>\n",
              "    </tr>\n",
              "    <tr>\n",
              "      <th>3</th>\n",
              "      <td>26</td>\n",
              "      <td>8</td>\n",
              "      <td>Friday</td>\n",
              "      <td>2.238404e+09</td>\n",
              "      <td>2</td>\n",
              "      <td>PAINT AND ACCESSORIES</td>\n",
              "      <td>3565.0</td>\n",
              "    </tr>\n",
              "    <tr>\n",
              "      <th>4</th>\n",
              "      <td>26</td>\n",
              "      <td>8</td>\n",
              "      <td>Friday</td>\n",
              "      <td>2.006614e+09</td>\n",
              "      <td>2</td>\n",
              "      <td>PAINT AND ACCESSORIES</td>\n",
              "      <td>1017.0</td>\n",
              "    </tr>\n",
              "  </tbody>\n",
              "</table>\n",
              "</div>"
            ],
            "text/plain": [
              "   TripType  VisitNumber Weekday           Upc  ScanCount  \\\n",
              "0       999            5  Friday  6.811315e+10         -1   \n",
              "1        30            7  Friday  6.053882e+10          1   \n",
              "2        30            7  Friday  7.410811e+09          1   \n",
              "3        26            8  Friday  2.238404e+09          2   \n",
              "4        26            8  Friday  2.006614e+09          2   \n",
              "\n",
              "   DepartmentDescription  FinelineNumber  \n",
              "0     FINANCIAL SERVICES          1000.0  \n",
              "1                  SHOES          8931.0  \n",
              "2          PERSONAL CARE          4504.0  \n",
              "3  PAINT AND ACCESSORIES          3565.0  \n",
              "4  PAINT AND ACCESSORIES          1017.0  "
            ]
          },
          "execution_count": 22,
          "metadata": {},
          "output_type": "execute_result"
        }
      ],
      "source": [
        "train.head()"
      ]
    },
    {
      "cell_type": "code",
      "execution_count": null,
      "metadata": {
        "id": "vht1RRvT1pTI",
        "outputId": "3923d994-89cd-452a-850c-dd53504e5df2"
      },
      "outputs": [
        {
          "data": {
            "text/plain": [
              "TripType                   int64\n",
              "VisitNumber                int64\n",
              "Weekday                   object\n",
              "Upc                      float64\n",
              "ScanCount                  int64\n",
              "DepartmentDescription     object\n",
              "FinelineNumber           float64\n",
              "dtype: object"
            ]
          },
          "execution_count": 23,
          "metadata": {},
          "output_type": "execute_result"
        }
      ],
      "source": [
        "train.dtypes"
      ]
    },
    {
      "cell_type": "markdown",
      "metadata": {
        "id": "vxiruG1U1pTJ"
      },
      "source": [
        "All features, except `ScanCount` are categorical, a negative value of a `ScanCount` indicates a product return.\n",
        "\n",
        "### 3.1 VisitNumber \n",
        "is an indicator of a visit, we need it to aggregate different purchases,\n",
        "but the number itself is not important it is just an index. Let's have a quick look on it."
      ]
    },
    {
      "cell_type": "code",
      "execution_count": null,
      "metadata": {
        "id": "7vEEGzXg1pTJ",
        "outputId": "cefc9dc7-1360-4a41-c22b-febaf715748c"
      },
      "outputs": [
        {
          "data": {
            "text/plain": [
              "72439     209\n",
              "88011     151\n",
              "9181      113\n",
              "60971     112\n",
              "65792     111\n",
              "         ... \n",
              "59978       1\n",
              "107116      1\n",
              "59988       1\n",
              "162017      1\n",
              "5           1\n",
              "Name: VisitNumber, Length: 95674, dtype: int64"
            ]
          },
          "execution_count": 24,
          "metadata": {},
          "output_type": "execute_result"
        }
      ],
      "source": [
        "train.VisitNumber.value_counts()"
      ]
    },
    {
      "cell_type": "code",
      "execution_count": null,
      "metadata": {
        "id": "P3Tz0kQY1pTK",
        "outputId": "0d297e3d-c38a-45c7-d26c-24773834ab48"
      },
      "outputs": [
        {
          "data": {
            "image/png": "[encoded data removed]",
            "text/plain": [
              "<Figure size 640x480 with 1 Axes>"
            ]
          },
          "metadata": {},
          "output_type": "display_data"
        }
      ],
      "source": [
        "sns.histplot(data=train.VisitNumber.value_counts(), bins=50);"
      ]
    },
    {
      "cell_type": "code",
      "execution_count": null,
      "metadata": {
        "id": "bdd1X5RZ1pTK",
        "outputId": "4c5181d0-95c4-4ef6-8a4c-6507133c3931"
      },
      "outputs": [
        {
          "data": {
            "text/plain": [
              "1     19563\n",
              "2     17255\n",
              "3     10362\n",
              "4      8038\n",
              "5      5884\n",
              "6      4633\n",
              "7      3716\n",
              "8      3154\n",
              "9      2593\n",
              "10     2251\n",
              "11     1889\n",
              "12     1746\n",
              "13     1519\n",
              "14     1253\n",
              "15     1207\n",
              "16     1030\n",
              "17      887\n",
              "18      772\n",
              "19      699\n",
              "20      674\n",
              "Name: VisitNumber, dtype: int64"
            ]
          },
          "execution_count": 26,
          "metadata": {},
          "output_type": "execute_result"
        }
      ],
      "source": [
        "train.VisitNumber.value_counts().value_counts().sort_index()[:20]"
      ]
    },
    {
      "cell_type": "markdown",
      "metadata": {
        "id": "D95hu_qY1pTK"
      },
      "source": [
        "--- \n",
        "\n",
        "- More than half of all Visit consists of 4 or less purchases\n",
        "- 90% of Visits consist of 17 or less purchases"
      ]
    },
    {
      "cell_type": "code",
      "execution_count": null,
      "metadata": {
        "id": "dIRixUc21pTL"
      },
      "outputs": [],
      "source": []
    },
    {
      "cell_type": "markdown",
      "metadata": {
        "id": "TwJOIFHr1pTL"
      },
      "source": [
        "### 3.2 Weekday"
      ]
    },
    {
      "cell_type": "code",
      "execution_count": null,
      "metadata": {
        "id": "5HyA01n_1pTL",
        "outputId": "5bd67eb7-c538-49dd-8a6e-3b08491fedd1"
      },
      "outputs": [
        {
          "data": {
            "text/plain": [
              "Monday        83130\n",
              "Tuesday       72529\n",
              "Wednesday     71115\n",
              "Thursday      67962\n",
              "Friday        96247\n",
              "Saturday     122096\n",
              "Sunday       133975\n",
              "Name: Weekday, dtype: int64"
            ]
          },
          "execution_count": 27,
          "metadata": {},
          "output_type": "execute_result"
        }
      ],
      "source": [
        "# How many visits are on different weekdays\n",
        "weekdays = ['Monday', 'Tuesday', 'Wednesday','Thursday','Friday', 'Saturday', 'Sunday']\n",
        "\n",
        "train.Weekday.value_counts().reindex(weekdays)"
      ]
    },
    {
      "cell_type": "code",
      "execution_count": null,
      "metadata": {
        "id": "M4ElpoE11pTL",
        "outputId": "063fb870-68e0-454a-93ad-53e5ecbee11d"
      },
      "outputs": [
        {
          "data": {
            "text/plain": [
              "Weekday\n",
              "Monday       1926\n",
              "Tuesday      1878\n",
              "Wednesday    1871\n",
              "Thursday     1793\n",
              "Friday       2418\n",
              "Saturday     2763\n",
              "Sunday       2809\n",
              "Name: IsReturn, dtype: int64"
            ]
          },
          "execution_count": 28,
          "metadata": {},
          "output_type": "execute_result"
        }
      ],
      "source": [
        "# Do we have more returns on some weekdays?\n",
        "\n",
        "train['IsReturn'] = train['ScanCount'].apply(lambda x: x < 0)\n",
        "train.groupby(['Weekday'])['IsReturn'].sum().sort_values().reindex(weekdays)"
      ]
    },
    {
      "cell_type": "code",
      "execution_count": null,
      "metadata": {
        "id": "bcuUMFEL1pTM",
        "outputId": "fc5ae180-a59b-4ae0-adb1-81184bb7a380"
      },
      "outputs": [
        {
          "data": {
            "text/plain": [
              "-1     14394\n",
              "-2       814\n",
              "-3       143\n",
              "-4        76\n",
              "-5        16\n",
              "-6        10\n",
              "-9         2\n",
              "-12        1\n",
              "-7         1\n",
              "-10        1\n",
              "Name: ScanCount, dtype: int64"
            ]
          },
          "execution_count": 29,
          "metadata": {},
          "output_type": "execute_result"
        }
      ],
      "source": [
        "# Is there only `-1` returns?\n",
        "\n",
        "train[train.IsReturn].ScanCount.value_counts()"
      ]
    },
    {
      "cell_type": "markdown",
      "metadata": {
        "id": "AFborRFn1pTM"
      },
      "source": [
        "### 3.3 DepartmentDescription"
      ]
    },
    {
      "cell_type": "code",
      "execution_count": null,
      "metadata": {
        "id": "Tn2bsJG51pTM",
        "outputId": "ceb8efb9-2c43-4d58-c245-b8d5aa779d2c"
      },
      "outputs": [
        {
          "data": {
            "text/plain": [
              "DepartmentDescription\n",
              "GROCERY DRY GOODS              88718\n",
              "DSD GROCERY                    79814\n",
              "PRODUCE                        52813\n",
              "DAIRY                          50550\n",
              "PERSONAL CARE                  44819\n",
              "IMPULSE MERCHANDISE            31811\n",
              "HOUSEHOLD CHEMICALS/SUPP       26915\n",
              "PHARMACY OTC                   25620\n",
              "FROZEN FOODS                   25368\n",
              "HOUSEHOLD PAPER GOODS          17986\n",
              "COMM BREAD                     17516\n",
              "BEAUTY                         15077\n",
              "INFANT CONSUMABLE HARDLINES    13149\n",
              "PETS AND SUPPLIES              12592\n",
              "CANDY, TOBACCO, COOKIES        11745\n",
              "MENS WEAR                      11690\n",
              "MEAT - FRESH & FROZEN          10882\n",
              "SERVICE DELI                   10777\n",
              "PRE PACKED DELI                10722\n",
              "CELEBRATION                     9957\n",
              "Name: ScanCount, dtype: int64"
            ]
          },
          "execution_count": 30,
          "metadata": {},
          "output_type": "execute_result"
        }
      ],
      "source": [
        "# What are the most popular Departments? (total sum over ScanCount)\n",
        "\n",
        "train.groupby('DepartmentDescription').ScanCount.sum().sort_values(ascending=False)[:20]"
      ]
    },
    {
      "cell_type": "code",
      "execution_count": null,
      "metadata": {
        "id": "uRTyxrXc1pTN",
        "outputId": "3434026a-67f7-4070-e220-b8aff5a97cda"
      },
      "outputs": [
        {
          "data": {
            "text/html": [
              "<div>\n",
              "<style scoped>\n",
              "    .dataframe tbody tr th:only-of-type {\n",
              "        vertical-align: middle;\n",
              "    }\n",
              "\n",
              "    .dataframe tbody tr th {\n",
              "        vertical-align: top;\n",
              "    }\n",
              "\n",
              "    .dataframe thead th {\n",
              "        text-align: right;\n",
              "    }\n",
              "</style>\n",
              "<table border=\"1\" class=\"dataframe\">\n",
              "  <thead>\n",
              "    <tr style=\"text-align: right;\">\n",
              "      <th></th>\n",
              "      <th>TripType</th>\n",
              "      <th>Count</th>\n",
              "      <th>DepartmentDescription</th>\n",
              "    </tr>\n",
              "  </thead>\n",
              "  <tbody>\n",
              "    <tr>\n",
              "      <th>0</th>\n",
              "      <td>3</td>\n",
              "      <td>5369</td>\n",
              "      <td>FINANCIAL SERVICES</td>\n",
              "    </tr>\n",
              "    <tr>\n",
              "      <th>1</th>\n",
              "      <td>3</td>\n",
              "      <td>804</td>\n",
              "      <td>IMPULSE MERCHANDISE</td>\n",
              "    </tr>\n",
              "    <tr>\n",
              "      <th>2</th>\n",
              "      <td>3</td>\n",
              "      <td>76</td>\n",
              "      <td>LARGE HOUSEHOLD GOODS</td>\n",
              "    </tr>\n",
              "    <tr>\n",
              "      <th>3</th>\n",
              "      <td>4</td>\n",
              "      <td>563</td>\n",
              "      <td>PHARMACY OTC</td>\n",
              "    </tr>\n",
              "    <tr>\n",
              "      <th>4</th>\n",
              "      <td>4</td>\n",
              "      <td>73</td>\n",
              "      <td>DSD GROCERY</td>\n",
              "    </tr>\n",
              "    <tr>\n",
              "      <th>5</th>\n",
              "      <td>4</td>\n",
              "      <td>47</td>\n",
              "      <td>IMPULSE MERCHANDISE</td>\n",
              "    </tr>\n",
              "    <tr>\n",
              "      <th>6</th>\n",
              "      <td>5</td>\n",
              "      <td>5281</td>\n",
              "      <td>PHARMACY OTC</td>\n",
              "    </tr>\n",
              "    <tr>\n",
              "      <th>7</th>\n",
              "      <td>5</td>\n",
              "      <td>2714</td>\n",
              "      <td>PHARMACY RX</td>\n",
              "    </tr>\n",
              "    <tr>\n",
              "      <th>8</th>\n",
              "      <td>5</td>\n",
              "      <td>922</td>\n",
              "      <td>PERSONAL CARE</td>\n",
              "    </tr>\n",
              "    <tr>\n",
              "      <th>9</th>\n",
              "      <td>6</td>\n",
              "      <td>1000</td>\n",
              "      <td>LIQUOR,WINE,BEER</td>\n",
              "    </tr>\n",
              "    <tr>\n",
              "      <th>10</th>\n",
              "      <td>6</td>\n",
              "      <td>674</td>\n",
              "      <td>CANDY, TOBACCO, COOKIES</td>\n",
              "    </tr>\n",
              "    <tr>\n",
              "      <th>11</th>\n",
              "      <td>6</td>\n",
              "      <td>360</td>\n",
              "      <td>DSD GROCERY</td>\n",
              "    </tr>\n",
              "    <tr>\n",
              "      <th>12</th>\n",
              "      <td>7</td>\n",
              "      <td>3669</td>\n",
              "      <td>SERVICE DELI</td>\n",
              "    </tr>\n",
              "    <tr>\n",
              "      <th>13</th>\n",
              "      <td>7</td>\n",
              "      <td>3354</td>\n",
              "      <td>GROCERY DRY GOODS</td>\n",
              "    </tr>\n",
              "    <tr>\n",
              "      <th>14</th>\n",
              "      <td>7</td>\n",
              "      <td>3022</td>\n",
              "      <td>PRODUCE</td>\n",
              "    </tr>\n",
              "  </tbody>\n",
              "</table>\n",
              "</div>"
            ],
            "text/plain": [
              "    TripType  Count    DepartmentDescription\n",
              "0          3   5369       FINANCIAL SERVICES\n",
              "1          3    804      IMPULSE MERCHANDISE\n",
              "2          3     76    LARGE HOUSEHOLD GOODS\n",
              "3          4    563             PHARMACY OTC\n",
              "4          4     73              DSD GROCERY\n",
              "5          4     47      IMPULSE MERCHANDISE\n",
              "6          5   5281             PHARMACY OTC\n",
              "7          5   2714              PHARMACY RX\n",
              "8          5    922            PERSONAL CARE\n",
              "9          6   1000         LIQUOR,WINE,BEER\n",
              "10         6    674  CANDY, TOBACCO, COOKIES\n",
              "11         6    360              DSD GROCERY\n",
              "12         7   3669             SERVICE DELI\n",
              "13         7   3354        GROCERY DRY GOODS\n",
              "14         7   3022                  PRODUCE"
            ]
          },
          "execution_count": 31,
          "metadata": {},
          "output_type": "execute_result"
        }
      ],
      "source": [
        "# Does most popular DepartmentDescription differ for different TripTypes?\n",
        "# > Allows to more or less deanonymize `TripType`.\n",
        "\n",
        "gp = train.groupby('TripType')['DepartmentDescription'].value_counts().reset_index(name='Count')\n",
        "gp2 = gp.groupby(['TripType'])[['Count','DepartmentDescription']]\\\n",
        "                                                           .apply(pd.DataFrame.nlargest, n=3, columns=['Count'])\\\n",
        "                                                           .reset_index()\\\n",
        "                                                           .drop('level_1', axis=1)\n",
        "\n",
        "gp2[:15]"
      ]
    },
    {
      "cell_type": "code",
      "execution_count": null,
      "metadata": {
        "id": "5EbMUjXD1pTN",
        "outputId": "16be41e1-f728-4734-f64d-a5ad236f1853"
      },
      "outputs": [
        {
          "data": {
            "text/html": [
              "<div>\n",
              "<style scoped>\n",
              "    .dataframe tbody tr th:only-of-type {\n",
              "        vertical-align: middle;\n",
              "    }\n",
              "\n",
              "    .dataframe tbody tr th {\n",
              "        vertical-align: top;\n",
              "    }\n",
              "\n",
              "    .dataframe thead th {\n",
              "        text-align: right;\n",
              "    }\n",
              "</style>\n",
              "<table border=\"1\" class=\"dataframe\">\n",
              "  <thead>\n",
              "    <tr style=\"text-align: right;\">\n",
              "      <th></th>\n",
              "      <th>TripType</th>\n",
              "      <th>Count</th>\n",
              "      <th>DepartmentDescription</th>\n",
              "    </tr>\n",
              "  </thead>\n",
              "  <tbody>\n",
              "    <tr>\n",
              "      <th>51</th>\n",
              "      <td>25</td>\n",
              "      <td>5381</td>\n",
              "      <td>MENS WEAR</td>\n",
              "    </tr>\n",
              "    <tr>\n",
              "      <th>52</th>\n",
              "      <td>25</td>\n",
              "      <td>3716</td>\n",
              "      <td>LADIESWEAR</td>\n",
              "    </tr>\n",
              "    <tr>\n",
              "      <th>53</th>\n",
              "      <td>25</td>\n",
              "      <td>1836</td>\n",
              "      <td>GIRLS WEAR, 4-6X  AND 7-14</td>\n",
              "    </tr>\n",
              "    <tr>\n",
              "      <th>87</th>\n",
              "      <td>37</td>\n",
              "      <td>13351</td>\n",
              "      <td>PRODUCE</td>\n",
              "    </tr>\n",
              "    <tr>\n",
              "      <th>88</th>\n",
              "      <td>37</td>\n",
              "      <td>5477</td>\n",
              "      <td>GROCERY DRY GOODS</td>\n",
              "    </tr>\n",
              "    <tr>\n",
              "      <th>89</th>\n",
              "      <td>37</td>\n",
              "      <td>3667</td>\n",
              "      <td>DAIRY</td>\n",
              "    </tr>\n",
              "    <tr>\n",
              "      <th>90</th>\n",
              "      <td>38</td>\n",
              "      <td>7252</td>\n",
              "      <td>DAIRY</td>\n",
              "    </tr>\n",
              "    <tr>\n",
              "      <th>91</th>\n",
              "      <td>38</td>\n",
              "      <td>6417</td>\n",
              "      <td>GROCERY DRY GOODS</td>\n",
              "    </tr>\n",
              "    <tr>\n",
              "      <th>92</th>\n",
              "      <td>38</td>\n",
              "      <td>4020</td>\n",
              "      <td>DSD GROCERY</td>\n",
              "    </tr>\n",
              "    <tr>\n",
              "      <th>93</th>\n",
              "      <td>39</td>\n",
              "      <td>12956</td>\n",
              "      <td>DSD GROCERY</td>\n",
              "    </tr>\n",
              "    <tr>\n",
              "      <th>94</th>\n",
              "      <td>39</td>\n",
              "      <td>12602</td>\n",
              "      <td>GROCERY DRY GOODS</td>\n",
              "    </tr>\n",
              "    <tr>\n",
              "      <th>95</th>\n",
              "      <td>39</td>\n",
              "      <td>8126</td>\n",
              "      <td>PERSONAL CARE</td>\n",
              "    </tr>\n",
              "    <tr>\n",
              "      <th>96</th>\n",
              "      <td>40</td>\n",
              "      <td>32639</td>\n",
              "      <td>GROCERY DRY GOODS</td>\n",
              "    </tr>\n",
              "    <tr>\n",
              "      <th>97</th>\n",
              "      <td>40</td>\n",
              "      <td>22157</td>\n",
              "      <td>DSD GROCERY</td>\n",
              "    </tr>\n",
              "    <tr>\n",
              "      <th>98</th>\n",
              "      <td>40</td>\n",
              "      <td>17354</td>\n",
              "      <td>DAIRY</td>\n",
              "    </tr>\n",
              "  </tbody>\n",
              "</table>\n",
              "</div>"
            ],
            "text/plain": [
              "    TripType  Count       DepartmentDescription\n",
              "51        25   5381                   MENS WEAR\n",
              "52        25   3716                  LADIESWEAR\n",
              "53        25   1836  GIRLS WEAR, 4-6X  AND 7-14\n",
              "87        37  13351                     PRODUCE\n",
              "88        37   5477           GROCERY DRY GOODS\n",
              "89        37   3667                       DAIRY\n",
              "90        38   7252                       DAIRY\n",
              "91        38   6417           GROCERY DRY GOODS\n",
              "92        38   4020                 DSD GROCERY\n",
              "93        39  12956                 DSD GROCERY\n",
              "94        39  12602           GROCERY DRY GOODS\n",
              "95        39   8126               PERSONAL CARE\n",
              "96        40  32639           GROCERY DRY GOODS\n",
              "97        40  22157                 DSD GROCERY\n",
              "98        40  17354                       DAIRY"
            ]
          },
          "execution_count": 32,
          "metadata": {},
          "output_type": "execute_result"
        }
      ],
      "source": [
        "# From our baseline, recall most popular TripTypes, let's deanonymize them.\n",
        "# Select subset of the previous table with TripType in [40, 39, 37, 38, 25]\n",
        "\n",
        "gp2[gp2.TripType.isin([40, 39, 37, 38, 25])]"
      ]
    },
    {
      "cell_type": "code",
      "execution_count": null,
      "metadata": {
        "id": "CsBoJ1wL1pTN",
        "outputId": "56f43d7b-13ec-4a03-84e9-b0a9b288bbe7"
      },
      "outputs": [
        {
          "data": {
            "text/plain": [
              "DepartmentDescription\n",
              "FINANCIAL SERVICES          1162\n",
              "LADIESWEAR                   800\n",
              "PRODUCE                      733\n",
              "PERSONAL CARE                682\n",
              "DSD GROCERY                  679\n",
              "MENS WEAR                    634\n",
              "GROCERY DRY GOODS            606\n",
              "PHARMACY OTC                 472\n",
              "IMPULSE MERCHANDISE          453\n",
              "BEAUTY                       452\n",
              "ELECTRONICS                  450\n",
              "HOUSEHOLD CHEMICALS/SUPP     392\n",
              "COOK AND DINE                382\n",
              "TOYS                         356\n",
              "DAIRY                        343\n",
              "Name: IsReturn, dtype: int64"
            ]
          },
          "execution_count": 33,
          "metadata": {},
          "output_type": "execute_result"
        }
      ],
      "source": [
        "# What are the DepartmentDescription with most returns?\n",
        "\n",
        "train.groupby('DepartmentDescription')['IsReturn'].sum().sort_values(ascending=False)[:15]"
      ]
    },
    {
      "cell_type": "code",
      "execution_count": null,
      "metadata": {
        "id": "qghjSWGc1pTO"
      },
      "outputs": [],
      "source": []
    },
    {
      "cell_type": "markdown",
      "metadata": {
        "id": "_Wo6gVvo1pTO"
      },
      "source": [
        "### 3.4 FinelineNumber\n",
        "\n",
        "> according to the data description `FinelineNumber` is just a more detailed `DepartmentDescription`"
      ]
    },
    {
      "cell_type": "code",
      "execution_count": null,
      "metadata": {
        "id": "vOdrUR511pTO",
        "outputId": "f6682773-70dc-44e3-e5b5-c7093febf3ed"
      },
      "outputs": [
        {
          "data": {
            "text/html": [
              "<div>\n",
              "<style scoped>\n",
              "    .dataframe tbody tr th:only-of-type {\n",
              "        vertical-align: middle;\n",
              "    }\n",
              "\n",
              "    .dataframe tbody tr th {\n",
              "        vertical-align: top;\n",
              "    }\n",
              "\n",
              "    .dataframe thead th {\n",
              "        text-align: right;\n",
              "    }\n",
              "</style>\n",
              "<table border=\"1\" class=\"dataframe\">\n",
              "  <thead>\n",
              "    <tr style=\"text-align: right;\">\n",
              "      <th>DepartmentDescription</th>\n",
              "      <th>DAIRY</th>\n",
              "      <th>DSD GROCERY</th>\n",
              "      <th>GROCERY DRY GOODS</th>\n",
              "      <th>HOUSEHOLD CHEMICALS/SUPP</th>\n",
              "      <th>HOUSEHOLD PAPER GOODS</th>\n",
              "      <th>IMPULSE MERCHANDISE</th>\n",
              "      <th>PERSONAL CARE</th>\n",
              "      <th>PHARMACY OTC</th>\n",
              "      <th>PRODUCE</th>\n",
              "    </tr>\n",
              "    <tr>\n",
              "      <th>FinelineNumber</th>\n",
              "      <th></th>\n",
              "      <th></th>\n",
              "      <th></th>\n",
              "      <th></th>\n",
              "      <th></th>\n",
              "      <th></th>\n",
              "      <th></th>\n",
              "      <th></th>\n",
              "      <th></th>\n",
              "    </tr>\n",
              "  </thead>\n",
              "  <tbody>\n",
              "    <tr>\n",
              "      <th>100.0</th>\n",
              "      <td>0</td>\n",
              "      <td>0</td>\n",
              "      <td>95</td>\n",
              "      <td>0</td>\n",
              "      <td>0</td>\n",
              "      <td>2354</td>\n",
              "      <td>0</td>\n",
              "      <td>0</td>\n",
              "      <td>69</td>\n",
              "    </tr>\n",
              "    <tr>\n",
              "      <th>110.0</th>\n",
              "      <td>0</td>\n",
              "      <td>0</td>\n",
              "      <td>0</td>\n",
              "      <td>536</td>\n",
              "      <td>770</td>\n",
              "      <td>773</td>\n",
              "      <td>0</td>\n",
              "      <td>0</td>\n",
              "      <td>0</td>\n",
              "    </tr>\n",
              "    <tr>\n",
              "      <th>115.0</th>\n",
              "      <td>0</td>\n",
              "      <td>0</td>\n",
              "      <td>0</td>\n",
              "      <td>10</td>\n",
              "      <td>0</td>\n",
              "      <td>2576</td>\n",
              "      <td>0</td>\n",
              "      <td>0</td>\n",
              "      <td>0</td>\n",
              "    </tr>\n",
              "    <tr>\n",
              "      <th>135.0</th>\n",
              "      <td>0</td>\n",
              "      <td>0</td>\n",
              "      <td>0</td>\n",
              "      <td>0</td>\n",
              "      <td>0</td>\n",
              "      <td>4417</td>\n",
              "      <td>26</td>\n",
              "      <td>0</td>\n",
              "      <td>0</td>\n",
              "    </tr>\n",
              "    <tr>\n",
              "      <th>203.0</th>\n",
              "      <td>0</td>\n",
              "      <td>0</td>\n",
              "      <td>0</td>\n",
              "      <td>0</td>\n",
              "      <td>69</td>\n",
              "      <td>0</td>\n",
              "      <td>2353</td>\n",
              "      <td>0</td>\n",
              "      <td>0</td>\n",
              "    </tr>\n",
              "    <tr>\n",
              "      <th>808.0</th>\n",
              "      <td>0</td>\n",
              "      <td>0</td>\n",
              "      <td>0</td>\n",
              "      <td>0</td>\n",
              "      <td>0</td>\n",
              "      <td>4200</td>\n",
              "      <td>140</td>\n",
              "      <td>0</td>\n",
              "      <td>0</td>\n",
              "    </tr>\n",
              "    <tr>\n",
              "      <th>1407.0</th>\n",
              "      <td>2659</td>\n",
              "      <td>0</td>\n",
              "      <td>0</td>\n",
              "      <td>0</td>\n",
              "      <td>0</td>\n",
              "      <td>0</td>\n",
              "      <td>177</td>\n",
              "      <td>0</td>\n",
              "      <td>0</td>\n",
              "    </tr>\n",
              "    <tr>\n",
              "      <th>1508.0</th>\n",
              "      <td>4961</td>\n",
              "      <td>0</td>\n",
              "      <td>0</td>\n",
              "      <td>0</td>\n",
              "      <td>0</td>\n",
              "      <td>0</td>\n",
              "      <td>0</td>\n",
              "      <td>0</td>\n",
              "      <td>0</td>\n",
              "    </tr>\n",
              "    <tr>\n",
              "      <th>3004.0</th>\n",
              "      <td>0</td>\n",
              "      <td>1074</td>\n",
              "      <td>109</td>\n",
              "      <td>0</td>\n",
              "      <td>587</td>\n",
              "      <td>0</td>\n",
              "      <td>0</td>\n",
              "      <td>0</td>\n",
              "      <td>486</td>\n",
              "    </tr>\n",
              "    <tr>\n",
              "      <th>3555.0</th>\n",
              "      <td>0</td>\n",
              "      <td>0</td>\n",
              "      <td>2056</td>\n",
              "      <td>0</td>\n",
              "      <td>0</td>\n",
              "      <td>0</td>\n",
              "      <td>0</td>\n",
              "      <td>0</td>\n",
              "      <td>0</td>\n",
              "    </tr>\n",
              "    <tr>\n",
              "      <th>3600.0</th>\n",
              "      <td>0</td>\n",
              "      <td>0</td>\n",
              "      <td>2455</td>\n",
              "      <td>0</td>\n",
              "      <td>0</td>\n",
              "      <td>0</td>\n",
              "      <td>0</td>\n",
              "      <td>0</td>\n",
              "      <td>0</td>\n",
              "    </tr>\n",
              "    <tr>\n",
              "      <th>3601.0</th>\n",
              "      <td>0</td>\n",
              "      <td>37</td>\n",
              "      <td>261</td>\n",
              "      <td>0</td>\n",
              "      <td>0</td>\n",
              "      <td>0</td>\n",
              "      <td>0</td>\n",
              "      <td>0</td>\n",
              "      <td>2034</td>\n",
              "    </tr>\n",
              "    <tr>\n",
              "      <th>4606.0</th>\n",
              "      <td>0</td>\n",
              "      <td>2721</td>\n",
              "      <td>0</td>\n",
              "      <td>0</td>\n",
              "      <td>0</td>\n",
              "      <td>0</td>\n",
              "      <td>0</td>\n",
              "      <td>0</td>\n",
              "      <td>2</td>\n",
              "    </tr>\n",
              "    <tr>\n",
              "      <th>5501.0</th>\n",
              "      <td>0</td>\n",
              "      <td>0</td>\n",
              "      <td>0</td>\n",
              "      <td>0</td>\n",
              "      <td>0</td>\n",
              "      <td>0</td>\n",
              "      <td>0</td>\n",
              "      <td>2</td>\n",
              "      <td>7799</td>\n",
              "    </tr>\n",
              "    <tr>\n",
              "      <th>9546.0</th>\n",
              "      <td>0</td>\n",
              "      <td>2997</td>\n",
              "      <td>0</td>\n",
              "      <td>0</td>\n",
              "      <td>0</td>\n",
              "      <td>0</td>\n",
              "      <td>0</td>\n",
              "      <td>0</td>\n",
              "      <td>0</td>\n",
              "    </tr>\n",
              "  </tbody>\n",
              "</table>\n",
              "</div>"
            ],
            "text/plain": [
              "DepartmentDescription  DAIRY  DSD GROCERY  GROCERY DRY GOODS  \\\n",
              "FinelineNumber                                                 \n",
              "100.0                      0            0                 95   \n",
              "110.0                      0            0                  0   \n",
              "115.0                      0            0                  0   \n",
              "135.0                      0            0                  0   \n",
              "203.0                      0            0                  0   \n",
              "808.0                      0            0                  0   \n",
              "1407.0                  2659            0                  0   \n",
              "1508.0                  4961            0                  0   \n",
              "3004.0                     0         1074                109   \n",
              "3555.0                     0            0               2056   \n",
              "3600.0                     0            0               2455   \n",
              "3601.0                     0           37                261   \n",
              "4606.0                     0         2721                  0   \n",
              "5501.0                     0            0                  0   \n",
              "9546.0                     0         2997                  0   \n",
              "\n",
              "DepartmentDescription  HOUSEHOLD CHEMICALS/SUPP  HOUSEHOLD PAPER GOODS  \\\n",
              "FinelineNumber                                                           \n",
              "100.0                                         0                      0   \n",
              "110.0                                       536                    770   \n",
              "115.0                                        10                      0   \n",
              "135.0                                         0                      0   \n",
              "203.0                                         0                     69   \n",
              "808.0                                         0                      0   \n",
              "1407.0                                        0                      0   \n",
              "1508.0                                        0                      0   \n",
              "3004.0                                        0                    587   \n",
              "3555.0                                        0                      0   \n",
              "3600.0                                        0                      0   \n",
              "3601.0                                        0                      0   \n",
              "4606.0                                        0                      0   \n",
              "5501.0                                        0                      0   \n",
              "9546.0                                        0                      0   \n",
              "\n",
              "DepartmentDescription  IMPULSE MERCHANDISE  PERSONAL CARE  PHARMACY OTC  \\\n",
              "FinelineNumber                                                            \n",
              "100.0                                 2354              0             0   \n",
              "110.0                                  773              0             0   \n",
              "115.0                                 2576              0             0   \n",
              "135.0                                 4417             26             0   \n",
              "203.0                                    0           2353             0   \n",
              "808.0                                 4200            140             0   \n",
              "1407.0                                   0            177             0   \n",
              "1508.0                                   0              0             0   \n",
              "3004.0                                   0              0             0   \n",
              "3555.0                                   0              0             0   \n",
              "3600.0                                   0              0             0   \n",
              "3601.0                                   0              0             0   \n",
              "4606.0                                   0              0             0   \n",
              "5501.0                                   0              0             2   \n",
              "9546.0                                   0              0             0   \n",
              "\n",
              "DepartmentDescription  PRODUCE  \n",
              "FinelineNumber                  \n",
              "100.0                       69  \n",
              "110.0                        0  \n",
              "115.0                        0  \n",
              "135.0                        0  \n",
              "203.0                        0  \n",
              "808.0                        0  \n",
              "1407.0                       0  \n",
              "1508.0                       0  \n",
              "3004.0                     486  \n",
              "3555.0                       0  \n",
              "3600.0                       0  \n",
              "3601.0                    2034  \n",
              "4606.0                       2  \n",
              "5501.0                    7799  \n",
              "9546.0                       0  "
            ]
          },
          "execution_count": 34,
          "metadata": {},
          "output_type": "execute_result"
        }
      ],
      "source": [
        "# Build a crosstab between DepartmentDescription and FinelineNumber,\n",
        "# for most popular DepartmentDescription (total ScanCount > 20_000)\n",
        "# and most popular FinelineNumber (total ScanCount > 2000)\n",
        "\n",
        "\n",
        "popular_dd = train.groupby('DepartmentDescription').ScanCount.sum().sort_values(ascending=False)[:10].index\n",
        "sub = train[train.DepartmentDescription.isin(popular_dd)]\n",
        "sub = sub[sub.FinelineNumber.isin(sub.FinelineNumber.value_counts().iloc[:15].index)]\n",
        "\n",
        "tab = pd.crosstab(sub.FinelineNumber, sub.DepartmentDescription)\n",
        "tab"
      ]
    },
    {
      "cell_type": "code",
      "execution_count": null,
      "metadata": {
        "id": "ZcCjOuo_1pTO"
      },
      "outputs": [],
      "source": []
    },
    {
      "cell_type": "markdown",
      "metadata": {
        "id": "8dGhMYbn1pTP"
      },
      "source": [
        "### 3.5 Upc"
      ]
    },
    {
      "cell_type": "code",
      "execution_count": null,
      "metadata": {
        "id": "O_qp8-I41pTP",
        "outputId": "6f1d7d94-7058-4b56-cad2-fa1cec058b6c"
      },
      "outputs": [
        {
          "data": {
            "text/plain": [
              "4.011000e+03    7657\n",
              "6.053886e+10    2501\n",
              "7.874235e+09    2067\n",
              "7.874235e+09    1883\n",
              "4.046000e+03    1652\n",
              "                ... \n",
              "1.714581e+09       1\n",
              "8.961101e+11       1\n",
              "7.461946e+10       1\n",
              "7.245368e+10       1\n",
              "5.440000e+09       1\n",
              "Name: Upc, Length: 97714, dtype: int64"
            ]
          },
          "execution_count": 35,
          "metadata": {},
          "output_type": "execute_result"
        }
      ],
      "source": [
        "train.Upc.value_counts()"
      ]
    },
    {
      "cell_type": "code",
      "execution_count": null,
      "metadata": {
        "id": "hccyoRG41pTP"
      },
      "outputs": [],
      "source": []
    },
    {
      "cell_type": "markdown",
      "metadata": {
        "id": "KouYWHKS1pTP"
      },
      "source": [
        "## Conclusions on EDA\n",
        "\n",
        " - Visits are mostly consist of small number of products\n",
        " - Large visits are on weekends\n",
        " - `TripType` depends on `DepartmentDescription` and `FinelineNumber`\n",
        " - `Upc` is something like a bar code, could be usefull but contains almost 100k unique values\n",
        " "
      ]
    },
    {
      "cell_type": "markdown",
      "metadata": {
        "id": "BWxhqvRM1pTQ"
      },
      "source": [
        "# 4. Generate features"
      ]
    },
    {
      "cell_type": "code",
      "execution_count": null,
      "metadata": {
        "id": "kvS_YVJX1pTQ"
      },
      "outputs": [],
      "source": [
        "train = pd.read_csv('train.csv')\n",
        "# test = pd.read_csv('walmart-recruiting-trip-type-classification/test.csv')"
      ]
    },
    {
      "cell_type": "code",
      "execution_count": null,
      "metadata": {
        "id": "RGr_EDwe1pTQ"
      },
      "outputs": [],
      "source": [
        "def return_nth(x, n=0):\n",
        "    try:\n",
        "        return x[n]\n",
        "    except:\n",
        "        return np.nan\n",
        "    \n",
        "def return_nth_val(x, n=0):\n",
        "    try:\n",
        "        return x[n]\n",
        "    except:\n",
        "        return 0\n",
        "    \n",
        "def is_weekend(x):\n",
        "    return int(x in ['Sunday', 'Saturday'])\n",
        "\n",
        "def has_return(x):\n",
        "    return int(any(_x < 0 for _x in x))\n",
        "\n",
        "def sum_return(x):\n",
        "    return np.sum([_x for _x in x if _x < 0])"
      ]
    },
    {
      "cell_type": "code",
      "execution_count": null,
      "metadata": {
        "id": "VhtIozfh1pTQ"
      },
      "outputs": [],
      "source": [
        "df = train.copy()"
      ]
    },
    {
      "cell_type": "code",
      "execution_count": null,
      "metadata": {
        "id": "BfaTXsbj1pTR"
      },
      "outputs": [],
      "source": [
        "def generate_features(df):\n",
        "    \n",
        "    df = df.copy()\n",
        "    \n",
        "    # 1. Most frequent DepartmentDescription in the purchase, second most frequent, third, fourth.\n",
        "    f = lambda grp: grp.value_counts().nlargest(6)\n",
        "    x = df.groupby('VisitNumber')['DepartmentDescription'].apply(f).reset_index()\n",
        "    gp = x.groupby('VisitNumber')['level_1'].unique()\n",
        "\n",
        "    df['PopularCategory'] = df.VisitNumber.map(gp)\n",
        "    for i in range(4):\n",
        "        df[f'Category_{i}'] = df['PopularCategory'].apply(return_nth, args=[i])\n",
        "\n",
        "    # 2. Same for FinelineNumber, but 6\n",
        "    x = df.groupby('VisitNumber')['FinelineNumber'].apply(f).reset_index()\n",
        "    gp = x.groupby('VisitNumber')['level_1'].unique()\n",
        "\n",
        "    df['PopularFineline'] = df.VisitNumber.map(gp)\n",
        "    for i in range(6):\n",
        "        df[f'Fineline_{i}'] = df['PopularFineline'].apply(return_nth, args=[i]).astype(object)\n",
        "\n",
        "    # 3. Count number of unique DepartmentDescription in the purchase\n",
        "    gp = df.groupby('VisitNumber')['DepartmentDescription'].nunique()\n",
        "    df['#Unique_Department'] = df.VisitNumber.map(gp)\n",
        "\n",
        "    # 4. Count number of unique FinelineNumber in the purchase.\n",
        "    gp = df.groupby('VisitNumber')['FinelineNumber'].nunique()\n",
        "    df['#Unique_Fineline'] = df.VisitNumber.map(gp)\n",
        "\n",
        "    # 5. Count ScanCount (number of unique Upc in the purchase)\n",
        "\n",
        "    gp = df.groupby('VisitNumber')['ScanCount'].count()\n",
        "    df['#UniqueScanCount'] = df['VisitNumber'].map(gp)   \n",
        "\n",
        "    # 6. Sum ScanCount\n",
        "\n",
        "    gp = df.groupby('VisitNumber')['ScanCount'].sum()\n",
        "    df['TotalScanCount'] = df['VisitNumber'].map(gp)\n",
        "\n",
        "    # 7. Is weekend\n",
        "\n",
        "    df['is_Weekend'] = df['Weekday'].apply(is_weekend).astype(object)\n",
        "\n",
        "    # 8. Sum returns\n",
        "\n",
        "    gp = df.groupby('VisitNumber')['ScanCount'].apply(sum_return)\n",
        "    df['total_return'] = df.VisitNumber.map(gp)\n",
        "    df['total_return'].fillna(0, inplace=True)\n",
        "\n",
        "    # Drop old and intermediate features\n",
        "\n",
        "    df = df.drop(['Upc', 'ScanCount', 'DepartmentDescription',\n",
        "                  'FinelineNumber', 'PopularFineline', 'PopularCategory'], axis=1)\n",
        "\n",
        "    # Drop duplicated rows (with the same VisitNumber)\n",
        "\n",
        "    df = df.drop_duplicates(keep='first')\n",
        "    \n",
        "    return df"
      ]
    },
    {
      "cell_type": "code",
      "execution_count": null,
      "metadata": {
        "id": "rCqPfZJQ1pTR"
      },
      "outputs": [],
      "source": [
        "# Running this cell takes about 10 minutes\n",
        "df = generate_features(df)"
      ]
    },
    {
      "cell_type": "markdown",
      "metadata": {
        "id": "HRcdHlBU1pTR"
      },
      "source": [
        "# 5. Train a model"
      ]
    },
    {
      "cell_type": "code",
      "execution_count": null,
      "metadata": {
        "id": "Dywt0vrU1pTS"
      },
      "outputs": [],
      "source": [
        "# !pip install catboost"
      ]
    },
    {
      "cell_type": "code",
      "execution_count": null,
      "metadata": {
        "id": "f0OVoe7N1pTS"
      },
      "outputs": [],
      "source": [
        "from catboost import CatBoostClassifier, Pool"
      ]
    },
    {
      "cell_type": "code",
      "execution_count": null,
      "metadata": {
        "id": "gr23YGr01pTS",
        "outputId": "e1487578-19ef-4285-a3ad-73085c51f433"
      },
      "outputs": [
        {
          "name": "stdout",
          "output_type": "stream",
          "text": [
            "-2 TripType int64\n",
            "-1 VisitNumber int64\n",
            "0 Weekday object\n",
            "1 Category_0 object\n",
            "2 Category_1 object\n",
            "3 Category_2 object\n",
            "4 Category_3 object\n",
            "5 Fineline_0 object\n",
            "6 Fineline_1 object\n",
            "7 Fineline_2 object\n",
            "8 Fineline_3 object\n",
            "9 Fineline_4 object\n",
            "10 Fineline_5 object\n",
            "11 #Unique_Department int64\n",
            "12 #Unique_Fineline int64\n",
            "13 #UniqueScanCount int64\n",
            "14 TotalScanCount int64\n",
            "15 is_Weekend object\n",
            "16 total_return float64\n"
          ]
        }
      ],
      "source": [
        "for i, col in enumerate(df.columns):\n",
        "    print(i-2, col, df[col].dtype)"
      ]
    },
    {
      "cell_type": "code",
      "execution_count": null,
      "metadata": {
        "id": "D6_PAjFw1pTT"
      },
      "outputs": [],
      "source": [
        "for col in df.columns:\n",
        "    if col.startswith('Category'):\n",
        "        df[col]=df[col].apply(str)\n",
        "    if col.startswith('Fineline'):\n",
        "        df[col]=df[col].apply(str)"
      ]
    },
    {
      "cell_type": "code",
      "execution_count": null,
      "metadata": {
        "id": "Aki2LwYJ1pTT"
      },
      "outputs": [],
      "source": [
        "train.fillna('NaN', inplace=True)\n",
        "x_train, x_eval = train_test_split(df, test_size=0.1, random_state=10, shuffle=True)\n",
        "\n",
        "cat_features = [*list(range(10)), 15]\n",
        "\n",
        "data_train = Pool(x_train.drop(['TripType', 'VisitNumber'], axis=1), \n",
        "                  label=x_train.TripType,\n",
        "                  cat_features=cat_features)\n",
        "\n",
        "data_eval = Pool(x_eval.drop(['TripType', 'VisitNumber'], axis=1), \n",
        "                 label=x_eval.TripType,\n",
        "                 cat_features=cat_features)"
      ]
    },
    {
      "cell_type": "code",
      "execution_count": null,
      "metadata": {
        "id": "iBd3dko51pTT"
      },
      "outputs": [],
      "source": [
        "ctb_params = {\n",
        "    'depth': 4,\n",
        "    'learning_rate': .3,\n",
        "    'l2_leaf_reg': 3,\n",
        "    'loss_function': 'MultiClass',\n",
        "    'verbose': 1,\n",
        "    'thread_count': 12,\n",
        "    'iterations': 100\n",
        "}"
      ]
    },
    {
      "cell_type": "code",
      "execution_count": null,
      "metadata": {
        "id": "P4pR6jAf1pTT",
        "outputId": "04c7f070-da13-4073-8bc4-f18d4090ed9d"
      },
      "outputs": [
        {
          "name": "stdout",
          "output_type": "stream",
          "text": [
            "0:\tlearn: 2.5003169\ttest: 2.5023496\tbest: 2.5023496 (0)\ttotal: 2.26s\tremaining: 3m 44s\n",
            "1:\tlearn: 2.1687069\ttest: 2.1689262\tbest: 2.1689262 (1)\ttotal: 4.5s\tremaining: 3m 40s\n",
            "2:\tlearn: 1.9832113\ttest: 1.9666134\tbest: 1.9666134 (2)\ttotal: 6.75s\tremaining: 3m 38s\n",
            "3:\tlearn: 1.9312787\ttest: 1.9138151\tbest: 1.9138151 (3)\ttotal: 9.01s\tremaining: 3m 36s\n",
            "4:\tlearn: 1.8529427\ttest: 1.8356256\tbest: 1.8356256 (4)\ttotal: 11.3s\tremaining: 3m 33s\n",
            "5:\tlearn: 1.7816361\ttest: 1.7633018\tbest: 1.7633018 (5)\ttotal: 13.5s\tremaining: 3m 31s\n",
            "6:\tlearn: 1.7063736\ttest: 1.6891190\tbest: 1.6891190 (6)\ttotal: 15.7s\tremaining: 3m 28s\n",
            "7:\tlearn: 1.6517512\ttest: 1.6333151\tbest: 1.6333151 (7)\ttotal: 17.9s\tremaining: 3m 25s\n",
            "8:\tlearn: 1.6079575\ttest: 1.5863785\tbest: 1.5863785 (8)\ttotal: 20.1s\tremaining: 3m 23s\n",
            "9:\tlearn: 1.5607590\ttest: 1.5449389\tbest: 1.5449389 (9)\ttotal: 22.3s\tremaining: 3m 20s\n",
            "10:\tlearn: 1.5295865\ttest: 1.5129462\tbest: 1.5129462 (10)\ttotal: 24.5s\tremaining: 3m 18s\n",
            "11:\tlearn: 1.5023356\ttest: 1.4865528\tbest: 1.4865528 (11)\ttotal: 26.7s\tremaining: 3m 16s\n",
            "12:\tlearn: 1.4759889\ttest: 1.4589769\tbest: 1.4589769 (12)\ttotal: 29s\tremaining: 3m 13s\n",
            "13:\tlearn: 1.4513513\ttest: 1.4349187\tbest: 1.4349187 (13)\ttotal: 31.2s\tremaining: 3m 11s\n",
            "14:\tlearn: 1.4093920\ttest: 1.3899054\tbest: 1.3899054 (14)\ttotal: 33.4s\tremaining: 3m 9s\n",
            "15:\tlearn: 1.3940246\ttest: 1.3764160\tbest: 1.3764160 (15)\ttotal: 35.6s\tremaining: 3m 6s\n",
            "16:\tlearn: 1.3805233\ttest: 1.3635848\tbest: 1.3635848 (16)\ttotal: 37.8s\tremaining: 3m 4s\n",
            "17:\tlearn: 1.3651301\ttest: 1.3497011\tbest: 1.3497011 (17)\ttotal: 40s\tremaining: 3m 2s\n",
            "18:\tlearn: 1.3448050\ttest: 1.3310756\tbest: 1.3310756 (18)\ttotal: 42.2s\tremaining: 2m 59s\n",
            "19:\tlearn: 1.3254717\ttest: 1.3147028\tbest: 1.3147028 (19)\ttotal: 44.4s\tremaining: 2m 57s\n",
            "20:\tlearn: 1.3181286\ttest: 1.3074625\tbest: 1.3074625 (20)\ttotal: 46.6s\tremaining: 2m 55s\n",
            "21:\tlearn: 1.3033474\ttest: 1.2937173\tbest: 1.2937173 (21)\ttotal: 48.8s\tremaining: 2m 52s\n",
            "22:\tlearn: 1.2865869\ttest: 1.2764722\tbest: 1.2764722 (22)\ttotal: 51s\tremaining: 2m 50s\n",
            "23:\tlearn: 1.2764250\ttest: 1.2663214\tbest: 1.2663214 (23)\ttotal: 53.1s\tremaining: 2m 48s\n",
            "24:\tlearn: 1.2675800\ttest: 1.2593734\tbest: 1.2593734 (24)\ttotal: 55.3s\tremaining: 2m 45s\n",
            "25:\tlearn: 1.2607738\ttest: 1.2529364\tbest: 1.2529364 (25)\ttotal: 57.5s\tremaining: 2m 43s\n",
            "26:\tlearn: 1.2519358\ttest: 1.2446447\tbest: 1.2446447 (26)\ttotal: 59.7s\tremaining: 2m 41s\n",
            "27:\tlearn: 1.2456152\ttest: 1.2386894\tbest: 1.2386894 (27)\ttotal: 1m 1s\tremaining: 2m 39s\n",
            "28:\tlearn: 1.2381411\ttest: 1.2320929\tbest: 1.2320929 (28)\ttotal: 1m 4s\tremaining: 2m 37s\n",
            "29:\tlearn: 1.2269570\ttest: 1.2203671\tbest: 1.2203671 (29)\ttotal: 1m 6s\tremaining: 2m 34s\n",
            "30:\tlearn: 1.2213628\ttest: 1.2152439\tbest: 1.2152439 (30)\ttotal: 1m 8s\tremaining: 2m 32s\n",
            "31:\tlearn: 1.2162747\ttest: 1.2105803\tbest: 1.2105803 (31)\ttotal: 1m 10s\tremaining: 2m 30s\n",
            "32:\tlearn: 1.2112866\ttest: 1.2052769\tbest: 1.2052769 (32)\ttotal: 1m 13s\tremaining: 2m 28s\n",
            "33:\tlearn: 1.2000497\ttest: 1.1956024\tbest: 1.1956024 (33)\ttotal: 1m 15s\tremaining: 2m 26s\n",
            "34:\tlearn: 1.1939892\ttest: 1.1883364\tbest: 1.1883364 (34)\ttotal: 1m 17s\tremaining: 2m 24s\n",
            "35:\tlearn: 1.1871308\ttest: 1.1810231\tbest: 1.1810231 (35)\ttotal: 1m 19s\tremaining: 2m 21s\n",
            "36:\tlearn: 1.1841605\ttest: 1.1781205\tbest: 1.1781205 (36)\ttotal: 1m 22s\tremaining: 2m 19s\n",
            "37:\tlearn: 1.1789922\ttest: 1.1732812\tbest: 1.1732812 (37)\ttotal: 1m 24s\tremaining: 2m 17s\n",
            "38:\tlearn: 1.1743804\ttest: 1.1689386\tbest: 1.1689386 (38)\ttotal: 1m 26s\tremaining: 2m 15s\n",
            "39:\tlearn: 1.1680319\ttest: 1.1625572\tbest: 1.1625572 (39)\ttotal: 1m 28s\tremaining: 2m 12s\n",
            "40:\tlearn: 1.1563173\ttest: 1.1507975\tbest: 1.1507975 (40)\ttotal: 1m 30s\tremaining: 2m 10s\n",
            "41:\tlearn: 1.1472898\ttest: 1.1416406\tbest: 1.1416406 (41)\ttotal: 1m 32s\tremaining: 2m 8s\n",
            "42:\tlearn: 1.1418761\ttest: 1.1364382\tbest: 1.1364382 (42)\ttotal: 1m 35s\tremaining: 2m 6s\n",
            "43:\tlearn: 1.1371027\ttest: 1.1333730\tbest: 1.1333730 (43)\ttotal: 1m 37s\tremaining: 2m 3s\n",
            "44:\tlearn: 1.1336865\ttest: 1.1307347\tbest: 1.1307347 (44)\ttotal: 1m 39s\tremaining: 2m 1s\n",
            "45:\tlearn: 1.1268924\ttest: 1.1232199\tbest: 1.1232199 (45)\ttotal: 1m 41s\tremaining: 1m 59s\n",
            "46:\tlearn: 1.1231575\ttest: 1.1206113\tbest: 1.1206113 (46)\ttotal: 1m 44s\tremaining: 1m 57s\n",
            "47:\tlearn: 1.1200062\ttest: 1.1184550\tbest: 1.1184550 (47)\ttotal: 1m 46s\tremaining: 1m 55s\n",
            "48:\tlearn: 1.1160065\ttest: 1.1151888\tbest: 1.1151888 (48)\ttotal: 1m 48s\tremaining: 1m 53s\n",
            "49:\tlearn: 1.1107245\ttest: 1.1097650\tbest: 1.1097650 (49)\ttotal: 1m 50s\tremaining: 1m 50s\n",
            "50:\tlearn: 1.1083436\ttest: 1.1074552\tbest: 1.1074552 (50)\ttotal: 1m 53s\tremaining: 1m 48s\n",
            "51:\tlearn: 1.1052335\ttest: 1.1057256\tbest: 1.1057256 (51)\ttotal: 1m 55s\tremaining: 1m 46s\n",
            "52:\tlearn: 1.1010385\ttest: 1.1023919\tbest: 1.1023919 (52)\ttotal: 1m 57s\tremaining: 1m 44s\n",
            "53:\tlearn: 1.0988073\ttest: 1.1004593\tbest: 1.1004593 (53)\ttotal: 1m 59s\tremaining: 1m 42s\n",
            "54:\tlearn: 1.0955675\ttest: 1.0977436\tbest: 1.0977436 (54)\ttotal: 2m 2s\tremaining: 1m 39s\n",
            "55:\tlearn: 1.0931655\ttest: 1.0962087\tbest: 1.0962087 (55)\ttotal: 2m 4s\tremaining: 1m 37s\n",
            "56:\tlearn: 1.0846477\ttest: 1.0868180\tbest: 1.0868180 (56)\ttotal: 2m 6s\tremaining: 1m 35s\n",
            "57:\tlearn: 1.0812217\ttest: 1.0842444\tbest: 1.0842444 (57)\ttotal: 2m 8s\tremaining: 1m 33s\n",
            "58:\tlearn: 1.0767836\ttest: 1.0805692\tbest: 1.0805692 (58)\ttotal: 2m 10s\tremaining: 1m 30s\n",
            "59:\tlearn: 1.0716801\ttest: 1.0752567\tbest: 1.0752567 (59)\ttotal: 2m 13s\tremaining: 1m 28s\n",
            "60:\tlearn: 1.0689948\ttest: 1.0729903\tbest: 1.0729903 (60)\ttotal: 2m 15s\tremaining: 1m 26s\n",
            "61:\tlearn: 1.0649202\ttest: 1.0696213\tbest: 1.0696213 (61)\ttotal: 2m 17s\tremaining: 1m 24s\n",
            "62:\tlearn: 1.0613892\ttest: 1.0667417\tbest: 1.0667417 (62)\ttotal: 2m 19s\tremaining: 1m 22s\n",
            "63:\tlearn: 1.0600272\ttest: 1.0652697\tbest: 1.0652697 (63)\ttotal: 2m 21s\tremaining: 1m 19s\n",
            "64:\tlearn: 1.0571416\ttest: 1.0627080\tbest: 1.0627080 (64)\ttotal: 2m 24s\tremaining: 1m 17s\n",
            "65:\tlearn: 1.0547364\ttest: 1.0605785\tbest: 1.0605785 (65)\ttotal: 2m 26s\tremaining: 1m 15s\n",
            "66:\tlearn: 1.0529791\ttest: 1.0594927\tbest: 1.0594927 (66)\ttotal: 2m 28s\tremaining: 1m 13s\n",
            "67:\tlearn: 1.0492948\ttest: 1.0563483\tbest: 1.0563483 (67)\ttotal: 2m 30s\tremaining: 1m 11s\n",
            "68:\tlearn: 1.0463738\ttest: 1.0541088\tbest: 1.0541088 (68)\ttotal: 2m 33s\tremaining: 1m 8s\n",
            "69:\tlearn: 1.0439411\ttest: 1.0520114\tbest: 1.0520114 (69)\ttotal: 2m 35s\tremaining: 1m 6s\n",
            "70:\tlearn: 1.0415290\ttest: 1.0504884\tbest: 1.0504884 (70)\ttotal: 2m 37s\tremaining: 1m 4s\n",
            "71:\tlearn: 1.0397583\ttest: 1.0486588\tbest: 1.0486588 (71)\ttotal: 2m 39s\tremaining: 1m 2s\n",
            "72:\tlearn: 1.0367657\ttest: 1.0459610\tbest: 1.0459610 (72)\ttotal: 2m 42s\tremaining: 59.9s\n",
            "73:\tlearn: 1.0352038\ttest: 1.0451704\tbest: 1.0451704 (73)\ttotal: 2m 44s\tremaining: 57.7s\n",
            "74:\tlearn: 1.0331350\ttest: 1.0430946\tbest: 1.0430946 (74)\ttotal: 2m 46s\tremaining: 55.5s\n",
            "75:\tlearn: 1.0315487\ttest: 1.0419671\tbest: 1.0419671 (75)\ttotal: 2m 48s\tremaining: 53.3s\n",
            "76:\tlearn: 1.0286367\ttest: 1.0394386\tbest: 1.0394386 (76)\ttotal: 2m 50s\tremaining: 51s\n",
            "77:\tlearn: 1.0269718\ttest: 1.0377279\tbest: 1.0377279 (77)\ttotal: 2m 53s\tremaining: 48.8s\n",
            "78:\tlearn: 1.0264379\ttest: 1.0374975\tbest: 1.0374975 (78)\ttotal: 2m 55s\tremaining: 46.6s\n",
            "79:\tlearn: 1.0254383\ttest: 1.0364091\tbest: 1.0364091 (79)\ttotal: 2m 57s\tremaining: 44.4s\n",
            "80:\tlearn: 1.0245575\ttest: 1.0356005\tbest: 1.0356005 (80)\ttotal: 3m\tremaining: 42.2s\n",
            "81:\tlearn: 1.0208074\ttest: 1.0323972\tbest: 1.0323972 (81)\ttotal: 3m 2s\tremaining: 40s\n",
            "82:\tlearn: 1.0189833\ttest: 1.0313264\tbest: 1.0313264 (82)\ttotal: 3m 4s\tremaining: 37.8s\n",
            "83:\tlearn: 1.0187331\ttest: 1.0311633\tbest: 1.0311633 (83)\ttotal: 3m 6s\tremaining: 35.6s\n",
            "84:\tlearn: 1.0180017\ttest: 1.0306803\tbest: 1.0306803 (84)\ttotal: 3m 9s\tremaining: 33.4s\n",
            "85:\tlearn: 1.0157915\ttest: 1.0293787\tbest: 1.0293787 (85)\ttotal: 3m 11s\tremaining: 31.1s\n",
            "86:\tlearn: 1.0141607\ttest: 1.0285778\tbest: 1.0285778 (86)\ttotal: 3m 13s\tremaining: 28.9s\n",
            "87:\tlearn: 1.0098456\ttest: 1.0236930\tbest: 1.0236930 (87)\ttotal: 3m 15s\tremaining: 26.7s\n",
            "88:\tlearn: 1.0086300\ttest: 1.0225413\tbest: 1.0225413 (88)\ttotal: 3m 17s\tremaining: 24.5s\n",
            "89:\tlearn: 1.0075344\ttest: 1.0219727\tbest: 1.0219727 (89)\ttotal: 3m 20s\tremaining: 22.2s\n",
            "90:\tlearn: 1.0068755\ttest: 1.0212340\tbest: 1.0212340 (90)\ttotal: 3m 22s\tremaining: 20s\n",
            "91:\tlearn: 1.0047642\ttest: 1.0195326\tbest: 1.0195326 (91)\ttotal: 3m 24s\tremaining: 17.8s\n",
            "92:\tlearn: 1.0032390\ttest: 1.0182526\tbest: 1.0182526 (92)\ttotal: 3m 26s\tremaining: 15.6s\n"
          ]
        },
        {
          "name": "stdout",
          "output_type": "stream",
          "text": [
            "93:\tlearn: 1.0013494\ttest: 1.0171458\tbest: 1.0171458 (93)\ttotal: 3m 29s\tremaining: 13.4s\n",
            "94:\tlearn: 1.0010556\ttest: 1.0169773\tbest: 1.0169773 (94)\ttotal: 3m 31s\tremaining: 11.1s\n",
            "95:\tlearn: 1.0002817\ttest: 1.0166992\tbest: 1.0166992 (95)\ttotal: 3m 33s\tremaining: 8.91s\n",
            "96:\tlearn: 0.9998320\ttest: 1.0165175\tbest: 1.0165175 (96)\ttotal: 3m 36s\tremaining: 6.68s\n",
            "97:\tlearn: 0.9992700\ttest: 1.0160388\tbest: 1.0160388 (97)\ttotal: 3m 38s\tremaining: 4.46s\n",
            "98:\tlearn: 0.9985497\ttest: 1.0155789\tbest: 1.0155789 (98)\ttotal: 3m 40s\tremaining: 2.23s\n",
            "99:\tlearn: 0.9974930\ttest: 1.0145020\tbest: 1.0145020 (99)\ttotal: 3m 42s\tremaining: 0us\n",
            "\n",
            "bestTest = 1.014501969\n",
            "bestIteration = 99\n",
            "\n"
          ]
        },
        {
          "data": {
            "text/plain": [
              "<catboost.core.CatBoostClassifier at 0x7f9487050c40>"
            ]
          },
          "execution_count": 51,
          "metadata": {},
          "output_type": "execute_result"
        }
      ],
      "source": [
        "model = CatBoostClassifier(**ctb_params)\n",
        "model.fit(X = data_train, silent=False, eval_set=data_eval)"
      ]
    },
    {
      "cell_type": "code",
      "execution_count": null,
      "metadata": {
        "id": "3rvjBCSI1pTU"
      },
      "outputs": [],
      "source": [
        "# model.save_model('catboost_depth=4_lr=.3_l2=3')\n",
        "# model = CatBoostClassifier()"
      ]
    },
    {
      "cell_type": "code",
      "execution_count": null,
      "metadata": {
        "id": "mmEN9PF21pTU"
      },
      "outputs": [],
      "source": []
    },
    {
      "cell_type": "markdown",
      "metadata": {
        "id": "DiTO8YJq1pTU"
      },
      "source": [
        "# 6. Compare `xgboost`, `catboost` and `lightgbm`"
      ]
    },
    {
      "cell_type": "code",
      "execution_count": null,
      "metadata": {
        "id": "puu71s7A1pTV"
      },
      "outputs": [],
      "source": []
    }
  ],
  "metadata": {
    "kernelspec": {
      "display_name": "Python 3 (ipykernel)",
      "language": "python",
      "name": "python3"
    },
    "language_info": {
      "codemirror_mode": {
        "name": "ipython",
        "version": 3
      },
      "file_extension": ".py",
      "mimetype": "text/x-python",
      "name": "python",
      "nbconvert_exporter": "python",
      "pygments_lexer": "ipython3",
      "version": "3.9.13"
    },
    "colab": {
      "provenance": []
    }
  },
  "nbformat": 4,
  "nbformat_minor": 0
}