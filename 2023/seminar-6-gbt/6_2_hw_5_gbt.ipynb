{
  "cells": [
    {
      "cell_type": "markdown",
      "metadata": {
        "id": "view-in-github",
        "colab_type": "text"
      },
      "source": [
        "<a href=\"https://colab.research.google.com/github/YaroslavFYPM/iitp-ml-ds/blob/main/2023/seminar-6-gbt/6_2_hw_5_gbt.ipynb\" target=\"_parent\"><img src=\"https://colab.research.google.com/assets/colab-badge.svg\" alt=\"Open In Colab\"/></a>"
      ]
    },
    {
      "cell_type": "markdown",
      "metadata": {
        "id": "YiihWy4m1pSz"
      },
      "source": [
        "# Домашнее задание 5.\n",
        "\n",
        "Ниже приведено решение задачи Walmart TripType prediction.\n",
        "\n",
        "Сначала мы строим простую baseline модель используя алгоритм случайного леса, затем делаем Exploratory Data Analysis, и наконец генерим новый набор признаков и на нем обучаем алгоритм градиентного бустинга.\n",
        "\n",
        "Ваше домашнее задание заключается в следующем:\n",
        "\n",
        "1. Разобраться в этом нотбуке: \n",
        "- разберитесь в чем заключается задача\n",
        "- разберитесь какие признаки мы генерим\n",
        "\n",
        "2. Отредактируйте разделы 4-5 таким образом чтобы обучить модель на данных `train.csv` и сделать предсказание на данных `test.csv`. Обратите внимание что для набора данных `test.csv` у вас нет столбца `TripType`. Получив предсказание для `TripType` на наборе данных `test.csv` вам необходимо загрузить их на лидерборд kaggle. Используйте catboost.\n",
        "\n",
        "3. Существует 3 популярные библиотеки реализующие алгоритм градиентного бустинга:\n",
        "- xgboost https://xgboost.readthedocs.io/en/stable/python/python_intro.html\n",
        "- catboost https://catboost.ai/en/docs/concepts/python-quickstart\n",
        "- lightgbm https://lightgbm.readthedocs.io/en/latest/Python-Intro.html\n",
        "\n",
        "Обучите каждый из них используя сопоставимые наборы гиперпараметров и сравните \n",
        "- время обучения\n",
        "- точность на `test.csv` на лидерборде kaggle\n",
        "Прокомментируйте полученные результаты.\n",
        " \n",
        "Ваш репорт отправляйте на почту kurmukovai@gmail.com, до полуночи 1 апреля, 23:59:59 с темой письма [iitp-intro-ds-2023-ha5-Surname], например [iitp-intro-ds-2023-ha5-Kurmukov]\n",
        "\n",
        "* если вам нужно будет обработать пропуски (missing values) обрабатывайте их любым разумным образом (см. семинар 3) и отразите это в вашем репорте.\n",
        "* все 3 библиотеки умеют работать с категориальным переменными \"из коробки\":\n",
        "- https://xgboost.readthedocs.io/en/stable/tutorials/categorical.html\n",
        "- https://lightgbm.readthedocs.io/en/latest/Advanced-Topics.html\n",
        "возможно необходимо строковые признаки закодировать в числа 1..n ."
      ]
    },
    {
      "cell_type": "markdown",
      "metadata": {
        "id": "dqikFhxb1pS4"
      },
      "source": [
        "# Walmart TripType prediction\n",
        "\n",
        "https://www.kaggle.com/c/walmart-recruiting-trip-type-classification\n",
        "\n",
        ">For this competition, you are tasked with categorizing shopping trip types based on the items that customers purchased. To give a few hypothetical examples of trip types: a customer may make a small daily dinner trip, a weekly large grocery trip, a trip to buy gifts for an upcoming holiday, or a seasonal trip to buy clothes.\n",
        "\n",
        "\n",
        "## Multi-class classification, goal is to predict `type of the trip`.\n",
        "\n"
      ]
    },
    {
      "cell_type": "code",
      "source": [
        "!pip install kaggle\n",
        "!mkdir ~/.kaggle\n",
        "!touch ~/.kaggle/kaggle.json\n",
        "\n",
        "api_token = {\"username\":\"yaroslavklyukin20\",\"key\":\"bb553834b71b489fa42962b62d4f23c8\"}\n",
        "\n",
        "import json\n",
        "\n",
        "with open('/root/.kaggle/kaggle.json', 'w') as file:\n",
        "    json.dump(api_token, file)\n",
        "\n",
        "!chmod 600 ~/.kaggle/kaggle.json"
      ],
      "metadata": {
        "id": "MoDr_lXq27xc",
        "outputId": "5910b2e7-50f3-402d-c7d0-16dbdc569746",
        "colab": {
          "base_uri": "https://localhost:8080/"
        }
      },
      "execution_count": 1,
      "outputs": [
        {
          "output_type": "stream",
          "name": "stdout",
          "text": [
            "Looking in indexes: https://pypi.org/simple, https://us-python.pkg.dev/colab-wheels/public/simple/\n",
            "Requirement already satisfied: kaggle in /usr/local/lib/python3.9/dist-packages (1.5.13)\n",
            "Requirement already satisfied: tqdm in /usr/local/lib/python3.9/dist-packages (from kaggle) (4.65.0)\n",
            "Requirement already satisfied: python-dateutil in /usr/local/lib/python3.9/dist-packages (from kaggle) (2.8.2)\n",
            "Requirement already satisfied: requests in /usr/local/lib/python3.9/dist-packages (from kaggle) (2.27.1)\n",
            "Requirement already satisfied: python-slugify in /usr/local/lib/python3.9/dist-packages (from kaggle) (8.0.1)\n",
            "Requirement already satisfied: urllib3 in /usr/local/lib/python3.9/dist-packages (from kaggle) (1.26.15)\n",
            "Requirement already satisfied: certifi in /usr/local/lib/python3.9/dist-packages (from kaggle) (2022.12.7)\n",
            "Requirement already satisfied: six>=1.10 in /usr/local/lib/python3.9/dist-packages (from kaggle) (1.16.0)\n",
            "Requirement already satisfied: text-unidecode>=1.3 in /usr/local/lib/python3.9/dist-packages (from python-slugify->kaggle) (1.3)\n",
            "Requirement already satisfied: idna<4,>=2.5 in /usr/local/lib/python3.9/dist-packages (from requests->kaggle) (3.4)\n",
            "Requirement already satisfied: charset-normalizer~=2.0.0 in /usr/local/lib/python3.9/dist-packages (from requests->kaggle) (2.0.12)\n"
          ]
        }
      ]
    },
    {
      "cell_type": "code",
      "execution_count": 2,
      "metadata": {
        "id": "si1GL4EZ1pS6",
        "outputId": "7878ee9f-1cce-4b9a-9a89-81af39a47297",
        "colab": {
          "base_uri": "https://localhost:8080/"
        }
      },
      "outputs": [
        {
          "output_type": "stream",
          "name": "stdout",
          "text": [
            "Downloading walmart-recruiting-trip-type-classification.zip to /content\n",
            " 64% 7.00M/11.0M [00:00<00:00, 13.3MB/s]\n",
            "100% 11.0M/11.0M [00:00<00:00, 13.2MB/s]\n"
          ]
        }
      ],
      "source": [
        "!kaggle competitions download -c walmart-recruiting-trip-type-classification"
      ]
    },
    {
      "cell_type": "code",
      "source": [
        "!unzip walmart-recruiting-trip-type-classification.zip -d walmart-recruiting-trip-type-classification"
      ],
      "metadata": {
        "id": "xz2cYnN16_pZ",
        "outputId": "a95a30e5-ed66-4a16-ccc5-3038713ae90b",
        "colab": {
          "base_uri": "https://localhost:8080/"
        }
      },
      "execution_count": 3,
      "outputs": [
        {
          "output_type": "stream",
          "name": "stdout",
          "text": [
            "Archive:  walmart-recruiting-trip-type-classification.zip\n",
            "  inflating: walmart-recruiting-trip-type-classification/sample_submission.csv.zip  \n",
            "  inflating: walmart-recruiting-trip-type-classification/test.csv.zip  \n",
            "  inflating: walmart-recruiting-trip-type-classification/train.csv.zip  \n"
          ]
        }
      ]
    },
    {
      "cell_type": "code",
      "source": [
        "!unzip /content/walmart-recruiting-trip-type-classification/sample_submission.csv.zip\n",
        "!unzip /content/walmart-recruiting-trip-type-classification/train.csv.zip"
      ],
      "metadata": {
        "colab": {
          "base_uri": "https://localhost:8080/"
        },
        "id": "btk-EmpLFQbV",
        "outputId": "005b7513-0af0-4e18-ce76-ba7e325cef4b"
      },
      "execution_count": 95,
      "outputs": [
        {
          "output_type": "stream",
          "name": "stdout",
          "text": [
            "Archive:  /content/walmart-recruiting-trip-type-classification/sample_submission.csv.zip\n",
            "replace sample_submission.csv? [y]es, [n]o, [A]ll, [N]one, [r]ename: y\n",
            "  inflating: sample_submission.csv   \n",
            "Archive:  /content/walmart-recruiting-trip-type-classification/train.csv.zip\n",
            "  inflating: train.csv               \n"
          ]
        }
      ]
    },
    {
      "cell_type": "code",
      "source": [
        "!unzip /content/archive.zip"
      ],
      "metadata": {
        "colab": {
          "base_uri": "https://localhost:8080/"
        },
        "id": "FgHtO1s_zz1s",
        "outputId": "a91c563c-6e2a-4953-c506-78035f14bce5"
      },
      "execution_count": 66,
      "outputs": [
        {
          "output_type": "stream",
          "name": "stdout",
          "text": [
            "Archive:  /content/archive.zip\n",
            "  inflating: test.csv                \n"
          ]
        }
      ]
    },
    {
      "cell_type": "code",
      "execution_count": 5,
      "metadata": {
        "id": "JyTwRPex1pS8"
      },
      "outputs": [],
      "source": [
        "import pandas as pd\n",
        "import numpy as np\n",
        "import matplotlib.pyplot as plt\n",
        "import seaborn as sns\n",
        "%matplotlib inline"
      ]
    },
    {
      "cell_type": "code",
      "execution_count": 6,
      "metadata": {
        "id": "smeABxEs1pS8"
      },
      "outputs": [],
      "source": [
        "train = pd.read_csv('train.csv')\n",
        "# test = pd.read_csv('walmart-recruiting-trip-type-classification/test.csv')"
      ]
    },
    {
      "cell_type": "code",
      "source": [
        "test = pd.read_csv('test.csv')"
      ],
      "metadata": {
        "id": "PLTXxciO2kKm"
      },
      "execution_count": 68,
      "outputs": []
    },
    {
      "cell_type": "code",
      "execution_count": 7,
      "metadata": {
        "id": "1xZF5sO41pS9",
        "outputId": "67c02d23-7035-4ffa-b28f-d994117b2d39",
        "colab": {
          "base_uri": "https://localhost:8080/",
          "height": 206
        }
      },
      "outputs": [
        {
          "output_type": "execute_result",
          "data": {
            "text/plain": [
              "   TripType  VisitNumber Weekday           Upc  ScanCount  \\\n",
              "0       999            5  Friday  6.811315e+10         -1   \n",
              "1        30            7  Friday  6.053882e+10          1   \n",
              "2        30            7  Friday  7.410811e+09          1   \n",
              "3        26            8  Friday  2.238404e+09          2   \n",
              "4        26            8  Friday  2.006614e+09          2   \n",
              "\n",
              "   DepartmentDescription  FinelineNumber  \n",
              "0     FINANCIAL SERVICES          1000.0  \n",
              "1                  SHOES          8931.0  \n",
              "2          PERSONAL CARE          4504.0  \n",
              "3  PAINT AND ACCESSORIES          3565.0  \n",
              "4  PAINT AND ACCESSORIES          1017.0  "
            ],
            "text/html": [
              "\n",
              "  <div id=\"df-57adf707-5e5a-46cb-a044-eb5f6f4c10f2\">\n",
              "    <div class=\"colab-df-container\">\n",
              "      <div>\n",
              "<style scoped>\n",
              "    .dataframe tbody tr th:only-of-type {\n",
              "        vertical-align: middle;\n",
              "    }\n",
              "\n",
              "    .dataframe tbody tr th {\n",
              "        vertical-align: top;\n",
              "    }\n",
              "\n",
              "    .dataframe thead th {\n",
              "        text-align: right;\n",
              "    }\n",
              "</style>\n",
              "<table border=\"1\" class=\"dataframe\">\n",
              "  <thead>\n",
              "    <tr style=\"text-align: right;\">\n",
              "      <th></th>\n",
              "      <th>TripType</th>\n",
              "      <th>VisitNumber</th>\n",
              "      <th>Weekday</th>\n",
              "      <th>Upc</th>\n",
              "      <th>ScanCount</th>\n",
              "      <th>DepartmentDescription</th>\n",
              "      <th>FinelineNumber</th>\n",
              "    </tr>\n",
              "  </thead>\n",
              "  <tbody>\n",
              "    <tr>\n",
              "      <th>0</th>\n",
              "      <td>999</td>\n",
              "      <td>5</td>\n",
              "      <td>Friday</td>\n",
              "      <td>6.811315e+10</td>\n",
              "      <td>-1</td>\n",
              "      <td>FINANCIAL SERVICES</td>\n",
              "      <td>1000.0</td>\n",
              "    </tr>\n",
              "    <tr>\n",
              "      <th>1</th>\n",
              "      <td>30</td>\n",
              "      <td>7</td>\n",
              "      <td>Friday</td>\n",
              "      <td>6.053882e+10</td>\n",
              "      <td>1</td>\n",
              "      <td>SHOES</td>\n",
              "      <td>8931.0</td>\n",
              "    </tr>\n",
              "    <tr>\n",
              "      <th>2</th>\n",
              "      <td>30</td>\n",
              "      <td>7</td>\n",
              "      <td>Friday</td>\n",
              "      <td>7.410811e+09</td>\n",
              "      <td>1</td>\n",
              "      <td>PERSONAL CARE</td>\n",
              "      <td>4504.0</td>\n",
              "    </tr>\n",
              "    <tr>\n",
              "      <th>3</th>\n",
              "      <td>26</td>\n",
              "      <td>8</td>\n",
              "      <td>Friday</td>\n",
              "      <td>2.238404e+09</td>\n",
              "      <td>2</td>\n",
              "      <td>PAINT AND ACCESSORIES</td>\n",
              "      <td>3565.0</td>\n",
              "    </tr>\n",
              "    <tr>\n",
              "      <th>4</th>\n",
              "      <td>26</td>\n",
              "      <td>8</td>\n",
              "      <td>Friday</td>\n",
              "      <td>2.006614e+09</td>\n",
              "      <td>2</td>\n",
              "      <td>PAINT AND ACCESSORIES</td>\n",
              "      <td>1017.0</td>\n",
              "    </tr>\n",
              "  </tbody>\n",
              "</table>\n",
              "</div>\n",
              "      <button class=\"colab-df-convert\" onclick=\"convertToInteractive('df-57adf707-5e5a-46cb-a044-eb5f6f4c10f2')\"\n",
              "              title=\"Convert this dataframe to an interactive table.\"\n",
              "              style=\"display:none;\">\n",
              "        \n",
              "  <svg xmlns=\"http://www.w3.org/2000/svg\" height=\"24px\"viewBox=\"0 0 24 24\"\n",
              "       width=\"24px\">\n",
              "    <path d=\"M0 0h24v24H0V0z\" fill=\"none\"/>\n",
              "    <path d=\"M18.56 5.44l.94 2.06.94-2.06 2.06-.94-2.06-.94-.94-2.06-.94 2.06-2.06.94zm-11 1L8.5 8.5l.94-2.06 2.06-.94-2.06-.94L8.5 2.5l-.94 2.06-2.06.94zm10 10l.94 2.06.94-2.06 2.06-.94-2.06-.94-.94-2.06-.94 2.06-2.06.94z\"/><path d=\"M17.41 7.96l-1.37-1.37c-.4-.4-.92-.59-1.43-.59-.52 0-1.04.2-1.43.59L10.3 9.45l-7.72 7.72c-.78.78-.78 2.05 0 2.83L4 21.41c.39.39.9.59 1.41.59.51 0 1.02-.2 1.41-.59l7.78-7.78 2.81-2.81c.8-.78.8-2.07 0-2.86zM5.41 20L4 18.59l7.72-7.72 1.47 1.35L5.41 20z\"/>\n",
              "  </svg>\n",
              "      </button>\n",
              "      \n",
              "  <style>\n",
              "    .colab-df-container {\n",
              "      display:flex;\n",
              "      flex-wrap:wrap;\n",
              "      gap: 12px;\n",
              "    }\n",
              "\n",
              "    .colab-df-convert {\n",
              "      background-color: #E8F0FE;\n",
              "      border: none;\n",
              "      border-radius: 50%;\n",
              "      cursor: pointer;\n",
              "      display: none;\n",
              "      fill: #1967D2;\n",
              "      height: 32px;\n",
              "      padding: 0 0 0 0;\n",
              "      width: 32px;\n",
              "    }\n",
              "\n",
              "    .colab-df-convert:hover {\n",
              "      background-color: #E2EBFA;\n",
              "      box-shadow: 0px 1px 2px rgba(60, 64, 67, 0.3), 0px 1px 3px 1px rgba(60, 64, 67, 0.15);\n",
              "      fill: #174EA6;\n",
              "    }\n",
              "\n",
              "    [theme=dark] .colab-df-convert {\n",
              "      background-color: #3B4455;\n",
              "      fill: #D2E3FC;\n",
              "    }\n",
              "\n",
              "    [theme=dark] .colab-df-convert:hover {\n",
              "      background-color: #434B5C;\n",
              "      box-shadow: 0px 1px 3px 1px rgba(0, 0, 0, 0.15);\n",
              "      filter: drop-shadow(0px 1px 2px rgba(0, 0, 0, 0.3));\n",
              "      fill: #FFFFFF;\n",
              "    }\n",
              "  </style>\n",
              "\n",
              "      <script>\n",
              "        const buttonEl =\n",
              "          document.querySelector('#df-57adf707-5e5a-46cb-a044-eb5f6f4c10f2 button.colab-df-convert');\n",
              "        buttonEl.style.display =\n",
              "          google.colab.kernel.accessAllowed ? 'block' : 'none';\n",
              "\n",
              "        async function convertToInteractive(key) {\n",
              "          const element = document.querySelector('#df-57adf707-5e5a-46cb-a044-eb5f6f4c10f2');\n",
              "          const dataTable =\n",
              "            await google.colab.kernel.invokeFunction('convertToInteractive',\n",
              "                                                     [key], {});\n",
              "          if (!dataTable) return;\n",
              "\n",
              "          const docLinkHtml = 'Like what you see? Visit the ' +\n",
              "            '<a target=\"_blank\" href=https://colab.research.google.com/notebooks/data_table.ipynb>data table notebook</a>'\n",
              "            + ' to learn more about interactive tables.';\n",
              "          element.innerHTML = '';\n",
              "          dataTable['output_type'] = 'display_data';\n",
              "          await google.colab.output.renderOutput(dataTable, element);\n",
              "          const docLink = document.createElement('div');\n",
              "          docLink.innerHTML = docLinkHtml;\n",
              "          element.appendChild(docLink);\n",
              "        }\n",
              "      </script>\n",
              "    </div>\n",
              "  </div>\n",
              "  "
            ]
          },
          "metadata": {},
          "execution_count": 7
        }
      ],
      "source": [
        "train.head()"
      ]
    },
    {
      "cell_type": "markdown",
      "metadata": {
        "id": "fl-K8QFh1pS-"
      },
      "source": [
        "### Columns description\n",
        "\n",
        "- `TripType` - a categorical id representing the type of shopping trip the customer made. This is the ground truth that you are predicting. TripType_999 is an \"other\" category.\n",
        "- `VisitNumber` - an id corresponding to a single trip by a single customer\n",
        "- `Weekday` - the weekday of the trip\n",
        "- `Upc`- the UPC number of the product purchased\n",
        "- `ScanCount` - the number of the given item that was purchased. A negative value indicates a product return.\n",
        "- `DepartmentDescription` - a high-level description of the item's department\n",
        "- `FinelineNumber` - a more refined category for each of the products, created by Walmart\n"
      ]
    },
    {
      "cell_type": "code",
      "execution_count": 8,
      "metadata": {
        "id": "QloyEWDH1pS-",
        "outputId": "deecdaa6-ad88-4bfe-b9f2-c636d2082e9e",
        "colab": {
          "base_uri": "https://localhost:8080/"
        }
      },
      "outputs": [
        {
          "output_type": "execute_result",
          "data": {
            "text/plain": [
              "(647054, 7)"
            ]
          },
          "metadata": {},
          "execution_count": 8
        }
      ],
      "source": [
        "train.shape"
      ]
    },
    {
      "cell_type": "code",
      "execution_count": 9,
      "metadata": {
        "id": "A1YeVwt-1pS_",
        "outputId": "6eef2639-e5f0-4087-c463-100fd129cf46",
        "colab": {
          "base_uri": "https://localhost:8080/"
        }
      },
      "outputs": [
        {
          "output_type": "execute_result",
          "data": {
            "text/plain": [
              "TripType                 647054\n",
              "VisitNumber              647054\n",
              "Weekday                  647054\n",
              "Upc                      642925\n",
              "ScanCount                647054\n",
              "DepartmentDescription    645693\n",
              "FinelineNumber           642925\n",
              "dtype: int64"
            ]
          },
          "metadata": {},
          "execution_count": 9
        }
      ],
      "source": [
        "train.count()"
      ]
    },
    {
      "cell_type": "code",
      "execution_count": 10,
      "metadata": {
        "id": "SP-D1oIx1pS_",
        "outputId": "cf1db298-e0a2-464a-ffea-d66d78d44102",
        "colab": {
          "base_uri": "https://localhost:8080/"
        }
      },
      "outputs": [
        {
          "output_type": "execute_result",
          "data": {
            "text/plain": [
              "40     174164\n",
              "39      95504\n",
              "37      38954\n",
              "38      29565\n",
              "25      27609\n",
              "7       23199\n",
              "8       22844\n",
              "36      21990\n",
              "44      20424\n",
              "42      19468\n",
              "24      18015\n",
              "999     17590\n",
              "9       16820\n",
              "32      13843\n",
              "5       13836\n",
              "35      12501\n",
              "33       9918\n",
              "15       7147\n",
              "3        6827\n",
              "43       6383\n",
              "41       5508\n",
              "30       4861\n",
              "34       4751\n",
              "27       4613\n",
              "21       4032\n",
              "22       3592\n",
              "6        3405\n",
              "20       3116\n",
              "18       2977\n",
              "28       2664\n",
              "26       2507\n",
              "12       2108\n",
              "29       2105\n",
              "31       1765\n",
              "19       1188\n",
              "4         901\n",
              "23        325\n",
              "14         35\n",
              "Name: TripType, dtype: int64"
            ]
          },
          "metadata": {},
          "execution_count": 10
        }
      ],
      "source": [
        "train.TripType.value_counts()"
      ]
    },
    {
      "cell_type": "markdown",
      "metadata": {
        "id": "ow-AJjr-1pTA"
      },
      "source": [
        "# 1. Understand the task.\n",
        "\n",
        "> Every single ml task has its features, and there are no universal solutions, only generally working principles.\n",
        "\n",
        "We need to predict type of the visit: `TripType`. Every row of the data table contains information about a single product not a visit, threfore we need to combine the information about the visit from all the purchases. \n",
        "\n",
        "![](https://github.com/YaroslavFYPM/iitp-ml-ds/blob/main/2023/seminar-6-gbt/trip-type.png?raw=1)\n",
        "\n",
        "Unfortunately, we do not have the information about customers, so we do not know if some of the Visits were performed by the same person.\n"
      ]
    },
    {
      "cell_type": "code",
      "execution_count": 11,
      "metadata": {
        "id": "EMU45bY51pTA",
        "outputId": "45fe0e22-d15f-4de5-ab70-679556929817",
        "colab": {
          "base_uri": "https://localhost:8080/",
          "height": 206
        }
      },
      "outputs": [
        {
          "output_type": "execute_result",
          "data": {
            "text/plain": [
              "   TripType  VisitNumber Weekday           Upc  ScanCount  \\\n",
              "0       999            5  Friday  6.811315e+10         -1   \n",
              "1        30            7  Friday  6.053882e+10          1   \n",
              "2        30            7  Friday  7.410811e+09          1   \n",
              "3        26            8  Friday  2.238404e+09          2   \n",
              "4        26            8  Friday  2.006614e+09          2   \n",
              "\n",
              "   DepartmentDescription  FinelineNumber  \n",
              "0     FINANCIAL SERVICES          1000.0  \n",
              "1                  SHOES          8931.0  \n",
              "2          PERSONAL CARE          4504.0  \n",
              "3  PAINT AND ACCESSORIES          3565.0  \n",
              "4  PAINT AND ACCESSORIES          1017.0  "
            ],
            "text/html": [
              "\n",
              "  <div id=\"df-30f87582-9a20-43f0-8017-dd0fe9b58f17\">\n",
              "    <div class=\"colab-df-container\">\n",
              "      <div>\n",
              "<style scoped>\n",
              "    .dataframe tbody tr th:only-of-type {\n",
              "        vertical-align: middle;\n",
              "    }\n",
              "\n",
              "    .dataframe tbody tr th {\n",
              "        vertical-align: top;\n",
              "    }\n",
              "\n",
              "    .dataframe thead th {\n",
              "        text-align: right;\n",
              "    }\n",
              "</style>\n",
              "<table border=\"1\" class=\"dataframe\">\n",
              "  <thead>\n",
              "    <tr style=\"text-align: right;\">\n",
              "      <th></th>\n",
              "      <th>TripType</th>\n",
              "      <th>VisitNumber</th>\n",
              "      <th>Weekday</th>\n",
              "      <th>Upc</th>\n",
              "      <th>ScanCount</th>\n",
              "      <th>DepartmentDescription</th>\n",
              "      <th>FinelineNumber</th>\n",
              "    </tr>\n",
              "  </thead>\n",
              "  <tbody>\n",
              "    <tr>\n",
              "      <th>0</th>\n",
              "      <td>999</td>\n",
              "      <td>5</td>\n",
              "      <td>Friday</td>\n",
              "      <td>6.811315e+10</td>\n",
              "      <td>-1</td>\n",
              "      <td>FINANCIAL SERVICES</td>\n",
              "      <td>1000.0</td>\n",
              "    </tr>\n",
              "    <tr>\n",
              "      <th>1</th>\n",
              "      <td>30</td>\n",
              "      <td>7</td>\n",
              "      <td>Friday</td>\n",
              "      <td>6.053882e+10</td>\n",
              "      <td>1</td>\n",
              "      <td>SHOES</td>\n",
              "      <td>8931.0</td>\n",
              "    </tr>\n",
              "    <tr>\n",
              "      <th>2</th>\n",
              "      <td>30</td>\n",
              "      <td>7</td>\n",
              "      <td>Friday</td>\n",
              "      <td>7.410811e+09</td>\n",
              "      <td>1</td>\n",
              "      <td>PERSONAL CARE</td>\n",
              "      <td>4504.0</td>\n",
              "    </tr>\n",
              "    <tr>\n",
              "      <th>3</th>\n",
              "      <td>26</td>\n",
              "      <td>8</td>\n",
              "      <td>Friday</td>\n",
              "      <td>2.238404e+09</td>\n",
              "      <td>2</td>\n",
              "      <td>PAINT AND ACCESSORIES</td>\n",
              "      <td>3565.0</td>\n",
              "    </tr>\n",
              "    <tr>\n",
              "      <th>4</th>\n",
              "      <td>26</td>\n",
              "      <td>8</td>\n",
              "      <td>Friday</td>\n",
              "      <td>2.006614e+09</td>\n",
              "      <td>2</td>\n",
              "      <td>PAINT AND ACCESSORIES</td>\n",
              "      <td>1017.0</td>\n",
              "    </tr>\n",
              "  </tbody>\n",
              "</table>\n",
              "</div>\n",
              "      <button class=\"colab-df-convert\" onclick=\"convertToInteractive('df-30f87582-9a20-43f0-8017-dd0fe9b58f17')\"\n",
              "              title=\"Convert this dataframe to an interactive table.\"\n",
              "              style=\"display:none;\">\n",
              "        \n",
              "  <svg xmlns=\"http://www.w3.org/2000/svg\" height=\"24px\"viewBox=\"0 0 24 24\"\n",
              "       width=\"24px\">\n",
              "    <path d=\"M0 0h24v24H0V0z\" fill=\"none\"/>\n",
              "    <path d=\"M18.56 5.44l.94 2.06.94-2.06 2.06-.94-2.06-.94-.94-2.06-.94 2.06-2.06.94zm-11 1L8.5 8.5l.94-2.06 2.06-.94-2.06-.94L8.5 2.5l-.94 2.06-2.06.94zm10 10l.94 2.06.94-2.06 2.06-.94-2.06-.94-.94-2.06-.94 2.06-2.06.94z\"/><path d=\"M17.41 7.96l-1.37-1.37c-.4-.4-.92-.59-1.43-.59-.52 0-1.04.2-1.43.59L10.3 9.45l-7.72 7.72c-.78.78-.78 2.05 0 2.83L4 21.41c.39.39.9.59 1.41.59.51 0 1.02-.2 1.41-.59l7.78-7.78 2.81-2.81c.8-.78.8-2.07 0-2.86zM5.41 20L4 18.59l7.72-7.72 1.47 1.35L5.41 20z\"/>\n",
              "  </svg>\n",
              "      </button>\n",
              "      \n",
              "  <style>\n",
              "    .colab-df-container {\n",
              "      display:flex;\n",
              "      flex-wrap:wrap;\n",
              "      gap: 12px;\n",
              "    }\n",
              "\n",
              "    .colab-df-convert {\n",
              "      background-color: #E8F0FE;\n",
              "      border: none;\n",
              "      border-radius: 50%;\n",
              "      cursor: pointer;\n",
              "      display: none;\n",
              "      fill: #1967D2;\n",
              "      height: 32px;\n",
              "      padding: 0 0 0 0;\n",
              "      width: 32px;\n",
              "    }\n",
              "\n",
              "    .colab-df-convert:hover {\n",
              "      background-color: #E2EBFA;\n",
              "      box-shadow: 0px 1px 2px rgba(60, 64, 67, 0.3), 0px 1px 3px 1px rgba(60, 64, 67, 0.15);\n",
              "      fill: #174EA6;\n",
              "    }\n",
              "\n",
              "    [theme=dark] .colab-df-convert {\n",
              "      background-color: #3B4455;\n",
              "      fill: #D2E3FC;\n",
              "    }\n",
              "\n",
              "    [theme=dark] .colab-df-convert:hover {\n",
              "      background-color: #434B5C;\n",
              "      box-shadow: 0px 1px 3px 1px rgba(0, 0, 0, 0.15);\n",
              "      filter: drop-shadow(0px 1px 2px rgba(0, 0, 0, 0.3));\n",
              "      fill: #FFFFFF;\n",
              "    }\n",
              "  </style>\n",
              "\n",
              "      <script>\n",
              "        const buttonEl =\n",
              "          document.querySelector('#df-30f87582-9a20-43f0-8017-dd0fe9b58f17 button.colab-df-convert');\n",
              "        buttonEl.style.display =\n",
              "          google.colab.kernel.accessAllowed ? 'block' : 'none';\n",
              "\n",
              "        async function convertToInteractive(key) {\n",
              "          const element = document.querySelector('#df-30f87582-9a20-43f0-8017-dd0fe9b58f17');\n",
              "          const dataTable =\n",
              "            await google.colab.kernel.invokeFunction('convertToInteractive',\n",
              "                                                     [key], {});\n",
              "          if (!dataTable) return;\n",
              "\n",
              "          const docLinkHtml = 'Like what you see? Visit the ' +\n",
              "            '<a target=\"_blank\" href=https://colab.research.google.com/notebooks/data_table.ipynb>data table notebook</a>'\n",
              "            + ' to learn more about interactive tables.';\n",
              "          element.innerHTML = '';\n",
              "          dataTable['output_type'] = 'display_data';\n",
              "          await google.colab.output.renderOutput(dataTable, element);\n",
              "          const docLink = document.createElement('div');\n",
              "          docLink.innerHTML = docLinkHtml;\n",
              "          element.appendChild(docLink);\n",
              "        }\n",
              "      </script>\n",
              "    </div>\n",
              "  </div>\n",
              "  "
            ]
          },
          "metadata": {},
          "execution_count": 11
        }
      ],
      "source": [
        "train.head(5)"
      ]
    },
    {
      "cell_type": "code",
      "execution_count": 12,
      "metadata": {
        "id": "zfGFcCyo1pTB",
        "colab": {
          "base_uri": "https://localhost:8080/"
        },
        "outputId": "c092929f-a459-435a-9de8-7dcee02cd4ca"
      },
      "outputs": [
        {
          "output_type": "stream",
          "name": "stdout",
          "text": [
            "<class 'pandas.core.frame.DataFrame'>\n",
            "RangeIndex: 647054 entries, 0 to 647053\n",
            "Data columns (total 7 columns):\n",
            " #   Column                 Non-Null Count   Dtype  \n",
            "---  ------                 --------------   -----  \n",
            " 0   TripType               647054 non-null  int64  \n",
            " 1   VisitNumber            647054 non-null  int64  \n",
            " 2   Weekday                647054 non-null  object \n",
            " 3   Upc                    642925 non-null  float64\n",
            " 4   ScanCount              647054 non-null  int64  \n",
            " 5   DepartmentDescription  645693 non-null  object \n",
            " 6   FinelineNumber         642925 non-null  float64\n",
            "dtypes: float64(2), int64(3), object(2)\n",
            "memory usage: 34.6+ MB\n"
          ]
        }
      ],
      "source": [
        "train.info()"
      ]
    },
    {
      "cell_type": "markdown",
      "metadata": {
        "id": "4iwvgweY1pTB"
      },
      "source": [
        "# 2. Build a simple baseline model\n",
        "\n",
        "- Count number of purchases in a Visit\n",
        "- Create binary column `is_weekend`\n",
        "- Drop all the remaining columns"
      ]
    },
    {
      "cell_type": "code",
      "execution_count": 13,
      "metadata": {
        "id": "1NK22WzD1pTB"
      },
      "outputs": [],
      "source": [
        "from sklearn.model_selection import train_test_split\n",
        "from sklearn.ensemble import RandomForestClassifier\n",
        "from sklearn.preprocessing import LabelEncoder"
      ]
    },
    {
      "cell_type": "code",
      "source": [],
      "metadata": {
        "id": "fX9437RdH8z-"
      },
      "execution_count": 13,
      "outputs": []
    },
    {
      "cell_type": "code",
      "execution_count": 14,
      "metadata": {
        "id": "CBl9rJQl1pTC"
      },
      "outputs": [],
      "source": [
        "def is_weekend(day):\n",
        "    return int(day in ['Saturday', 'Sunday'])\n",
        "\n",
        "df_train = train.copy()\n",
        "\n",
        "# Generate is_weekend\n",
        "df_train['is_weekend'] = df_train.Weekday.apply(is_weekend)\n",
        "\n",
        "# Generate n_products\n",
        "gp_n_products = df_train.groupby('VisitNumber')['ScanCount'].count()\n",
        "df_train['n_products'] = df_train.VisitNumber.map(gp_n_products)\n",
        "\n",
        "# drop duplicated Visit numbers\n",
        "df_train = df_train.drop_duplicates(subset=['VisitNumber']).reset_index(drop=True)\n",
        "\n",
        "# drop all columns except `is_weekend`, `n_products` and `TripType`\n",
        "df_train = df_train.drop(['VisitNumber', 'Weekday', 'Upc', 'ScanCount',\n",
        "                          'DepartmentDescription', 'FinelineNumber'], axis=1)\n",
        "\n",
        "# Encode TripType so unique values are from 0 to (m-1), where m is number of classes\n",
        "encoder = LabelEncoder().fit(df_train['TripType'])\n",
        "df_train['TripType_encoded'] =  encoder.transform(df_train['TripType'])\n",
        "df_train = df_train.drop('TripType', axis=1)\n",
        "\n",
        "# Create separate variables X and y\n",
        "X = df_train.drop('TripType_encoded', axis=1)\n",
        "y = df_train.TripType_encoded"
      ]
    },
    {
      "cell_type": "code",
      "source": [
        "X.head()"
      ],
      "metadata": {
        "colab": {
          "base_uri": "https://localhost:8080/",
          "height": 206
        },
        "id": "v0FHWv-6Jx0W",
        "outputId": "f73beeec-10b9-43f7-dc56-c126ac156b13"
      },
      "execution_count": 15,
      "outputs": [
        {
          "output_type": "execute_result",
          "data": {
            "text/plain": [
              "   is_weekend  n_products\n",
              "0           0           1\n",
              "1           0           2\n",
              "2           0          23\n",
              "3           0           3\n",
              "4           0           3"
            ],
            "text/html": [
              "\n",
              "  <div id=\"df-75e76f28-695e-4cca-b73b-078962d31ee1\">\n",
              "    <div class=\"colab-df-container\">\n",
              "      <div>\n",
              "<style scoped>\n",
              "    .dataframe tbody tr th:only-of-type {\n",
              "        vertical-align: middle;\n",
              "    }\n",
              "\n",
              "    .dataframe tbody tr th {\n",
              "        vertical-align: top;\n",
              "    }\n",
              "\n",
              "    .dataframe thead th {\n",
              "        text-align: right;\n",
              "    }\n",
              "</style>\n",
              "<table border=\"1\" class=\"dataframe\">\n",
              "  <thead>\n",
              "    <tr style=\"text-align: right;\">\n",
              "      <th></th>\n",
              "      <th>is_weekend</th>\n",
              "      <th>n_products</th>\n",
              "    </tr>\n",
              "  </thead>\n",
              "  <tbody>\n",
              "    <tr>\n",
              "      <th>0</th>\n",
              "      <td>0</td>\n",
              "      <td>1</td>\n",
              "    </tr>\n",
              "    <tr>\n",
              "      <th>1</th>\n",
              "      <td>0</td>\n",
              "      <td>2</td>\n",
              "    </tr>\n",
              "    <tr>\n",
              "      <th>2</th>\n",
              "      <td>0</td>\n",
              "      <td>23</td>\n",
              "    </tr>\n",
              "    <tr>\n",
              "      <th>3</th>\n",
              "      <td>0</td>\n",
              "      <td>3</td>\n",
              "    </tr>\n",
              "    <tr>\n",
              "      <th>4</th>\n",
              "      <td>0</td>\n",
              "      <td>3</td>\n",
              "    </tr>\n",
              "  </tbody>\n",
              "</table>\n",
              "</div>\n",
              "      <button class=\"colab-df-convert\" onclick=\"convertToInteractive('df-75e76f28-695e-4cca-b73b-078962d31ee1')\"\n",
              "              title=\"Convert this dataframe to an interactive table.\"\n",
              "              style=\"display:none;\">\n",
              "        \n",
              "  <svg xmlns=\"http://www.w3.org/2000/svg\" height=\"24px\"viewBox=\"0 0 24 24\"\n",
              "       width=\"24px\">\n",
              "    <path d=\"M0 0h24v24H0V0z\" fill=\"none\"/>\n",
              "    <path d=\"M18.56 5.44l.94 2.06.94-2.06 2.06-.94-2.06-.94-.94-2.06-.94 2.06-2.06.94zm-11 1L8.5 8.5l.94-2.06 2.06-.94-2.06-.94L8.5 2.5l-.94 2.06-2.06.94zm10 10l.94 2.06.94-2.06 2.06-.94-2.06-.94-.94-2.06-.94 2.06-2.06.94z\"/><path d=\"M17.41 7.96l-1.37-1.37c-.4-.4-.92-.59-1.43-.59-.52 0-1.04.2-1.43.59L10.3 9.45l-7.72 7.72c-.78.78-.78 2.05 0 2.83L4 21.41c.39.39.9.59 1.41.59.51 0 1.02-.2 1.41-.59l7.78-7.78 2.81-2.81c.8-.78.8-2.07 0-2.86zM5.41 20L4 18.59l7.72-7.72 1.47 1.35L5.41 20z\"/>\n",
              "  </svg>\n",
              "      </button>\n",
              "      \n",
              "  <style>\n",
              "    .colab-df-container {\n",
              "      display:flex;\n",
              "      flex-wrap:wrap;\n",
              "      gap: 12px;\n",
              "    }\n",
              "\n",
              "    .colab-df-convert {\n",
              "      background-color: #E8F0FE;\n",
              "      border: none;\n",
              "      border-radius: 50%;\n",
              "      cursor: pointer;\n",
              "      display: none;\n",
              "      fill: #1967D2;\n",
              "      height: 32px;\n",
              "      padding: 0 0 0 0;\n",
              "      width: 32px;\n",
              "    }\n",
              "\n",
              "    .colab-df-convert:hover {\n",
              "      background-color: #E2EBFA;\n",
              "      box-shadow: 0px 1px 2px rgba(60, 64, 67, 0.3), 0px 1px 3px 1px rgba(60, 64, 67, 0.15);\n",
              "      fill: #174EA6;\n",
              "    }\n",
              "\n",
              "    [theme=dark] .colab-df-convert {\n",
              "      background-color: #3B4455;\n",
              "      fill: #D2E3FC;\n",
              "    }\n",
              "\n",
              "    [theme=dark] .colab-df-convert:hover {\n",
              "      background-color: #434B5C;\n",
              "      box-shadow: 0px 1px 3px 1px rgba(0, 0, 0, 0.15);\n",
              "      filter: drop-shadow(0px 1px 2px rgba(0, 0, 0, 0.3));\n",
              "      fill: #FFFFFF;\n",
              "    }\n",
              "  </style>\n",
              "\n",
              "      <script>\n",
              "        const buttonEl =\n",
              "          document.querySelector('#df-75e76f28-695e-4cca-b73b-078962d31ee1 button.colab-df-convert');\n",
              "        buttonEl.style.display =\n",
              "          google.colab.kernel.accessAllowed ? 'block' : 'none';\n",
              "\n",
              "        async function convertToInteractive(key) {\n",
              "          const element = document.querySelector('#df-75e76f28-695e-4cca-b73b-078962d31ee1');\n",
              "          const dataTable =\n",
              "            await google.colab.kernel.invokeFunction('convertToInteractive',\n",
              "                                                     [key], {});\n",
              "          if (!dataTable) return;\n",
              "\n",
              "          const docLinkHtml = 'Like what you see? Visit the ' +\n",
              "            '<a target=\"_blank\" href=https://colab.research.google.com/notebooks/data_table.ipynb>data table notebook</a>'\n",
              "            + ' to learn more about interactive tables.';\n",
              "          element.innerHTML = '';\n",
              "          dataTable['output_type'] = 'display_data';\n",
              "          await google.colab.output.renderOutput(dataTable, element);\n",
              "          const docLink = document.createElement('div');\n",
              "          docLink.innerHTML = docLinkHtml;\n",
              "          element.appendChild(docLink);\n",
              "        }\n",
              "      </script>\n",
              "    </div>\n",
              "  </div>\n",
              "  "
            ]
          },
          "metadata": {},
          "execution_count": 15
        }
      ]
    },
    {
      "cell_type": "code",
      "execution_count": 16,
      "metadata": {
        "id": "NYUvsKCW1pTC"
      },
      "outputs": [],
      "source": [
        "from sklearn.model_selection import train_test_split"
      ]
    },
    {
      "cell_type": "code",
      "execution_count": 17,
      "metadata": {
        "id": "AURX8BCz1pTC"
      },
      "outputs": [],
      "source": [
        "# Split data into train and test, use parameter `stratify=y`\n",
        "\n",
        "X_train, X_test, y_train, y_test = train_test_split(X, y, test_size=0.20, random_state=774, stratify=y)"
      ]
    },
    {
      "cell_type": "code",
      "execution_count": 18,
      "metadata": {
        "id": "UJqqmZRe1pTD"
      },
      "outputs": [],
      "source": [
        "from sklearn.ensemble import RandomForestClassifier\n",
        "from sklearn.metrics import log_loss"
      ]
    },
    {
      "cell_type": "code",
      "execution_count": 19,
      "metadata": {
        "id": "8DwL_U0K1pTD",
        "outputId": "f1a3181f-7e1a-47ef-cc91-444af76e6727",
        "colab": {
          "base_uri": "https://localhost:8080/",
          "height": 74
        }
      },
      "outputs": [
        {
          "output_type": "execute_result",
          "data": {
            "text/plain": [
              "RandomForestClassifier()"
            ],
            "text/html": [
              "<style>#sk-container-id-1 {color: black;background-color: white;}#sk-container-id-1 pre{padding: 0;}#sk-container-id-1 div.sk-toggleable {background-color: white;}#sk-container-id-1 label.sk-toggleable__label {cursor: pointer;display: block;width: 100%;margin-bottom: 0;padding: 0.3em;box-sizing: border-box;text-align: center;}#sk-container-id-1 label.sk-toggleable__label-arrow:before {content: \"▸\";float: left;margin-right: 0.25em;color: #696969;}#sk-container-id-1 label.sk-toggleable__label-arrow:hover:before {color: black;}#sk-container-id-1 div.sk-estimator:hover label.sk-toggleable__label-arrow:before {color: black;}#sk-container-id-1 div.sk-toggleable__content {max-height: 0;max-width: 0;overflow: hidden;text-align: left;background-color: #f0f8ff;}#sk-container-id-1 div.sk-toggleable__content pre {margin: 0.2em;color: black;border-radius: 0.25em;background-color: #f0f8ff;}#sk-container-id-1 input.sk-toggleable__control:checked~div.sk-toggleable__content {max-height: 200px;max-width: 100%;overflow: auto;}#sk-container-id-1 input.sk-toggleable__control:checked~label.sk-toggleable__label-arrow:before {content: \"▾\";}#sk-container-id-1 div.sk-estimator input.sk-toggleable__control:checked~label.sk-toggleable__label {background-color: #d4ebff;}#sk-container-id-1 div.sk-label input.sk-toggleable__control:checked~label.sk-toggleable__label {background-color: #d4ebff;}#sk-container-id-1 input.sk-hidden--visually {border: 0;clip: rect(1px 1px 1px 1px);clip: rect(1px, 1px, 1px, 1px);height: 1px;margin: -1px;overflow: hidden;padding: 0;position: absolute;width: 1px;}#sk-container-id-1 div.sk-estimator {font-family: monospace;background-color: #f0f8ff;border: 1px dotted black;border-radius: 0.25em;box-sizing: border-box;margin-bottom: 0.5em;}#sk-container-id-1 div.sk-estimator:hover {background-color: #d4ebff;}#sk-container-id-1 div.sk-parallel-item::after {content: \"\";width: 100%;border-bottom: 1px solid gray;flex-grow: 1;}#sk-container-id-1 div.sk-label:hover label.sk-toggleable__label {background-color: #d4ebff;}#sk-container-id-1 div.sk-serial::before {content: \"\";position: absolute;border-left: 1px solid gray;box-sizing: border-box;top: 0;bottom: 0;left: 50%;z-index: 0;}#sk-container-id-1 div.sk-serial {display: flex;flex-direction: column;align-items: center;background-color: white;padding-right: 0.2em;padding-left: 0.2em;position: relative;}#sk-container-id-1 div.sk-item {position: relative;z-index: 1;}#sk-container-id-1 div.sk-parallel {display: flex;align-items: stretch;justify-content: center;background-color: white;position: relative;}#sk-container-id-1 div.sk-item::before, #sk-container-id-1 div.sk-parallel-item::before {content: \"\";position: absolute;border-left: 1px solid gray;box-sizing: border-box;top: 0;bottom: 0;left: 50%;z-index: -1;}#sk-container-id-1 div.sk-parallel-item {display: flex;flex-direction: column;z-index: 1;position: relative;background-color: white;}#sk-container-id-1 div.sk-parallel-item:first-child::after {align-self: flex-end;width: 50%;}#sk-container-id-1 div.sk-parallel-item:last-child::after {align-self: flex-start;width: 50%;}#sk-container-id-1 div.sk-parallel-item:only-child::after {width: 0;}#sk-container-id-1 div.sk-dashed-wrapped {border: 1px dashed gray;margin: 0 0.4em 0.5em 0.4em;box-sizing: border-box;padding-bottom: 0.4em;background-color: white;}#sk-container-id-1 div.sk-label label {font-family: monospace;font-weight: bold;display: inline-block;line-height: 1.2em;}#sk-container-id-1 div.sk-label-container {text-align: center;}#sk-container-id-1 div.sk-container {/* jupyter's `normalize.less` sets `[hidden] { display: none; }` but bootstrap.min.css set `[hidden] { display: none !important; }` so we also need the `!important` here to be able to override the default hidden behavior on the sphinx rendered scikit-learn.org. See: https://github.com/scikit-learn/scikit-learn/issues/21755 */display: inline-block !important;position: relative;}#sk-container-id-1 div.sk-text-repr-fallback {display: none;}</style><div id=\"sk-container-id-1\" class=\"sk-top-container\"><div class=\"sk-text-repr-fallback\"><pre>RandomForestClassifier()</pre><b>In a Jupyter environment, please rerun this cell to show the HTML representation or trust the notebook. <br />On GitHub, the HTML representation is unable to render, please try loading this page with nbviewer.org.</b></div><div class=\"sk-container\" hidden><div class=\"sk-item\"><div class=\"sk-estimator sk-toggleable\"><input class=\"sk-toggleable__control sk-hidden--visually\" id=\"sk-estimator-id-1\" type=\"checkbox\" checked><label for=\"sk-estimator-id-1\" class=\"sk-toggleable__label sk-toggleable__label-arrow\">RandomForestClassifier</label><div class=\"sk-toggleable__content\"><pre>RandomForestClassifier()</pre></div></div></div></div></div>"
            ]
          },
          "metadata": {},
          "execution_count": 19
        }
      ],
      "source": [
        "# train a RandomForest model with default hyperparameters\n",
        "\n",
        "clf = RandomForestClassifier()\n",
        "clf.fit(X_train, y_train)"
      ]
    },
    {
      "cell_type": "markdown",
      "metadata": {
        "id": "9BvfG7RX1pTE"
      },
      "source": [
        "---\n",
        "For this tash we are using a log loss $$- y \\log p - (1-y)\\log(1-p)$$\n",
        "in the following multi class form:\n",
        "\n",
        "$$\\frac{1}{N}\\sum_{i=1}^N \\log {\\left(\\frac{e^{a_{it_i}}}{\\sum_{j=0}^{M-1} e^{a_{ij}}}\\right)}$$\n",
        "\n",
        "$t \\in \\{0\\ldots M-1\\}$, $M$ is number of classes, $N$ is number of objects. Numerator is $a_{it_{i}}$ = \\[ unnormalized probability of an $i$'th object to be assigned to the right class $t_i$\\], thus:\n",
        "\n",
        "$$p_{it_i} = \\frac{e^{a_{it_i}}}{\\sum_{j=0}^{M-1} e^{a_{ij}}}$$\n",
        "\n",
        "see for example https://towardsdatascience.com/cross-entropy-for-classification-d98e7f974451"
      ]
    },
    {
      "cell_type": "code",
      "execution_count": 20,
      "metadata": {
        "id": "sM3-sgHG1pTE",
        "outputId": "05ab8388-6df8-46c3-bf88-175e9ce0f3dc",
        "colab": {
          "base_uri": "https://localhost:8080/"
        }
      },
      "outputs": [
        {
          "output_type": "execute_result",
          "data": {
            "text/plain": [
              "2.6321989651772904"
            ]
          },
          "metadata": {},
          "execution_count": 20
        }
      ],
      "source": [
        "# predict y_test and compute multi-class log loss of your prediction\n",
        "\n",
        "y_pred = clf.predict_proba(X_test)\n",
        "log_loss(y_test, y_pred)"
      ]
    },
    {
      "cell_type": "code",
      "execution_count": 21,
      "metadata": {
        "id": "70kD-0dI1pTE",
        "outputId": "f06129a5-40e2-4a1c-e5fb-2e596c1954fb",
        "colab": {
          "base_uri": "https://localhost:8080/"
        }
      },
      "outputs": [
        {
          "output_type": "execute_result",
          "data": {
            "text/plain": [
              "(19135, 38)"
            ]
          },
          "metadata": {},
          "execution_count": 21
        }
      ],
      "source": [
        "y_pred.shape"
      ]
    },
    {
      "cell_type": "code",
      "execution_count": 22,
      "metadata": {
        "id": "aaaOsT_d1pTF"
      },
      "outputs": [],
      "source": [
        "from sklearn.metrics import accuracy_score"
      ]
    },
    {
      "cell_type": "code",
      "execution_count": 23,
      "metadata": {
        "id": "vag2kfbp1pTF",
        "outputId": "09b7e1a2-5970-4bb2-fa45-223e0be83d27",
        "colab": {
          "base_uri": "https://localhost:8080/"
        }
      },
      "outputs": [
        {
          "output_type": "execute_result",
          "data": {
            "text/plain": [
              "0.27640449438202247"
            ]
          },
          "metadata": {},
          "execution_count": 23
        }
      ],
      "source": [
        "# just to get an intuition on whether it is a good a bad prediction compute an accuracy of your model\n",
        "\n",
        "y_pred = clf.predict(X_test)\n",
        "accuracy_score(y_test, y_pred)"
      ]
    },
    {
      "cell_type": "code",
      "source": [
        "X_test.shape, len(y_pred)"
      ],
      "metadata": {
        "colab": {
          "base_uri": "https://localhost:8080/"
        },
        "id": "oTPNU2g7Mbzm",
        "outputId": "24c8e9a7-ec03-4431-bd77-2ddd2f21d6d1"
      },
      "execution_count": 24,
      "outputs": [
        {
          "output_type": "execute_result",
          "data": {
            "text/plain": [
              "((19135, 2), 19135)"
            ]
          },
          "metadata": {},
          "execution_count": 24
        }
      ]
    },
    {
      "cell_type": "code",
      "execution_count": 25,
      "metadata": {
        "id": "ChfglRW_1pTG",
        "outputId": "841e477d-0a6e-42a7-a3c4-e3fce3cfed41",
        "colab": {
          "base_uri": "https://localhost:8080/"
        }
      },
      "outputs": [
        {
          "output_type": "execute_result",
          "data": {
            "text/plain": [
              "(array([ 5, 31, 32]), array([9480, 7923, 1732]))"
            ]
          },
          "metadata": {},
          "execution_count": 25
        }
      ],
      "source": [
        "# Remember this is a 38 class classification, count predicted classes\n",
        "\n",
        "np.unique(y_pred, return_counts=True)"
      ]
    },
    {
      "cell_type": "code",
      "execution_count": 26,
      "metadata": {
        "id": "Bp8Aztb_1pTG",
        "outputId": "a33bb104-33da-46bc-c78f-c367a3ab39d8",
        "colab": {
          "base_uri": "https://localhost:8080/"
        }
      },
      "outputs": [
        {
          "output_type": "execute_result",
          "data": {
            "text/plain": [
              "5     9729\n",
              "31    7917\n",
              "6     7571\n",
              "37    6755\n",
              "32    4904\n",
              "4     4602\n",
              "2     3674\n",
              "17    2958\n",
              "0     2914\n",
              "28    2404\n",
              "30    2330\n",
              "29    2230\n",
              "16    2087\n",
              "27    1624\n",
              "24    1587\n",
              "34    1486\n",
              "25    1052\n",
              "3     1022\n",
              "36     950\n",
              "22     865\n",
              "9      782\n",
              "14     742\n",
              "35     698\n",
              "19     628\n",
              "26     575\n",
              "13     513\n",
              "12     510\n",
              "23     475\n",
              "33     466\n",
              "10     439\n",
              "18     403\n",
              "20     394\n",
              "21     347\n",
              "11     300\n",
              "1      277\n",
              "7      215\n",
              "15     111\n",
              "8        3\n",
              "Name: TripType_encoded, dtype: int64"
            ]
          },
          "metadata": {},
          "execution_count": 26
        }
      ],
      "source": [
        "# Check value counts of a TripType on a train set\n",
        "\n",
        "y_train.value_counts()"
      ]
    },
    {
      "cell_type": "markdown",
      "metadata": {
        "id": "l_0oB6M51pTG"
      },
      "source": [
        "## Compare with the constant prediction\n"
      ]
    },
    {
      "cell_type": "code",
      "execution_count": 27,
      "metadata": {
        "id": "dMmpn9Rx1pTH",
        "outputId": "08a74f4e-b0ab-450f-bfaf-11650d3f4eed",
        "colab": {
          "base_uri": "https://localhost:8080/"
        }
      },
      "outputs": [
        {
          "output_type": "stream",
          "name": "stdout",
          "text": [
            "0.1270969427750196\n",
            "31.462615236917888\n"
          ]
        }
      ],
      "source": [
        "# Compute a log loss and an accuracy of a constant prediction (predict most frequent TripType)\n",
        "\n",
        "y_dummy = [5]*19135\n",
        "print(accuracy_score(y_test, y_dummy))\n",
        "\n",
        "y_dummy_proba = np.zeros((19135, 38))\n",
        "y_dummy_proba[:, 5] = 1\n",
        "print(log_loss(y_test, y_dummy_proba))"
      ]
    },
    {
      "cell_type": "code",
      "execution_count": 27,
      "metadata": {
        "id": "4md2QqAe1pTH"
      },
      "outputs": [],
      "source": []
    },
    {
      "cell_type": "markdown",
      "metadata": {
        "id": "nMdjC7bp1pTH"
      },
      "source": [
        "## Conclusions on the baseline\n",
        "1. Even with this simple features and relatively stupid predictions we are better than a constant prediction.\n",
        "2. Classifier mostly predicts frequent classes.\n",
        "3. Some frequent classes are predicted and some are not. This may be due to the fact that predicted\n",
        "classes are better described by the generated features."
      ]
    },
    {
      "cell_type": "code",
      "execution_count": 27,
      "metadata": {
        "id": "IGW788121pTI"
      },
      "outputs": [],
      "source": []
    },
    {
      "cell_type": "markdown",
      "metadata": {
        "id": "pERXvJLo1pTI"
      },
      "source": [
        "# 3. Deeper look on the features.\n",
        "\n",
        "### Columns description\n",
        "\n",
        "- `TripType` - a categorical id representing the type of shopping trip the customer made. This is the ground truth that you are predicting. TripType_999 is an \"other\" category.\n",
        "- `VisitNumber` - an id corresponding to a single trip by a single customer\n",
        "- `Weekday` - the weekday of the trip\n",
        "- `Upc`- the UPC number of the product purchased\n",
        "- `ScanCount` - the number of the given item that was purchased. A negative value indicates a product return.\n",
        "- `DepartmentDescription` - a high-level description of the item's department\n",
        "- `FinelineNumber` - a more refined category for each of the products, created by Walmart\n"
      ]
    },
    {
      "cell_type": "code",
      "execution_count": 28,
      "metadata": {
        "id": "-EJaT9iC1pTI",
        "outputId": "d9cb0b40-45a4-4a25-d3e9-3ec71d3cc5d3",
        "colab": {
          "base_uri": "https://localhost:8080/",
          "height": 206
        }
      },
      "outputs": [
        {
          "output_type": "execute_result",
          "data": {
            "text/plain": [
              "   TripType  VisitNumber Weekday           Upc  ScanCount  \\\n",
              "0       999            5  Friday  6.811315e+10         -1   \n",
              "1        30            7  Friday  6.053882e+10          1   \n",
              "2        30            7  Friday  7.410811e+09          1   \n",
              "3        26            8  Friday  2.238404e+09          2   \n",
              "4        26            8  Friday  2.006614e+09          2   \n",
              "\n",
              "   DepartmentDescription  FinelineNumber  \n",
              "0     FINANCIAL SERVICES          1000.0  \n",
              "1                  SHOES          8931.0  \n",
              "2          PERSONAL CARE          4504.0  \n",
              "3  PAINT AND ACCESSORIES          3565.0  \n",
              "4  PAINT AND ACCESSORIES          1017.0  "
            ],
            "text/html": [
              "\n",
              "  <div id=\"df-93582959-8aa3-4a83-a6a0-a2358caea79c\">\n",
              "    <div class=\"colab-df-container\">\n",
              "      <div>\n",
              "<style scoped>\n",
              "    .dataframe tbody tr th:only-of-type {\n",
              "        vertical-align: middle;\n",
              "    }\n",
              "\n",
              "    .dataframe tbody tr th {\n",
              "        vertical-align: top;\n",
              "    }\n",
              "\n",
              "    .dataframe thead th {\n",
              "        text-align: right;\n",
              "    }\n",
              "</style>\n",
              "<table border=\"1\" class=\"dataframe\">\n",
              "  <thead>\n",
              "    <tr style=\"text-align: right;\">\n",
              "      <th></th>\n",
              "      <th>TripType</th>\n",
              "      <th>VisitNumber</th>\n",
              "      <th>Weekday</th>\n",
              "      <th>Upc</th>\n",
              "      <th>ScanCount</th>\n",
              "      <th>DepartmentDescription</th>\n",
              "      <th>FinelineNumber</th>\n",
              "    </tr>\n",
              "  </thead>\n",
              "  <tbody>\n",
              "    <tr>\n",
              "      <th>0</th>\n",
              "      <td>999</td>\n",
              "      <td>5</td>\n",
              "      <td>Friday</td>\n",
              "      <td>6.811315e+10</td>\n",
              "      <td>-1</td>\n",
              "      <td>FINANCIAL SERVICES</td>\n",
              "      <td>1000.0</td>\n",
              "    </tr>\n",
              "    <tr>\n",
              "      <th>1</th>\n",
              "      <td>30</td>\n",
              "      <td>7</td>\n",
              "      <td>Friday</td>\n",
              "      <td>6.053882e+10</td>\n",
              "      <td>1</td>\n",
              "      <td>SHOES</td>\n",
              "      <td>8931.0</td>\n",
              "    </tr>\n",
              "    <tr>\n",
              "      <th>2</th>\n",
              "      <td>30</td>\n",
              "      <td>7</td>\n",
              "      <td>Friday</td>\n",
              "      <td>7.410811e+09</td>\n",
              "      <td>1</td>\n",
              "      <td>PERSONAL CARE</td>\n",
              "      <td>4504.0</td>\n",
              "    </tr>\n",
              "    <tr>\n",
              "      <th>3</th>\n",
              "      <td>26</td>\n",
              "      <td>8</td>\n",
              "      <td>Friday</td>\n",
              "      <td>2.238404e+09</td>\n",
              "      <td>2</td>\n",
              "      <td>PAINT AND ACCESSORIES</td>\n",
              "      <td>3565.0</td>\n",
              "    </tr>\n",
              "    <tr>\n",
              "      <th>4</th>\n",
              "      <td>26</td>\n",
              "      <td>8</td>\n",
              "      <td>Friday</td>\n",
              "      <td>2.006614e+09</td>\n",
              "      <td>2</td>\n",
              "      <td>PAINT AND ACCESSORIES</td>\n",
              "      <td>1017.0</td>\n",
              "    </tr>\n",
              "  </tbody>\n",
              "</table>\n",
              "</div>\n",
              "      <button class=\"colab-df-convert\" onclick=\"convertToInteractive('df-93582959-8aa3-4a83-a6a0-a2358caea79c')\"\n",
              "              title=\"Convert this dataframe to an interactive table.\"\n",
              "              style=\"display:none;\">\n",
              "        \n",
              "  <svg xmlns=\"http://www.w3.org/2000/svg\" height=\"24px\"viewBox=\"0 0 24 24\"\n",
              "       width=\"24px\">\n",
              "    <path d=\"M0 0h24v24H0V0z\" fill=\"none\"/>\n",
              "    <path d=\"M18.56 5.44l.94 2.06.94-2.06 2.06-.94-2.06-.94-.94-2.06-.94 2.06-2.06.94zm-11 1L8.5 8.5l.94-2.06 2.06-.94-2.06-.94L8.5 2.5l-.94 2.06-2.06.94zm10 10l.94 2.06.94-2.06 2.06-.94-2.06-.94-.94-2.06-.94 2.06-2.06.94z\"/><path d=\"M17.41 7.96l-1.37-1.37c-.4-.4-.92-.59-1.43-.59-.52 0-1.04.2-1.43.59L10.3 9.45l-7.72 7.72c-.78.78-.78 2.05 0 2.83L4 21.41c.39.39.9.59 1.41.59.51 0 1.02-.2 1.41-.59l7.78-7.78 2.81-2.81c.8-.78.8-2.07 0-2.86zM5.41 20L4 18.59l7.72-7.72 1.47 1.35L5.41 20z\"/>\n",
              "  </svg>\n",
              "      </button>\n",
              "      \n",
              "  <style>\n",
              "    .colab-df-container {\n",
              "      display:flex;\n",
              "      flex-wrap:wrap;\n",
              "      gap: 12px;\n",
              "    }\n",
              "\n",
              "    .colab-df-convert {\n",
              "      background-color: #E8F0FE;\n",
              "      border: none;\n",
              "      border-radius: 50%;\n",
              "      cursor: pointer;\n",
              "      display: none;\n",
              "      fill: #1967D2;\n",
              "      height: 32px;\n",
              "      padding: 0 0 0 0;\n",
              "      width: 32px;\n",
              "    }\n",
              "\n",
              "    .colab-df-convert:hover {\n",
              "      background-color: #E2EBFA;\n",
              "      box-shadow: 0px 1px 2px rgba(60, 64, 67, 0.3), 0px 1px 3px 1px rgba(60, 64, 67, 0.15);\n",
              "      fill: #174EA6;\n",
              "    }\n",
              "\n",
              "    [theme=dark] .colab-df-convert {\n",
              "      background-color: #3B4455;\n",
              "      fill: #D2E3FC;\n",
              "    }\n",
              "\n",
              "    [theme=dark] .colab-df-convert:hover {\n",
              "      background-color: #434B5C;\n",
              "      box-shadow: 0px 1px 3px 1px rgba(0, 0, 0, 0.15);\n",
              "      filter: drop-shadow(0px 1px 2px rgba(0, 0, 0, 0.3));\n",
              "      fill: #FFFFFF;\n",
              "    }\n",
              "  </style>\n",
              "\n",
              "      <script>\n",
              "        const buttonEl =\n",
              "          document.querySelector('#df-93582959-8aa3-4a83-a6a0-a2358caea79c button.colab-df-convert');\n",
              "        buttonEl.style.display =\n",
              "          google.colab.kernel.accessAllowed ? 'block' : 'none';\n",
              "\n",
              "        async function convertToInteractive(key) {\n",
              "          const element = document.querySelector('#df-93582959-8aa3-4a83-a6a0-a2358caea79c');\n",
              "          const dataTable =\n",
              "            await google.colab.kernel.invokeFunction('convertToInteractive',\n",
              "                                                     [key], {});\n",
              "          if (!dataTable) return;\n",
              "\n",
              "          const docLinkHtml = 'Like what you see? Visit the ' +\n",
              "            '<a target=\"_blank\" href=https://colab.research.google.com/notebooks/data_table.ipynb>data table notebook</a>'\n",
              "            + ' to learn more about interactive tables.';\n",
              "          element.innerHTML = '';\n",
              "          dataTable['output_type'] = 'display_data';\n",
              "          await google.colab.output.renderOutput(dataTable, element);\n",
              "          const docLink = document.createElement('div');\n",
              "          docLink.innerHTML = docLinkHtml;\n",
              "          element.appendChild(docLink);\n",
              "        }\n",
              "      </script>\n",
              "    </div>\n",
              "  </div>\n",
              "  "
            ]
          },
          "metadata": {},
          "execution_count": 28
        }
      ],
      "source": [
        "train.head()"
      ]
    },
    {
      "cell_type": "code",
      "execution_count": 29,
      "metadata": {
        "id": "vht1RRvT1pTI",
        "outputId": "10ce2931-7a68-4d7e-cfc4-7fd710de4b18",
        "colab": {
          "base_uri": "https://localhost:8080/"
        }
      },
      "outputs": [
        {
          "output_type": "execute_result",
          "data": {
            "text/plain": [
              "TripType                   int64\n",
              "VisitNumber                int64\n",
              "Weekday                   object\n",
              "Upc                      float64\n",
              "ScanCount                  int64\n",
              "DepartmentDescription     object\n",
              "FinelineNumber           float64\n",
              "dtype: object"
            ]
          },
          "metadata": {},
          "execution_count": 29
        }
      ],
      "source": [
        "train.dtypes"
      ]
    },
    {
      "cell_type": "markdown",
      "metadata": {
        "id": "vxiruG1U1pTJ"
      },
      "source": [
        "All features, except `ScanCount` are categorical, a negative value of a `ScanCount` indicates a product return.\n",
        "\n",
        "### 3.1 VisitNumber \n",
        "is an indicator of a visit, we need it to aggregate different purchases,\n",
        "but the number itself is not important it is just an index. Let's have a quick look on it."
      ]
    },
    {
      "cell_type": "code",
      "execution_count": 30,
      "metadata": {
        "id": "7vEEGzXg1pTJ",
        "outputId": "c30bdc85-bf56-4434-ced8-bf1342017da3",
        "colab": {
          "base_uri": "https://localhost:8080/"
        }
      },
      "outputs": [
        {
          "output_type": "execute_result",
          "data": {
            "text/plain": [
              "72439     209\n",
              "88011     151\n",
              "9181      113\n",
              "60971     112\n",
              "65792     111\n",
              "         ... \n",
              "59978       1\n",
              "107116      1\n",
              "59988       1\n",
              "162017      1\n",
              "5           1\n",
              "Name: VisitNumber, Length: 95674, dtype: int64"
            ]
          },
          "metadata": {},
          "execution_count": 30
        }
      ],
      "source": [
        "train.VisitNumber.value_counts()"
      ]
    },
    {
      "cell_type": "code",
      "execution_count": 31,
      "metadata": {
        "id": "P3Tz0kQY1pTK",
        "outputId": "44776065-5826-4188-e0b3-cdc76883d651",
        "colab": {
          "base_uri": "https://localhost:8080/",
          "height": 449
        }
      },
      "outputs": [
        {
          "output_type": "display_data",
          "data": {
            "text/plain": [
              "<Figure size 640x480 with 1 Axes>"
            ],
            "image/png": "[encoded data removed]"
          },
          "metadata": {}
        }
      ],
      "source": [
        "sns.histplot(data=train.VisitNumber.value_counts(), bins=50);"
      ]
    },
    {
      "cell_type": "code",
      "source": [
        "train.shape"
      ],
      "metadata": {
        "colab": {
          "base_uri": "https://localhost:8080/"
        },
        "id": "lQvj0_bTYnI_",
        "outputId": "ca295b5e-ffae-457d-a7d9-60cf22a33e5b"
      },
      "execution_count": 32,
      "outputs": [
        {
          "output_type": "execute_result",
          "data": {
            "text/plain": [
              "(647054, 7)"
            ]
          },
          "metadata": {},
          "execution_count": 32
        }
      ]
    },
    {
      "cell_type": "code",
      "execution_count": 33,
      "metadata": {
        "id": "bdd1X5RZ1pTK",
        "outputId": "13cd663d-1fa1-47b0-c1ab-e96960314983",
        "colab": {
          "base_uri": "https://localhost:8080/"
        }
      },
      "outputs": [
        {
          "output_type": "execute_result",
          "data": {
            "text/plain": [
              "1     19563\n",
              "2     17255\n",
              "3     10362\n",
              "4      8038\n",
              "5      5884\n",
              "6      4633\n",
              "7      3716\n",
              "8      3154\n",
              "9      2593\n",
              "10     2251\n",
              "11     1889\n",
              "12     1746\n",
              "13     1519\n",
              "14     1253\n",
              "15     1207\n",
              "16     1030\n",
              "17      887\n",
              "18      772\n",
              "19      699\n",
              "20      674\n",
              "Name: VisitNumber, dtype: int64"
            ]
          },
          "metadata": {},
          "execution_count": 33
        }
      ],
      "source": [
        "train.VisitNumber.value_counts().value_counts().sort_index()[:20]"
      ]
    },
    {
      "cell_type": "code",
      "source": [
        "sum(train.VisitNumber.value_counts().value_counts().sort_index()[:17]) / sum(train.VisitNumber.value_counts().value_counts())"
      ],
      "metadata": {
        "colab": {
          "base_uri": "https://localhost:8080/"
        },
        "id": "CG18xttaZXxa",
        "outputId": "af575a66-56b6-471f-a548-97799422510b"
      },
      "execution_count": 34,
      "outputs": [
        {
          "output_type": "execute_result",
          "data": {
            "text/plain": [
              "0.9091289169471329"
            ]
          },
          "metadata": {},
          "execution_count": 34
        }
      ]
    },
    {
      "cell_type": "markdown",
      "metadata": {
        "id": "D95hu_qY1pTK"
      },
      "source": [
        "--- \n",
        "\n",
        "- More than half of all Visit consists of 4 or less purchases\n",
        "- 90% of Visits consist of 17 or less purchases"
      ]
    },
    {
      "cell_type": "code",
      "execution_count": 34,
      "metadata": {
        "id": "dIRixUc21pTL"
      },
      "outputs": [],
      "source": []
    },
    {
      "cell_type": "markdown",
      "metadata": {
        "id": "TwJOIFHr1pTL"
      },
      "source": [
        "### 3.2 Weekday"
      ]
    },
    {
      "cell_type": "code",
      "execution_count": 35,
      "metadata": {
        "id": "5HyA01n_1pTL",
        "outputId": "962fe2d7-a5de-42be-8e38-88a8fb7bdb51",
        "colab": {
          "base_uri": "https://localhost:8080/"
        }
      },
      "outputs": [
        {
          "output_type": "execute_result",
          "data": {
            "text/plain": [
              "Monday        83130\n",
              "Tuesday       72529\n",
              "Wednesday     71115\n",
              "Thursday      67962\n",
              "Friday        96247\n",
              "Saturday     122096\n",
              "Sunday       133975\n",
              "Name: Weekday, dtype: int64"
            ]
          },
          "metadata": {},
          "execution_count": 35
        }
      ],
      "source": [
        "# How many visits are on different weekdays\n",
        "weekdays = ['Monday', 'Tuesday', 'Wednesday','Thursday','Friday', 'Saturday', 'Sunday']\n",
        "\n",
        "train.Weekday.value_counts().reindex(weekdays)"
      ]
    },
    {
      "cell_type": "code",
      "execution_count": 36,
      "metadata": {
        "id": "M4ElpoE11pTL",
        "outputId": "87de8836-9414-4c3d-dea2-88b358eb7a38",
        "colab": {
          "base_uri": "https://localhost:8080/"
        }
      },
      "outputs": [
        {
          "output_type": "execute_result",
          "data": {
            "text/plain": [
              "Weekday\n",
              "Monday       1926\n",
              "Tuesday      1878\n",
              "Wednesday    1871\n",
              "Thursday     1793\n",
              "Friday       2418\n",
              "Saturday     2763\n",
              "Sunday       2809\n",
              "Name: IsReturn, dtype: int64"
            ]
          },
          "metadata": {},
          "execution_count": 36
        }
      ],
      "source": [
        "# Do we have more returns on some weekdays?\n",
        "\n",
        "train['IsReturn'] = train['ScanCount'].apply(lambda x: x < 0)\n",
        "train.groupby(['Weekday'])['IsReturn'].sum().sort_values().reindex(weekdays)"
      ]
    },
    {
      "cell_type": "code",
      "execution_count": 37,
      "metadata": {
        "id": "bcuUMFEL1pTM",
        "outputId": "2fbde619-8794-4387-8ba5-d186e4627db5",
        "colab": {
          "base_uri": "https://localhost:8080/"
        }
      },
      "outputs": [
        {
          "output_type": "execute_result",
          "data": {
            "text/plain": [
              "-1     14394\n",
              "-2       814\n",
              "-3       143\n",
              "-4        76\n",
              "-5        16\n",
              "-6        10\n",
              "-9         2\n",
              "-12        1\n",
              "-7         1\n",
              "-10        1\n",
              "Name: ScanCount, dtype: int64"
            ]
          },
          "metadata": {},
          "execution_count": 37
        }
      ],
      "source": [
        "# Is there only `-1` returns?\n",
        "\n",
        "train[train.IsReturn].ScanCount.value_counts()"
      ]
    },
    {
      "cell_type": "markdown",
      "metadata": {
        "id": "AFborRFn1pTM"
      },
      "source": [
        "### 3.3 DepartmentDescription"
      ]
    },
    {
      "cell_type": "code",
      "execution_count": 38,
      "metadata": {
        "id": "Tn2bsJG51pTM",
        "outputId": "1c44f103-79d4-4039-f95b-f0bbab7b93e2",
        "colab": {
          "base_uri": "https://localhost:8080/"
        }
      },
      "outputs": [
        {
          "output_type": "execute_result",
          "data": {
            "text/plain": [
              "DepartmentDescription\n",
              "GROCERY DRY GOODS              88718\n",
              "DSD GROCERY                    79814\n",
              "PRODUCE                        52813\n",
              "DAIRY                          50550\n",
              "PERSONAL CARE                  44819\n",
              "IMPULSE MERCHANDISE            31811\n",
              "HOUSEHOLD CHEMICALS/SUPP       26915\n",
              "PHARMACY OTC                   25620\n",
              "FROZEN FOODS                   25368\n",
              "HOUSEHOLD PAPER GOODS          17986\n",
              "COMM BREAD                     17516\n",
              "BEAUTY                         15077\n",
              "INFANT CONSUMABLE HARDLINES    13149\n",
              "PETS AND SUPPLIES              12592\n",
              "CANDY, TOBACCO, COOKIES        11745\n",
              "MENS WEAR                      11690\n",
              "MEAT - FRESH & FROZEN          10882\n",
              "SERVICE DELI                   10777\n",
              "PRE PACKED DELI                10722\n",
              "CELEBRATION                     9957\n",
              "Name: ScanCount, dtype: int64"
            ]
          },
          "metadata": {},
          "execution_count": 38
        }
      ],
      "source": [
        "# What are the most popular Departments? (total sum over ScanCount)\n",
        "\n",
        "train.groupby('DepartmentDescription').ScanCount.sum().sort_values(ascending=False)[:20]"
      ]
    },
    {
      "cell_type": "code",
      "source": [
        "gp = train.groupby('TripType')['DepartmentDescription'].value_counts().reset_index(name='Count')\n",
        "gp"
      ],
      "metadata": {
        "colab": {
          "base_uri": "https://localhost:8080/",
          "height": 423
        },
        "id": "N8_w9EIObvvV",
        "outputId": "0e1bcaed-b77b-421d-d5dc-fa1c7a1a08fb"
      },
      "execution_count": 39,
      "outputs": [
        {
          "output_type": "execute_result",
          "data": {
            "text/plain": [
              "      TripType   DepartmentDescription  Count\n",
              "0            3      FINANCIAL SERVICES   5369\n",
              "1            3     IMPULSE MERCHANDISE    804\n",
              "2            3   LARGE HOUSEHOLD GOODS     76\n",
              "3            3             DSD GROCERY     59\n",
              "4            3            PHARMACY OTC     45\n",
              "...        ...                     ...    ...\n",
              "2120       999            LADIES SOCKS     17\n",
              "2121       999                 SEAFOOD      7\n",
              "2122       999  HEALTH AND BEAUTY AIDS      1\n",
              "2123       999   LARGE HOUSEHOLD GOODS      1\n",
              "2124       999                SEASONAL      1\n",
              "\n",
              "[2125 rows x 3 columns]"
            ],
            "text/html": [
              "\n",
              "  <div id=\"df-42d6f89a-1255-41e1-b08f-f9893a5c012e\">\n",
              "    <div class=\"colab-df-container\">\n",
              "      <div>\n",
              "<style scoped>\n",
              "    .dataframe tbody tr th:only-of-type {\n",
              "        vertical-align: middle;\n",
              "    }\n",
              "\n",
              "    .dataframe tbody tr th {\n",
              "        vertical-align: top;\n",
              "    }\n",
              "\n",
              "    .dataframe thead th {\n",
              "        text-align: right;\n",
              "    }\n",
              "</style>\n",
              "<table border=\"1\" class=\"dataframe\">\n",
              "  <thead>\n",
              "    <tr style=\"text-align: right;\">\n",
              "      <th></th>\n",
              "      <th>TripType</th>\n",
              "      <th>DepartmentDescription</th>\n",
              "      <th>Count</th>\n",
              "    </tr>\n",
              "  </thead>\n",
              "  <tbody>\n",
              "    <tr>\n",
              "      <th>0</th>\n",
              "      <td>3</td>\n",
              "      <td>FINANCIAL SERVICES</td>\n",
              "      <td>5369</td>\n",
              "    </tr>\n",
              "    <tr>\n",
              "      <th>1</th>\n",
              "      <td>3</td>\n",
              "      <td>IMPULSE MERCHANDISE</td>\n",
              "      <td>804</td>\n",
              "    </tr>\n",
              "    <tr>\n",
              "      <th>2</th>\n",
              "      <td>3</td>\n",
              "      <td>LARGE HOUSEHOLD GOODS</td>\n",
              "      <td>76</td>\n",
              "    </tr>\n",
              "    <tr>\n",
              "      <th>3</th>\n",
              "      <td>3</td>\n",
              "      <td>DSD GROCERY</td>\n",
              "      <td>59</td>\n",
              "    </tr>\n",
              "    <tr>\n",
              "      <th>4</th>\n",
              "      <td>3</td>\n",
              "      <td>PHARMACY OTC</td>\n",
              "      <td>45</td>\n",
              "    </tr>\n",
              "    <tr>\n",
              "      <th>...</th>\n",
              "      <td>...</td>\n",
              "      <td>...</td>\n",
              "      <td>...</td>\n",
              "    </tr>\n",
              "    <tr>\n",
              "      <th>2120</th>\n",
              "      <td>999</td>\n",
              "      <td>LADIES SOCKS</td>\n",
              "      <td>17</td>\n",
              "    </tr>\n",
              "    <tr>\n",
              "      <th>2121</th>\n",
              "      <td>999</td>\n",
              "      <td>SEAFOOD</td>\n",
              "      <td>7</td>\n",
              "    </tr>\n",
              "    <tr>\n",
              "      <th>2122</th>\n",
              "      <td>999</td>\n",
              "      <td>HEALTH AND BEAUTY AIDS</td>\n",
              "      <td>1</td>\n",
              "    </tr>\n",
              "    <tr>\n",
              "      <th>2123</th>\n",
              "      <td>999</td>\n",
              "      <td>LARGE HOUSEHOLD GOODS</td>\n",
              "      <td>1</td>\n",
              "    </tr>\n",
              "    <tr>\n",
              "      <th>2124</th>\n",
              "      <td>999</td>\n",
              "      <td>SEASONAL</td>\n",
              "      <td>1</td>\n",
              "    </tr>\n",
              "  </tbody>\n",
              "</table>\n",
              "<p>2125 rows × 3 columns</p>\n",
              "</div>\n",
              "      <button class=\"colab-df-convert\" onclick=\"convertToInteractive('df-42d6f89a-1255-41e1-b08f-f9893a5c012e')\"\n",
              "              title=\"Convert this dataframe to an interactive table.\"\n",
              "              style=\"display:none;\">\n",
              "        \n",
              "  <svg xmlns=\"http://www.w3.org/2000/svg\" height=\"24px\"viewBox=\"0 0 24 24\"\n",
              "       width=\"24px\">\n",
              "    <path d=\"M0 0h24v24H0V0z\" fill=\"none\"/>\n",
              "    <path d=\"M18.56 5.44l.94 2.06.94-2.06 2.06-.94-2.06-.94-.94-2.06-.94 2.06-2.06.94zm-11 1L8.5 8.5l.94-2.06 2.06-.94-2.06-.94L8.5 2.5l-.94 2.06-2.06.94zm10 10l.94 2.06.94-2.06 2.06-.94-2.06-.94-.94-2.06-.94 2.06-2.06.94z\"/><path d=\"M17.41 7.96l-1.37-1.37c-.4-.4-.92-.59-1.43-.59-.52 0-1.04.2-1.43.59L10.3 9.45l-7.72 7.72c-.78.78-.78 2.05 0 2.83L4 21.41c.39.39.9.59 1.41.59.51 0 1.02-.2 1.41-.59l7.78-7.78 2.81-2.81c.8-.78.8-2.07 0-2.86zM5.41 20L4 18.59l7.72-7.72 1.47 1.35L5.41 20z\"/>\n",
              "  </svg>\n",
              "      </button>\n",
              "      \n",
              "  <style>\n",
              "    .colab-df-container {\n",
              "      display:flex;\n",
              "      flex-wrap:wrap;\n",
              "      gap: 12px;\n",
              "    }\n",
              "\n",
              "    .colab-df-convert {\n",
              "      background-color: #E8F0FE;\n",
              "      border: none;\n",
              "      border-radius: 50%;\n",
              "      cursor: pointer;\n",
              "      display: none;\n",
              "      fill: #1967D2;\n",
              "      height: 32px;\n",
              "      padding: 0 0 0 0;\n",
              "      width: 32px;\n",
              "    }\n",
              "\n",
              "    .colab-df-convert:hover {\n",
              "      background-color: #E2EBFA;\n",
              "      box-shadow: 0px 1px 2px rgba(60, 64, 67, 0.3), 0px 1px 3px 1px rgba(60, 64, 67, 0.15);\n",
              "      fill: #174EA6;\n",
              "    }\n",
              "\n",
              "    [theme=dark] .colab-df-convert {\n",
              "      background-color: #3B4455;\n",
              "      fill: #D2E3FC;\n",
              "    }\n",
              "\n",
              "    [theme=dark] .colab-df-convert:hover {\n",
              "      background-color: #434B5C;\n",
              "      box-shadow: 0px 1px 3px 1px rgba(0, 0, 0, 0.15);\n",
              "      filter: drop-shadow(0px 1px 2px rgba(0, 0, 0, 0.3));\n",
              "      fill: #FFFFFF;\n",
              "    }\n",
              "  </style>\n",
              "\n",
              "      <script>\n",
              "        const buttonEl =\n",
              "          document.querySelector('#df-42d6f89a-1255-41e1-b08f-f9893a5c012e button.colab-df-convert');\n",
              "        buttonEl.style.display =\n",
              "          google.colab.kernel.accessAllowed ? 'block' : 'none';\n",
              "\n",
              "        async function convertToInteractive(key) {\n",
              "          const element = document.querySelector('#df-42d6f89a-1255-41e1-b08f-f9893a5c012e');\n",
              "          const dataTable =\n",
              "            await google.colab.kernel.invokeFunction('convertToInteractive',\n",
              "                                                     [key], {});\n",
              "          if (!dataTable) return;\n",
              "\n",
              "          const docLinkHtml = 'Like what you see? Visit the ' +\n",
              "            '<a target=\"_blank\" href=https://colab.research.google.com/notebooks/data_table.ipynb>data table notebook</a>'\n",
              "            + ' to learn more about interactive tables.';\n",
              "          element.innerHTML = '';\n",
              "          dataTable['output_type'] = 'display_data';\n",
              "          await google.colab.output.renderOutput(dataTable, element);\n",
              "          const docLink = document.createElement('div');\n",
              "          docLink.innerHTML = docLinkHtml;\n",
              "          element.appendChild(docLink);\n",
              "        }\n",
              "      </script>\n",
              "    </div>\n",
              "  </div>\n",
              "  "
            ]
          },
          "metadata": {},
          "execution_count": 39
        }
      ]
    },
    {
      "cell_type": "code",
      "execution_count": 40,
      "metadata": {
        "id": "uRTyxrXc1pTN",
        "outputId": "47f905bc-311d-4cb3-ba9a-b5f1b25100b5",
        "colab": {
          "base_uri": "https://localhost:8080/",
          "height": 519
        }
      },
      "outputs": [
        {
          "output_type": "execute_result",
          "data": {
            "text/plain": [
              "    TripType  Count    DepartmentDescription\n",
              "0          3   5369       FINANCIAL SERVICES\n",
              "1          3    804      IMPULSE MERCHANDISE\n",
              "2          3     76    LARGE HOUSEHOLD GOODS\n",
              "3          4    563             PHARMACY OTC\n",
              "4          4     73              DSD GROCERY\n",
              "5          4     47      IMPULSE MERCHANDISE\n",
              "6          5   5281             PHARMACY OTC\n",
              "7          5   2714              PHARMACY RX\n",
              "8          5    922            PERSONAL CARE\n",
              "9          6   1000         LIQUOR,WINE,BEER\n",
              "10         6    674  CANDY, TOBACCO, COOKIES\n",
              "11         6    360              DSD GROCERY\n",
              "12         7   3669             SERVICE DELI\n",
              "13         7   3354        GROCERY DRY GOODS\n",
              "14         7   3022                  PRODUCE"
            ],
            "text/html": [
              "\n",
              "  <div id=\"df-a8451f34-6437-40bb-abd3-71da0b8837e3\">\n",
              "    <div class=\"colab-df-container\">\n",
              "      <div>\n",
              "<style scoped>\n",
              "    .dataframe tbody tr th:only-of-type {\n",
              "        vertical-align: middle;\n",
              "    }\n",
              "\n",
              "    .dataframe tbody tr th {\n",
              "        vertical-align: top;\n",
              "    }\n",
              "\n",
              "    .dataframe thead th {\n",
              "        text-align: right;\n",
              "    }\n",
              "</style>\n",
              "<table border=\"1\" class=\"dataframe\">\n",
              "  <thead>\n",
              "    <tr style=\"text-align: right;\">\n",
              "      <th></th>\n",
              "      <th>TripType</th>\n",
              "      <th>Count</th>\n",
              "      <th>DepartmentDescription</th>\n",
              "    </tr>\n",
              "  </thead>\n",
              "  <tbody>\n",
              "    <tr>\n",
              "      <th>0</th>\n",
              "      <td>3</td>\n",
              "      <td>5369</td>\n",
              "      <td>FINANCIAL SERVICES</td>\n",
              "    </tr>\n",
              "    <tr>\n",
              "      <th>1</th>\n",
              "      <td>3</td>\n",
              "      <td>804</td>\n",
              "      <td>IMPULSE MERCHANDISE</td>\n",
              "    </tr>\n",
              "    <tr>\n",
              "      <th>2</th>\n",
              "      <td>3</td>\n",
              "      <td>76</td>\n",
              "      <td>LARGE HOUSEHOLD GOODS</td>\n",
              "    </tr>\n",
              "    <tr>\n",
              "      <th>3</th>\n",
              "      <td>4</td>\n",
              "      <td>563</td>\n",
              "      <td>PHARMACY OTC</td>\n",
              "    </tr>\n",
              "    <tr>\n",
              "      <th>4</th>\n",
              "      <td>4</td>\n",
              "      <td>73</td>\n",
              "      <td>DSD GROCERY</td>\n",
              "    </tr>\n",
              "    <tr>\n",
              "      <th>5</th>\n",
              "      <td>4</td>\n",
              "      <td>47</td>\n",
              "      <td>IMPULSE MERCHANDISE</td>\n",
              "    </tr>\n",
              "    <tr>\n",
              "      <th>6</th>\n",
              "      <td>5</td>\n",
              "      <td>5281</td>\n",
              "      <td>PHARMACY OTC</td>\n",
              "    </tr>\n",
              "    <tr>\n",
              "      <th>7</th>\n",
              "      <td>5</td>\n",
              "      <td>2714</td>\n",
              "      <td>PHARMACY RX</td>\n",
              "    </tr>\n",
              "    <tr>\n",
              "      <th>8</th>\n",
              "      <td>5</td>\n",
              "      <td>922</td>\n",
              "      <td>PERSONAL CARE</td>\n",
              "    </tr>\n",
              "    <tr>\n",
              "      <th>9</th>\n",
              "      <td>6</td>\n",
              "      <td>1000</td>\n",
              "      <td>LIQUOR,WINE,BEER</td>\n",
              "    </tr>\n",
              "    <tr>\n",
              "      <th>10</th>\n",
              "      <td>6</td>\n",
              "      <td>674</td>\n",
              "      <td>CANDY, TOBACCO, COOKIES</td>\n",
              "    </tr>\n",
              "    <tr>\n",
              "      <th>11</th>\n",
              "      <td>6</td>\n",
              "      <td>360</td>\n",
              "      <td>DSD GROCERY</td>\n",
              "    </tr>\n",
              "    <tr>\n",
              "      <th>12</th>\n",
              "      <td>7</td>\n",
              "      <td>3669</td>\n",
              "      <td>SERVICE DELI</td>\n",
              "    </tr>\n",
              "    <tr>\n",
              "      <th>13</th>\n",
              "      <td>7</td>\n",
              "      <td>3354</td>\n",
              "      <td>GROCERY DRY GOODS</td>\n",
              "    </tr>\n",
              "    <tr>\n",
              "      <th>14</th>\n",
              "      <td>7</td>\n",
              "      <td>3022</td>\n",
              "      <td>PRODUCE</td>\n",
              "    </tr>\n",
              "  </tbody>\n",
              "</table>\n",
              "</div>\n",
              "      <button class=\"colab-df-convert\" onclick=\"convertToInteractive('df-a8451f34-6437-40bb-abd3-71da0b8837e3')\"\n",
              "              title=\"Convert this dataframe to an interactive table.\"\n",
              "              style=\"display:none;\">\n",
              "        \n",
              "  <svg xmlns=\"http://www.w3.org/2000/svg\" height=\"24px\"viewBox=\"0 0 24 24\"\n",
              "       width=\"24px\">\n",
              "    <path d=\"M0 0h24v24H0V0z\" fill=\"none\"/>\n",
              "    <path d=\"M18.56 5.44l.94 2.06.94-2.06 2.06-.94-2.06-.94-.94-2.06-.94 2.06-2.06.94zm-11 1L8.5 8.5l.94-2.06 2.06-.94-2.06-.94L8.5 2.5l-.94 2.06-2.06.94zm10 10l.94 2.06.94-2.06 2.06-.94-2.06-.94-.94-2.06-.94 2.06-2.06.94z\"/><path d=\"M17.41 7.96l-1.37-1.37c-.4-.4-.92-.59-1.43-.59-.52 0-1.04.2-1.43.59L10.3 9.45l-7.72 7.72c-.78.78-.78 2.05 0 2.83L4 21.41c.39.39.9.59 1.41.59.51 0 1.02-.2 1.41-.59l7.78-7.78 2.81-2.81c.8-.78.8-2.07 0-2.86zM5.41 20L4 18.59l7.72-7.72 1.47 1.35L5.41 20z\"/>\n",
              "  </svg>\n",
              "      </button>\n",
              "      \n",
              "  <style>\n",
              "    .colab-df-container {\n",
              "      display:flex;\n",
              "      flex-wrap:wrap;\n",
              "      gap: 12px;\n",
              "    }\n",
              "\n",
              "    .colab-df-convert {\n",
              "      background-color: #E8F0FE;\n",
              "      border: none;\n",
              "      border-radius: 50%;\n",
              "      cursor: pointer;\n",
              "      display: none;\n",
              "      fill: #1967D2;\n",
              "      height: 32px;\n",
              "      padding: 0 0 0 0;\n",
              "      width: 32px;\n",
              "    }\n",
              "\n",
              "    .colab-df-convert:hover {\n",
              "      background-color: #E2EBFA;\n",
              "      box-shadow: 0px 1px 2px rgba(60, 64, 67, 0.3), 0px 1px 3px 1px rgba(60, 64, 67, 0.15);\n",
              "      fill: #174EA6;\n",
              "    }\n",
              "\n",
              "    [theme=dark] .colab-df-convert {\n",
              "      background-color: #3B4455;\n",
              "      fill: #D2E3FC;\n",
              "    }\n",
              "\n",
              "    [theme=dark] .colab-df-convert:hover {\n",
              "      background-color: #434B5C;\n",
              "      box-shadow: 0px 1px 3px 1px rgba(0, 0, 0, 0.15);\n",
              "      filter: drop-shadow(0px 1px 2px rgba(0, 0, 0, 0.3));\n",
              "      fill: #FFFFFF;\n",
              "    }\n",
              "  </style>\n",
              "\n",
              "      <script>\n",
              "        const buttonEl =\n",
              "          document.querySelector('#df-a8451f34-6437-40bb-abd3-71da0b8837e3 button.colab-df-convert');\n",
              "        buttonEl.style.display =\n",
              "          google.colab.kernel.accessAllowed ? 'block' : 'none';\n",
              "\n",
              "        async function convertToInteractive(key) {\n",
              "          const element = document.querySelector('#df-a8451f34-6437-40bb-abd3-71da0b8837e3');\n",
              "          const dataTable =\n",
              "            await google.colab.kernel.invokeFunction('convertToInteractive',\n",
              "                                                     [key], {});\n",
              "          if (!dataTable) return;\n",
              "\n",
              "          const docLinkHtml = 'Like what you see? Visit the ' +\n",
              "            '<a target=\"_blank\" href=https://colab.research.google.com/notebooks/data_table.ipynb>data table notebook</a>'\n",
              "            + ' to learn more about interactive tables.';\n",
              "          element.innerHTML = '';\n",
              "          dataTable['output_type'] = 'display_data';\n",
              "          await google.colab.output.renderOutput(dataTable, element);\n",
              "          const docLink = document.createElement('div');\n",
              "          docLink.innerHTML = docLinkHtml;\n",
              "          element.appendChild(docLink);\n",
              "        }\n",
              "      </script>\n",
              "    </div>\n",
              "  </div>\n",
              "  "
            ]
          },
          "metadata": {},
          "execution_count": 40
        }
      ],
      "source": [
        "# Does most popular DepartmentDescription differ for different TripTypes?\n",
        "# > Allows to more or less deanonymize `TripType`.\n",
        "\n",
        "gp = train.groupby('TripType')['DepartmentDescription'].value_counts().reset_index(name='Count')\n",
        "gp2 = gp.groupby(['TripType'])[['Count','DepartmentDescription']]\\\n",
        "                                                           .apply(pd.DataFrame.nlargest, n=3, columns=['Count'])\\\n",
        "                                                           .reset_index()\\\n",
        "                                                           .drop('level_1', axis=1)\n",
        "\n",
        "gp2[:15]"
      ]
    },
    {
      "cell_type": "code",
      "execution_count": 41,
      "metadata": {
        "id": "5EbMUjXD1pTN",
        "outputId": "e9295be9-be0a-49e4-9281-1516c6cb703e",
        "colab": {
          "base_uri": "https://localhost:8080/",
          "height": 519
        }
      },
      "outputs": [
        {
          "output_type": "execute_result",
          "data": {
            "text/plain": [
              "    TripType  Count       DepartmentDescription\n",
              "51        25   5381                   MENS WEAR\n",
              "52        25   3716                  LADIESWEAR\n",
              "53        25   1836  GIRLS WEAR, 4-6X  AND 7-14\n",
              "87        37  13351                     PRODUCE\n",
              "88        37   5477           GROCERY DRY GOODS\n",
              "89        37   3667                       DAIRY\n",
              "90        38   7252                       DAIRY\n",
              "91        38   6417           GROCERY DRY GOODS\n",
              "92        38   4020                 DSD GROCERY\n",
              "93        39  12956                 DSD GROCERY\n",
              "94        39  12602           GROCERY DRY GOODS\n",
              "95        39   8126               PERSONAL CARE\n",
              "96        40  32639           GROCERY DRY GOODS\n",
              "97        40  22157                 DSD GROCERY\n",
              "98        40  17354                       DAIRY"
            ],
            "text/html": [
              "\n",
              "  <div id=\"df-ada7a9dc-7a26-4e54-b460-7be1e5445f36\">\n",
              "    <div class=\"colab-df-container\">\n",
              "      <div>\n",
              "<style scoped>\n",
              "    .dataframe tbody tr th:only-of-type {\n",
              "        vertical-align: middle;\n",
              "    }\n",
              "\n",
              "    .dataframe tbody tr th {\n",
              "        vertical-align: top;\n",
              "    }\n",
              "\n",
              "    .dataframe thead th {\n",
              "        text-align: right;\n",
              "    }\n",
              "</style>\n",
              "<table border=\"1\" class=\"dataframe\">\n",
              "  <thead>\n",
              "    <tr style=\"text-align: right;\">\n",
              "      <th></th>\n",
              "      <th>TripType</th>\n",
              "      <th>Count</th>\n",
              "      <th>DepartmentDescription</th>\n",
              "    </tr>\n",
              "  </thead>\n",
              "  <tbody>\n",
              "    <tr>\n",
              "      <th>51</th>\n",
              "      <td>25</td>\n",
              "      <td>5381</td>\n",
              "      <td>MENS WEAR</td>\n",
              "    </tr>\n",
              "    <tr>\n",
              "      <th>52</th>\n",
              "      <td>25</td>\n",
              "      <td>3716</td>\n",
              "      <td>LADIESWEAR</td>\n",
              "    </tr>\n",
              "    <tr>\n",
              "      <th>53</th>\n",
              "      <td>25</td>\n",
              "      <td>1836</td>\n",
              "      <td>GIRLS WEAR, 4-6X  AND 7-14</td>\n",
              "    </tr>\n",
              "    <tr>\n",
              "      <th>87</th>\n",
              "      <td>37</td>\n",
              "      <td>13351</td>\n",
              "      <td>PRODUCE</td>\n",
              "    </tr>\n",
              "    <tr>\n",
              "      <th>88</th>\n",
              "      <td>37</td>\n",
              "      <td>5477</td>\n",
              "      <td>GROCERY DRY GOODS</td>\n",
              "    </tr>\n",
              "    <tr>\n",
              "      <th>89</th>\n",
              "      <td>37</td>\n",
              "      <td>3667</td>\n",
              "      <td>DAIRY</td>\n",
              "    </tr>\n",
              "    <tr>\n",
              "      <th>90</th>\n",
              "      <td>38</td>\n",
              "      <td>7252</td>\n",
              "      <td>DAIRY</td>\n",
              "    </tr>\n",
              "    <tr>\n",
              "      <th>91</th>\n",
              "      <td>38</td>\n",
              "      <td>6417</td>\n",
              "      <td>GROCERY DRY GOODS</td>\n",
              "    </tr>\n",
              "    <tr>\n",
              "      <th>92</th>\n",
              "      <td>38</td>\n",
              "      <td>4020</td>\n",
              "      <td>DSD GROCERY</td>\n",
              "    </tr>\n",
              "    <tr>\n",
              "      <th>93</th>\n",
              "      <td>39</td>\n",
              "      <td>12956</td>\n",
              "      <td>DSD GROCERY</td>\n",
              "    </tr>\n",
              "    <tr>\n",
              "      <th>94</th>\n",
              "      <td>39</td>\n",
              "      <td>12602</td>\n",
              "      <td>GROCERY DRY GOODS</td>\n",
              "    </tr>\n",
              "    <tr>\n",
              "      <th>95</th>\n",
              "      <td>39</td>\n",
              "      <td>8126</td>\n",
              "      <td>PERSONAL CARE</td>\n",
              "    </tr>\n",
              "    <tr>\n",
              "      <th>96</th>\n",
              "      <td>40</td>\n",
              "      <td>32639</td>\n",
              "      <td>GROCERY DRY GOODS</td>\n",
              "    </tr>\n",
              "    <tr>\n",
              "      <th>97</th>\n",
              "      <td>40</td>\n",
              "      <td>22157</td>\n",
              "      <td>DSD GROCERY</td>\n",
              "    </tr>\n",
              "    <tr>\n",
              "      <th>98</th>\n",
              "      <td>40</td>\n",
              "      <td>17354</td>\n",
              "      <td>DAIRY</td>\n",
              "    </tr>\n",
              "  </tbody>\n",
              "</table>\n",
              "</div>\n",
              "      <button class=\"colab-df-convert\" onclick=\"convertToInteractive('df-ada7a9dc-7a26-4e54-b460-7be1e5445f36')\"\n",
              "              title=\"Convert this dataframe to an interactive table.\"\n",
              "              style=\"display:none;\">\n",
              "        \n",
              "  <svg xmlns=\"http://www.w3.org/2000/svg\" height=\"24px\"viewBox=\"0 0 24 24\"\n",
              "       width=\"24px\">\n",
              "    <path d=\"M0 0h24v24H0V0z\" fill=\"none\"/>\n",
              "    <path d=\"M18.56 5.44l.94 2.06.94-2.06 2.06-.94-2.06-.94-.94-2.06-.94 2.06-2.06.94zm-11 1L8.5 8.5l.94-2.06 2.06-.94-2.06-.94L8.5 2.5l-.94 2.06-2.06.94zm10 10l.94 2.06.94-2.06 2.06-.94-2.06-.94-.94-2.06-.94 2.06-2.06.94z\"/><path d=\"M17.41 7.96l-1.37-1.37c-.4-.4-.92-.59-1.43-.59-.52 0-1.04.2-1.43.59L10.3 9.45l-7.72 7.72c-.78.78-.78 2.05 0 2.83L4 21.41c.39.39.9.59 1.41.59.51 0 1.02-.2 1.41-.59l7.78-7.78 2.81-2.81c.8-.78.8-2.07 0-2.86zM5.41 20L4 18.59l7.72-7.72 1.47 1.35L5.41 20z\"/>\n",
              "  </svg>\n",
              "      </button>\n",
              "      \n",
              "  <style>\n",
              "    .colab-df-container {\n",
              "      display:flex;\n",
              "      flex-wrap:wrap;\n",
              "      gap: 12px;\n",
              "    }\n",
              "\n",
              "    .colab-df-convert {\n",
              "      background-color: #E8F0FE;\n",
              "      border: none;\n",
              "      border-radius: 50%;\n",
              "      cursor: pointer;\n",
              "      display: none;\n",
              "      fill: #1967D2;\n",
              "      height: 32px;\n",
              "      padding: 0 0 0 0;\n",
              "      width: 32px;\n",
              "    }\n",
              "\n",
              "    .colab-df-convert:hover {\n",
              "      background-color: #E2EBFA;\n",
              "      box-shadow: 0px 1px 2px rgba(60, 64, 67, 0.3), 0px 1px 3px 1px rgba(60, 64, 67, 0.15);\n",
              "      fill: #174EA6;\n",
              "    }\n",
              "\n",
              "    [theme=dark] .colab-df-convert {\n",
              "      background-color: #3B4455;\n",
              "      fill: #D2E3FC;\n",
              "    }\n",
              "\n",
              "    [theme=dark] .colab-df-convert:hover {\n",
              "      background-color: #434B5C;\n",
              "      box-shadow: 0px 1px 3px 1px rgba(0, 0, 0, 0.15);\n",
              "      filter: drop-shadow(0px 1px 2px rgba(0, 0, 0, 0.3));\n",
              "      fill: #FFFFFF;\n",
              "    }\n",
              "  </style>\n",
              "\n",
              "      <script>\n",
              "        const buttonEl =\n",
              "          document.querySelector('#df-ada7a9dc-7a26-4e54-b460-7be1e5445f36 button.colab-df-convert');\n",
              "        buttonEl.style.display =\n",
              "          google.colab.kernel.accessAllowed ? 'block' : 'none';\n",
              "\n",
              "        async function convertToInteractive(key) {\n",
              "          const element = document.querySelector('#df-ada7a9dc-7a26-4e54-b460-7be1e5445f36');\n",
              "          const dataTable =\n",
              "            await google.colab.kernel.invokeFunction('convertToInteractive',\n",
              "                                                     [key], {});\n",
              "          if (!dataTable) return;\n",
              "\n",
              "          const docLinkHtml = 'Like what you see? Visit the ' +\n",
              "            '<a target=\"_blank\" href=https://colab.research.google.com/notebooks/data_table.ipynb>data table notebook</a>'\n",
              "            + ' to learn more about interactive tables.';\n",
              "          element.innerHTML = '';\n",
              "          dataTable['output_type'] = 'display_data';\n",
              "          await google.colab.output.renderOutput(dataTable, element);\n",
              "          const docLink = document.createElement('div');\n",
              "          docLink.innerHTML = docLinkHtml;\n",
              "          element.appendChild(docLink);\n",
              "        }\n",
              "      </script>\n",
              "    </div>\n",
              "  </div>\n",
              "  "
            ]
          },
          "metadata": {},
          "execution_count": 41
        }
      ],
      "source": [
        "# From our baseline, recall most popular TripTypes, let's deanonymize them.\n",
        "# Select subset of the previous table with TripType in [40, 39, 37, 38, 25]\n",
        "\n",
        "gp2[gp2.TripType.isin([40, 39, 37, 38, 25])]"
      ]
    },
    {
      "cell_type": "code",
      "execution_count": 42,
      "metadata": {
        "id": "CsBoJ1wL1pTN",
        "outputId": "04d104e4-ee06-4fc5-bdb2-5e59798bc0f6",
        "colab": {
          "base_uri": "https://localhost:8080/"
        }
      },
      "outputs": [
        {
          "output_type": "execute_result",
          "data": {
            "text/plain": [
              "DepartmentDescription\n",
              "FINANCIAL SERVICES          1162\n",
              "LADIESWEAR                   800\n",
              "PRODUCE                      733\n",
              "PERSONAL CARE                682\n",
              "DSD GROCERY                  679\n",
              "MENS WEAR                    634\n",
              "GROCERY DRY GOODS            606\n",
              "PHARMACY OTC                 472\n",
              "IMPULSE MERCHANDISE          453\n",
              "BEAUTY                       452\n",
              "ELECTRONICS                  450\n",
              "HOUSEHOLD CHEMICALS/SUPP     392\n",
              "COOK AND DINE                382\n",
              "TOYS                         356\n",
              "DAIRY                        343\n",
              "Name: IsReturn, dtype: int64"
            ]
          },
          "metadata": {},
          "execution_count": 42
        }
      ],
      "source": [
        "# What are the DepartmentDescription with most returns?\n",
        "\n",
        "train.groupby('DepartmentDescription')['IsReturn'].sum().sort_values(ascending=False)[:15]"
      ]
    },
    {
      "cell_type": "code",
      "execution_count": 42,
      "metadata": {
        "id": "qghjSWGc1pTO"
      },
      "outputs": [],
      "source": []
    },
    {
      "cell_type": "markdown",
      "metadata": {
        "id": "_Wo6gVvo1pTO"
      },
      "source": [
        "### 3.4 FinelineNumber\n",
        "\n",
        "> according to the data description `FinelineNumber` is just a more detailed `DepartmentDescription`"
      ]
    },
    {
      "cell_type": "code",
      "execution_count": 43,
      "metadata": {
        "id": "vOdrUR511pTO",
        "outputId": "8c84bee8-e2b4-42a8-d51a-5c750c51884b",
        "colab": {
          "base_uri": "https://localhost:8080/",
          "height": 551
        }
      },
      "outputs": [
        {
          "output_type": "execute_result",
          "data": {
            "text/plain": [
              "DepartmentDescription  DAIRY  DSD GROCERY  GROCERY DRY GOODS  \\\n",
              "FinelineNumber                                                 \n",
              "100.0                      0            0                 95   \n",
              "110.0                      0            0                  0   \n",
              "115.0                      0            0                  0   \n",
              "135.0                      0            0                  0   \n",
              "203.0                      0            0                  0   \n",
              "808.0                      0            0                  0   \n",
              "1407.0                  2659            0                  0   \n",
              "1508.0                  4961            0                  0   \n",
              "3004.0                     0         1074                109   \n",
              "3555.0                     0            0               2056   \n",
              "3600.0                     0            0               2455   \n",
              "3601.0                     0           37                261   \n",
              "4606.0                     0         2721                  0   \n",
              "5501.0                     0            0                  0   \n",
              "9546.0                     0         2997                  0   \n",
              "\n",
              "DepartmentDescription  HOUSEHOLD CHEMICALS/SUPP  HOUSEHOLD PAPER GOODS  \\\n",
              "FinelineNumber                                                           \n",
              "100.0                                         0                      0   \n",
              "110.0                                       536                    770   \n",
              "115.0                                        10                      0   \n",
              "135.0                                         0                      0   \n",
              "203.0                                         0                     69   \n",
              "808.0                                         0                      0   \n",
              "1407.0                                        0                      0   \n",
              "1508.0                                        0                      0   \n",
              "3004.0                                        0                    587   \n",
              "3555.0                                        0                      0   \n",
              "3600.0                                        0                      0   \n",
              "3601.0                                        0                      0   \n",
              "4606.0                                        0                      0   \n",
              "5501.0                                        0                      0   \n",
              "9546.0                                        0                      0   \n",
              "\n",
              "DepartmentDescription  IMPULSE MERCHANDISE  PERSONAL CARE  PHARMACY OTC  \\\n",
              "FinelineNumber                                                            \n",
              "100.0                                 2354              0             0   \n",
              "110.0                                  773              0             0   \n",
              "115.0                                 2576              0             0   \n",
              "135.0                                 4417             26             0   \n",
              "203.0                                    0           2353             0   \n",
              "808.0                                 4200            140             0   \n",
              "1407.0                                   0            177             0   \n",
              "1508.0                                   0              0             0   \n",
              "3004.0                                   0              0             0   \n",
              "3555.0                                   0              0             0   \n",
              "3600.0                                   0              0             0   \n",
              "3601.0                                   0              0             0   \n",
              "4606.0                                   0              0             0   \n",
              "5501.0                                   0              0             2   \n",
              "9546.0                                   0              0             0   \n",
              "\n",
              "DepartmentDescription  PRODUCE  \n",
              "FinelineNumber                  \n",
              "100.0                       69  \n",
              "110.0                        0  \n",
              "115.0                        0  \n",
              "135.0                        0  \n",
              "203.0                        0  \n",
              "808.0                        0  \n",
              "1407.0                       0  \n",
              "1508.0                       0  \n",
              "3004.0                     486  \n",
              "3555.0                       0  \n",
              "3600.0                       0  \n",
              "3601.0                    2034  \n",
              "4606.0                       2  \n",
              "5501.0                    7799  \n",
              "9546.0                       0  "
            ],
            "text/html": [
              "\n",
              "  <div id=\"df-fcb2fb7b-1914-4ec2-835f-20eecc2cf1ec\">\n",
              "    <div class=\"colab-df-container\">\n",
              "      <div>\n",
              "<style scoped>\n",
              "    .dataframe tbody tr th:only-of-type {\n",
              "        vertical-align: middle;\n",
              "    }\n",
              "\n",
              "    .dataframe tbody tr th {\n",
              "        vertical-align: top;\n",
              "    }\n",
              "\n",
              "    .dataframe thead th {\n",
              "        text-align: right;\n",
              "    }\n",
              "</style>\n",
              "<table border=\"1\" class=\"dataframe\">\n",
              "  <thead>\n",
              "    <tr style=\"text-align: right;\">\n",
              "      <th>DepartmentDescription</th>\n",
              "      <th>DAIRY</th>\n",
              "      <th>DSD GROCERY</th>\n",
              "      <th>GROCERY DRY GOODS</th>\n",
              "      <th>HOUSEHOLD CHEMICALS/SUPP</th>\n",
              "      <th>HOUSEHOLD PAPER GOODS</th>\n",
              "      <th>IMPULSE MERCHANDISE</th>\n",
              "      <th>PERSONAL CARE</th>\n",
              "      <th>PHARMACY OTC</th>\n",
              "      <th>PRODUCE</th>\n",
              "    </tr>\n",
              "    <tr>\n",
              "      <th>FinelineNumber</th>\n",
              "      <th></th>\n",
              "      <th></th>\n",
              "      <th></th>\n",
              "      <th></th>\n",
              "      <th></th>\n",
              "      <th></th>\n",
              "      <th></th>\n",
              "      <th></th>\n",
              "      <th></th>\n",
              "    </tr>\n",
              "  </thead>\n",
              "  <tbody>\n",
              "    <tr>\n",
              "      <th>100.0</th>\n",
              "      <td>0</td>\n",
              "      <td>0</td>\n",
              "      <td>95</td>\n",
              "      <td>0</td>\n",
              "      <td>0</td>\n",
              "      <td>2354</td>\n",
              "      <td>0</td>\n",
              "      <td>0</td>\n",
              "      <td>69</td>\n",
              "    </tr>\n",
              "    <tr>\n",
              "      <th>110.0</th>\n",
              "      <td>0</td>\n",
              "      <td>0</td>\n",
              "      <td>0</td>\n",
              "      <td>536</td>\n",
              "      <td>770</td>\n",
              "      <td>773</td>\n",
              "      <td>0</td>\n",
              "      <td>0</td>\n",
              "      <td>0</td>\n",
              "    </tr>\n",
              "    <tr>\n",
              "      <th>115.0</th>\n",
              "      <td>0</td>\n",
              "      <td>0</td>\n",
              "      <td>0</td>\n",
              "      <td>10</td>\n",
              "      <td>0</td>\n",
              "      <td>2576</td>\n",
              "      <td>0</td>\n",
              "      <td>0</td>\n",
              "      <td>0</td>\n",
              "    </tr>\n",
              "    <tr>\n",
              "      <th>135.0</th>\n",
              "      <td>0</td>\n",
              "      <td>0</td>\n",
              "      <td>0</td>\n",
              "      <td>0</td>\n",
              "      <td>0</td>\n",
              "      <td>4417</td>\n",
              "      <td>26</td>\n",
              "      <td>0</td>\n",
              "      <td>0</td>\n",
              "    </tr>\n",
              "    <tr>\n",
              "      <th>203.0</th>\n",
              "      <td>0</td>\n",
              "      <td>0</td>\n",
              "      <td>0</td>\n",
              "      <td>0</td>\n",
              "      <td>69</td>\n",
              "      <td>0</td>\n",
              "      <td>2353</td>\n",
              "      <td>0</td>\n",
              "      <td>0</td>\n",
              "    </tr>\n",
              "    <tr>\n",
              "      <th>808.0</th>\n",
              "      <td>0</td>\n",
              "      <td>0</td>\n",
              "      <td>0</td>\n",
              "      <td>0</td>\n",
              "      <td>0</td>\n",
              "      <td>4200</td>\n",
              "      <td>140</td>\n",
              "      <td>0</td>\n",
              "      <td>0</td>\n",
              "    </tr>\n",
              "    <tr>\n",
              "      <th>1407.0</th>\n",
              "      <td>2659</td>\n",
              "      <td>0</td>\n",
              "      <td>0</td>\n",
              "      <td>0</td>\n",
              "      <td>0</td>\n",
              "      <td>0</td>\n",
              "      <td>177</td>\n",
              "      <td>0</td>\n",
              "      <td>0</td>\n",
              "    </tr>\n",
              "    <tr>\n",
              "      <th>1508.0</th>\n",
              "      <td>4961</td>\n",
              "      <td>0</td>\n",
              "      <td>0</td>\n",
              "      <td>0</td>\n",
              "      <td>0</td>\n",
              "      <td>0</td>\n",
              "      <td>0</td>\n",
              "      <td>0</td>\n",
              "      <td>0</td>\n",
              "    </tr>\n",
              "    <tr>\n",
              "      <th>3004.0</th>\n",
              "      <td>0</td>\n",
              "      <td>1074</td>\n",
              "      <td>109</td>\n",
              "      <td>0</td>\n",
              "      <td>587</td>\n",
              "      <td>0</td>\n",
              "      <td>0</td>\n",
              "      <td>0</td>\n",
              "      <td>486</td>\n",
              "    </tr>\n",
              "    <tr>\n",
              "      <th>3555.0</th>\n",
              "      <td>0</td>\n",
              "      <td>0</td>\n",
              "      <td>2056</td>\n",
              "      <td>0</td>\n",
              "      <td>0</td>\n",
              "      <td>0</td>\n",
              "      <td>0</td>\n",
              "      <td>0</td>\n",
              "      <td>0</td>\n",
              "    </tr>\n",
              "    <tr>\n",
              "      <th>3600.0</th>\n",
              "      <td>0</td>\n",
              "      <td>0</td>\n",
              "      <td>2455</td>\n",
              "      <td>0</td>\n",
              "      <td>0</td>\n",
              "      <td>0</td>\n",
              "      <td>0</td>\n",
              "      <td>0</td>\n",
              "      <td>0</td>\n",
              "    </tr>\n",
              "    <tr>\n",
              "      <th>3601.0</th>\n",
              "      <td>0</td>\n",
              "      <td>37</td>\n",
              "      <td>261</td>\n",
              "      <td>0</td>\n",
              "      <td>0</td>\n",
              "      <td>0</td>\n",
              "      <td>0</td>\n",
              "      <td>0</td>\n",
              "      <td>2034</td>\n",
              "    </tr>\n",
              "    <tr>\n",
              "      <th>4606.0</th>\n",
              "      <td>0</td>\n",
              "      <td>2721</td>\n",
              "      <td>0</td>\n",
              "      <td>0</td>\n",
              "      <td>0</td>\n",
              "      <td>0</td>\n",
              "      <td>0</td>\n",
              "      <td>0</td>\n",
              "      <td>2</td>\n",
              "    </tr>\n",
              "    <tr>\n",
              "      <th>5501.0</th>\n",
              "      <td>0</td>\n",
              "      <td>0</td>\n",
              "      <td>0</td>\n",
              "      <td>0</td>\n",
              "      <td>0</td>\n",
              "      <td>0</td>\n",
              "      <td>0</td>\n",
              "      <td>2</td>\n",
              "      <td>7799</td>\n",
              "    </tr>\n",
              "    <tr>\n",
              "      <th>9546.0</th>\n",
              "      <td>0</td>\n",
              "      <td>2997</td>\n",
              "      <td>0</td>\n",
              "      <td>0</td>\n",
              "      <td>0</td>\n",
              "      <td>0</td>\n",
              "      <td>0</td>\n",
              "      <td>0</td>\n",
              "      <td>0</td>\n",
              "    </tr>\n",
              "  </tbody>\n",
              "</table>\n",
              "</div>\n",
              "      <button class=\"colab-df-convert\" onclick=\"convertToInteractive('df-fcb2fb7b-1914-4ec2-835f-20eecc2cf1ec')\"\n",
              "              title=\"Convert this dataframe to an interactive table.\"\n",
              "              style=\"display:none;\">\n",
              "        \n",
              "  <svg xmlns=\"http://www.w3.org/2000/svg\" height=\"24px\"viewBox=\"0 0 24 24\"\n",
              "       width=\"24px\">\n",
              "    <path d=\"M0 0h24v24H0V0z\" fill=\"none\"/>\n",
              "    <path d=\"M18.56 5.44l.94 2.06.94-2.06 2.06-.94-2.06-.94-.94-2.06-.94 2.06-2.06.94zm-11 1L8.5 8.5l.94-2.06 2.06-.94-2.06-.94L8.5 2.5l-.94 2.06-2.06.94zm10 10l.94 2.06.94-2.06 2.06-.94-2.06-.94-.94-2.06-.94 2.06-2.06.94z\"/><path d=\"M17.41 7.96l-1.37-1.37c-.4-.4-.92-.59-1.43-.59-.52 0-1.04.2-1.43.59L10.3 9.45l-7.72 7.72c-.78.78-.78 2.05 0 2.83L4 21.41c.39.39.9.59 1.41.59.51 0 1.02-.2 1.41-.59l7.78-7.78 2.81-2.81c.8-.78.8-2.07 0-2.86zM5.41 20L4 18.59l7.72-7.72 1.47 1.35L5.41 20z\"/>\n",
              "  </svg>\n",
              "      </button>\n",
              "      \n",
              "  <style>\n",
              "    .colab-df-container {\n",
              "      display:flex;\n",
              "      flex-wrap:wrap;\n",
              "      gap: 12px;\n",
              "    }\n",
              "\n",
              "    .colab-df-convert {\n",
              "      background-color: #E8F0FE;\n",
              "      border: none;\n",
              "      border-radius: 50%;\n",
              "      cursor: pointer;\n",
              "      display: none;\n",
              "      fill: #1967D2;\n",
              "      height: 32px;\n",
              "      padding: 0 0 0 0;\n",
              "      width: 32px;\n",
              "    }\n",
              "\n",
              "    .colab-df-convert:hover {\n",
              "      background-color: #E2EBFA;\n",
              "      box-shadow: 0px 1px 2px rgba(60, 64, 67, 0.3), 0px 1px 3px 1px rgba(60, 64, 67, 0.15);\n",
              "      fill: #174EA6;\n",
              "    }\n",
              "\n",
              "    [theme=dark] .colab-df-convert {\n",
              "      background-color: #3B4455;\n",
              "      fill: #D2E3FC;\n",
              "    }\n",
              "\n",
              "    [theme=dark] .colab-df-convert:hover {\n",
              "      background-color: #434B5C;\n",
              "      box-shadow: 0px 1px 3px 1px rgba(0, 0, 0, 0.15);\n",
              "      filter: drop-shadow(0px 1px 2px rgba(0, 0, 0, 0.3));\n",
              "      fill: #FFFFFF;\n",
              "    }\n",
              "  </style>\n",
              "\n",
              "      <script>\n",
              "        const buttonEl =\n",
              "          document.querySelector('#df-fcb2fb7b-1914-4ec2-835f-20eecc2cf1ec button.colab-df-convert');\n",
              "        buttonEl.style.display =\n",
              "          google.colab.kernel.accessAllowed ? 'block' : 'none';\n",
              "\n",
              "        async function convertToInteractive(key) {\n",
              "          const element = document.querySelector('#df-fcb2fb7b-1914-4ec2-835f-20eecc2cf1ec');\n",
              "          const dataTable =\n",
              "            await google.colab.kernel.invokeFunction('convertToInteractive',\n",
              "                                                     [key], {});\n",
              "          if (!dataTable) return;\n",
              "\n",
              "          const docLinkHtml = 'Like what you see? Visit the ' +\n",
              "            '<a target=\"_blank\" href=https://colab.research.google.com/notebooks/data_table.ipynb>data table notebook</a>'\n",
              "            + ' to learn more about interactive tables.';\n",
              "          element.innerHTML = '';\n",
              "          dataTable['output_type'] = 'display_data';\n",
              "          await google.colab.output.renderOutput(dataTable, element);\n",
              "          const docLink = document.createElement('div');\n",
              "          docLink.innerHTML = docLinkHtml;\n",
              "          element.appendChild(docLink);\n",
              "        }\n",
              "      </script>\n",
              "    </div>\n",
              "  </div>\n",
              "  "
            ]
          },
          "metadata": {},
          "execution_count": 43
        }
      ],
      "source": [
        "# Build a crosstab between DepartmentDescription and FinelineNumber,\n",
        "# for most popular DepartmentDescription (total ScanCount > 20_000)\n",
        "# and most popular FinelineNumber (total ScanCount > 2000)\n",
        "\n",
        "\n",
        "popular_dd = train.groupby('DepartmentDescription').ScanCount.sum().sort_values(ascending=False)[:10].index\n",
        "sub = train[train.DepartmentDescription.isin(popular_dd)]\n",
        "sub = sub[sub.FinelineNumber.isin(sub.FinelineNumber.value_counts().iloc[:15].index)]\n",
        "\n",
        "tab = pd.crosstab(sub.FinelineNumber, sub.DepartmentDescription)\n",
        "tab"
      ]
    },
    {
      "cell_type": "code",
      "execution_count": 43,
      "metadata": {
        "id": "ZcCjOuo_1pTO"
      },
      "outputs": [],
      "source": []
    },
    {
      "cell_type": "markdown",
      "metadata": {
        "id": "8dGhMYbn1pTP"
      },
      "source": [
        "### 3.5 Upc"
      ]
    },
    {
      "cell_type": "code",
      "execution_count": 44,
      "metadata": {
        "id": "O_qp8-I41pTP",
        "outputId": "2b9e6b40-7737-4d24-d86e-1a969bcbe70a",
        "colab": {
          "base_uri": "https://localhost:8080/"
        }
      },
      "outputs": [
        {
          "output_type": "execute_result",
          "data": {
            "text/plain": [
              "4.011000e+03    7657\n",
              "6.053886e+10    2501\n",
              "7.874235e+09    2067\n",
              "7.874235e+09    1883\n",
              "4.046000e+03    1652\n",
              "                ... \n",
              "1.714581e+09       1\n",
              "8.961101e+11       1\n",
              "7.461946e+10       1\n",
              "7.245368e+10       1\n",
              "5.440000e+09       1\n",
              "Name: Upc, Length: 97714, dtype: int64"
            ]
          },
          "metadata": {},
          "execution_count": 44
        }
      ],
      "source": [
        "train.Upc.value_counts()"
      ]
    },
    {
      "cell_type": "code",
      "execution_count": 44,
      "metadata": {
        "id": "hccyoRG41pTP"
      },
      "outputs": [],
      "source": []
    },
    {
      "cell_type": "markdown",
      "metadata": {
        "id": "KouYWHKS1pTP"
      },
      "source": [
        "## Conclusions on EDA\n",
        "\n",
        " - Visits are mostly consist of small number of products\n",
        " - Large visits are on weekends\n",
        " - `TripType` depends on `DepartmentDescription` and `FinelineNumber`\n",
        " - `Upc` is something like a bar code, could be usefull but contains almost 100k unique values\n",
        " "
      ]
    },
    {
      "cell_type": "markdown",
      "metadata": {
        "id": "BWxhqvRM1pTQ"
      },
      "source": [
        "# 4. Generate features"
      ]
    },
    {
      "cell_type": "code",
      "execution_count": 96,
      "metadata": {
        "id": "kvS_YVJX1pTQ"
      },
      "outputs": [],
      "source": [
        "train = pd.read_csv('train.csv')\n",
        "# test = pd.read_csv('walmart-recruiting-trip-type-classification/test.csv')"
      ]
    },
    {
      "cell_type": "code",
      "source": [
        "test =  pd.read_csv('test.csv')"
      ],
      "metadata": {
        "id": "OiFjqG3-27sP"
      },
      "execution_count": 98,
      "outputs": []
    },
    {
      "cell_type": "code",
      "execution_count": 100,
      "metadata": {
        "id": "RGr_EDwe1pTQ"
      },
      "outputs": [],
      "source": [
        "def return_nth(x, n=0):\n",
        "    try:\n",
        "        return x[n]\n",
        "    except:\n",
        "        return np.nan\n",
        "    \n",
        "def return_nth_val(x, n=0):\n",
        "    try:\n",
        "        return x[n]\n",
        "    except:\n",
        "        return 0\n",
        "    \n",
        "def is_weekend(x):\n",
        "    return int(x in ['Sunday', 'Saturday'])\n",
        "\n",
        "def has_return(x):\n",
        "    return int(any(_x < 0 for _x in x))\n",
        "\n",
        "def sum_return(x):\n",
        "    return np.sum([_x for _x in x if _x < 0])"
      ]
    },
    {
      "cell_type": "code",
      "execution_count": 101,
      "metadata": {
        "id": "VhtIozfh1pTQ"
      },
      "outputs": [],
      "source": [
        "df = train.copy()"
      ]
    },
    {
      "cell_type": "code",
      "source": [
        "df"
      ],
      "metadata": {
        "colab": {
          "base_uri": "https://localhost:8080/",
          "height": 423
        },
        "id": "914GQKVRkiBi",
        "outputId": "a92a52df-9a30-465c-a5fd-36716bee146b"
      },
      "execution_count": 102,
      "outputs": [
        {
          "output_type": "execute_result",
          "data": {
            "text/plain": [
              "        TripType  VisitNumber Weekday           Upc  ScanCount  \\\n",
              "0            999            5  Friday  6.811315e+10         -1   \n",
              "1             30            7  Friday  6.053882e+10          1   \n",
              "2             30            7  Friday  7.410811e+09          1   \n",
              "3             26            8  Friday  2.238404e+09          2   \n",
              "4             26            8  Friday  2.006614e+09          2   \n",
              "...          ...          ...     ...           ...        ...   \n",
              "647049        39       191346  Sunday  3.239000e+10          1   \n",
              "647050        39       191346  Sunday  7.874205e+09          1   \n",
              "647051        39       191346  Sunday  4.072000e+03          1   \n",
              "647052         8       191347  Sunday  4.190008e+09          1   \n",
              "647053         8       191347  Sunday  3.800060e+09          1   \n",
              "\n",
              "        DepartmentDescription  FinelineNumber  \n",
              "0          FINANCIAL SERVICES          1000.0  \n",
              "1                       SHOES          8931.0  \n",
              "2               PERSONAL CARE          4504.0  \n",
              "3       PAINT AND ACCESSORIES          3565.0  \n",
              "4       PAINT AND ACCESSORIES          1017.0  \n",
              "...                       ...             ...  \n",
              "647049           PHARMACY OTC          1118.0  \n",
              "647050           FROZEN FOODS          1752.0  \n",
              "647051                PRODUCE          4170.0  \n",
              "647052                  DAIRY          1512.0  \n",
              "647053      GROCERY DRY GOODS          3600.0  \n",
              "\n",
              "[647054 rows x 7 columns]"
            ],
            "text/html": [
              "\n",
              "  <div id=\"df-13f3648b-e7cd-40d4-bc7d-6013ca38326f\">\n",
              "    <div class=\"colab-df-container\">\n",
              "      <div>\n",
              "<style scoped>\n",
              "    .dataframe tbody tr th:only-of-type {\n",
              "        vertical-align: middle;\n",
              "    }\n",
              "\n",
              "    .dataframe tbody tr th {\n",
              "        vertical-align: top;\n",
              "    }\n",
              "\n",
              "    .dataframe thead th {\n",
              "        text-align: right;\n",
              "    }\n",
              "</style>\n",
              "<table border=\"1\" class=\"dataframe\">\n",
              "  <thead>\n",
              "    <tr style=\"text-align: right;\">\n",
              "      <th></th>\n",
              "      <th>TripType</th>\n",
              "      <th>VisitNumber</th>\n",
              "      <th>Weekday</th>\n",
              "      <th>Upc</th>\n",
              "      <th>ScanCount</th>\n",
              "      <th>DepartmentDescription</th>\n",
              "      <th>FinelineNumber</th>\n",
              "    </tr>\n",
              "  </thead>\n",
              "  <tbody>\n",
              "    <tr>\n",
              "      <th>0</th>\n",
              "      <td>999</td>\n",
              "      <td>5</td>\n",
              "      <td>Friday</td>\n",
              "      <td>6.811315e+10</td>\n",
              "      <td>-1</td>\n",
              "      <td>FINANCIAL SERVICES</td>\n",
              "      <td>1000.0</td>\n",
              "    </tr>\n",
              "    <tr>\n",
              "      <th>1</th>\n",
              "      <td>30</td>\n",
              "      <td>7</td>\n",
              "      <td>Friday</td>\n",
              "      <td>6.053882e+10</td>\n",
              "      <td>1</td>\n",
              "      <td>SHOES</td>\n",
              "      <td>8931.0</td>\n",
              "    </tr>\n",
              "    <tr>\n",
              "      <th>2</th>\n",
              "      <td>30</td>\n",
              "      <td>7</td>\n",
              "      <td>Friday</td>\n",
              "      <td>7.410811e+09</td>\n",
              "      <td>1</td>\n",
              "      <td>PERSONAL CARE</td>\n",
              "      <td>4504.0</td>\n",
              "    </tr>\n",
              "    <tr>\n",
              "      <th>3</th>\n",
              "      <td>26</td>\n",
              "      <td>8</td>\n",
              "      <td>Friday</td>\n",
              "      <td>2.238404e+09</td>\n",
              "      <td>2</td>\n",
              "      <td>PAINT AND ACCESSORIES</td>\n",
              "      <td>3565.0</td>\n",
              "    </tr>\n",
              "    <tr>\n",
              "      <th>4</th>\n",
              "      <td>26</td>\n",
              "      <td>8</td>\n",
              "      <td>Friday</td>\n",
              "      <td>2.006614e+09</td>\n",
              "      <td>2</td>\n",
              "      <td>PAINT AND ACCESSORIES</td>\n",
              "      <td>1017.0</td>\n",
              "    </tr>\n",
              "    <tr>\n",
              "      <th>...</th>\n",
              "      <td>...</td>\n",
              "      <td>...</td>\n",
              "      <td>...</td>\n",
              "      <td>...</td>\n",
              "      <td>...</td>\n",
              "      <td>...</td>\n",
              "      <td>...</td>\n",
              "    </tr>\n",
              "    <tr>\n",
              "      <th>647049</th>\n",
              "      <td>39</td>\n",
              "      <td>191346</td>\n",
              "      <td>Sunday</td>\n",
              "      <td>3.239000e+10</td>\n",
              "      <td>1</td>\n",
              "      <td>PHARMACY OTC</td>\n",
              "      <td>1118.0</td>\n",
              "    </tr>\n",
              "    <tr>\n",
              "      <th>647050</th>\n",
              "      <td>39</td>\n",
              "      <td>191346</td>\n",
              "      <td>Sunday</td>\n",
              "      <td>7.874205e+09</td>\n",
              "      <td>1</td>\n",
              "      <td>FROZEN FOODS</td>\n",
              "      <td>1752.0</td>\n",
              "    </tr>\n",
              "    <tr>\n",
              "      <th>647051</th>\n",
              "      <td>39</td>\n",
              "      <td>191346</td>\n",
              "      <td>Sunday</td>\n",
              "      <td>4.072000e+03</td>\n",
              "      <td>1</td>\n",
              "      <td>PRODUCE</td>\n",
              "      <td>4170.0</td>\n",
              "    </tr>\n",
              "    <tr>\n",
              "      <th>647052</th>\n",
              "      <td>8</td>\n",
              "      <td>191347</td>\n",
              "      <td>Sunday</td>\n",
              "      <td>4.190008e+09</td>\n",
              "      <td>1</td>\n",
              "      <td>DAIRY</td>\n",
              "      <td>1512.0</td>\n",
              "    </tr>\n",
              "    <tr>\n",
              "      <th>647053</th>\n",
              "      <td>8</td>\n",
              "      <td>191347</td>\n",
              "      <td>Sunday</td>\n",
              "      <td>3.800060e+09</td>\n",
              "      <td>1</td>\n",
              "      <td>GROCERY DRY GOODS</td>\n",
              "      <td>3600.0</td>\n",
              "    </tr>\n",
              "  </tbody>\n",
              "</table>\n",
              "<p>647054 rows × 7 columns</p>\n",
              "</div>\n",
              "      <button class=\"colab-df-convert\" onclick=\"convertToInteractive('df-13f3648b-e7cd-40d4-bc7d-6013ca38326f')\"\n",
              "              title=\"Convert this dataframe to an interactive table.\"\n",
              "              style=\"display:none;\">\n",
              "        \n",
              "  <svg xmlns=\"http://www.w3.org/2000/svg\" height=\"24px\"viewBox=\"0 0 24 24\"\n",
              "       width=\"24px\">\n",
              "    <path d=\"M0 0h24v24H0V0z\" fill=\"none\"/>\n",
              "    <path d=\"M18.56 5.44l.94 2.06.94-2.06 2.06-.94-2.06-.94-.94-2.06-.94 2.06-2.06.94zm-11 1L8.5 8.5l.94-2.06 2.06-.94-2.06-.94L8.5 2.5l-.94 2.06-2.06.94zm10 10l.94 2.06.94-2.06 2.06-.94-2.06-.94-.94-2.06-.94 2.06-2.06.94z\"/><path d=\"M17.41 7.96l-1.37-1.37c-.4-.4-.92-.59-1.43-.59-.52 0-1.04.2-1.43.59L10.3 9.45l-7.72 7.72c-.78.78-.78 2.05 0 2.83L4 21.41c.39.39.9.59 1.41.59.51 0 1.02-.2 1.41-.59l7.78-7.78 2.81-2.81c.8-.78.8-2.07 0-2.86zM5.41 20L4 18.59l7.72-7.72 1.47 1.35L5.41 20z\"/>\n",
              "  </svg>\n",
              "      </button>\n",
              "      \n",
              "  <style>\n",
              "    .colab-df-container {\n",
              "      display:flex;\n",
              "      flex-wrap:wrap;\n",
              "      gap: 12px;\n",
              "    }\n",
              "\n",
              "    .colab-df-convert {\n",
              "      background-color: #E8F0FE;\n",
              "      border: none;\n",
              "      border-radius: 50%;\n",
              "      cursor: pointer;\n",
              "      display: none;\n",
              "      fill: #1967D2;\n",
              "      height: 32px;\n",
              "      padding: 0 0 0 0;\n",
              "      width: 32px;\n",
              "    }\n",
              "\n",
              "    .colab-df-convert:hover {\n",
              "      background-color: #E2EBFA;\n",
              "      box-shadow: 0px 1px 2px rgba(60, 64, 67, 0.3), 0px 1px 3px 1px rgba(60, 64, 67, 0.15);\n",
              "      fill: #174EA6;\n",
              "    }\n",
              "\n",
              "    [theme=dark] .colab-df-convert {\n",
              "      background-color: #3B4455;\n",
              "      fill: #D2E3FC;\n",
              "    }\n",
              "\n",
              "    [theme=dark] .colab-df-convert:hover {\n",
              "      background-color: #434B5C;\n",
              "      box-shadow: 0px 1px 3px 1px rgba(0, 0, 0, 0.15);\n",
              "      filter: drop-shadow(0px 1px 2px rgba(0, 0, 0, 0.3));\n",
              "      fill: #FFFFFF;\n",
              "    }\n",
              "  </style>\n",
              "\n",
              "      <script>\n",
              "        const buttonEl =\n",
              "          document.querySelector('#df-13f3648b-e7cd-40d4-bc7d-6013ca38326f button.colab-df-convert');\n",
              "        buttonEl.style.display =\n",
              "          google.colab.kernel.accessAllowed ? 'block' : 'none';\n",
              "\n",
              "        async function convertToInteractive(key) {\n",
              "          const element = document.querySelector('#df-13f3648b-e7cd-40d4-bc7d-6013ca38326f');\n",
              "          const dataTable =\n",
              "            await google.colab.kernel.invokeFunction('convertToInteractive',\n",
              "                                                     [key], {});\n",
              "          if (!dataTable) return;\n",
              "\n",
              "          const docLinkHtml = 'Like what you see? Visit the ' +\n",
              "            '<a target=\"_blank\" href=https://colab.research.google.com/notebooks/data_table.ipynb>data table notebook</a>'\n",
              "            + ' to learn more about interactive tables.';\n",
              "          element.innerHTML = '';\n",
              "          dataTable['output_type'] = 'display_data';\n",
              "          await google.colab.output.renderOutput(dataTable, element);\n",
              "          const docLink = document.createElement('div');\n",
              "          docLink.innerHTML = docLinkHtml;\n",
              "          element.appendChild(docLink);\n",
              "        }\n",
              "      </script>\n",
              "    </div>\n",
              "  </div>\n",
              "  "
            ]
          },
          "metadata": {},
          "execution_count": 102
        }
      ]
    },
    {
      "cell_type": "code",
      "execution_count": 103,
      "metadata": {
        "id": "BfaTXsbj1pTR"
      },
      "outputs": [],
      "source": [
        "def generate_features(df):\n",
        "    \n",
        "    df = df.copy()\n",
        "    \n",
        "    # 1. Most frequent DepartmentDescription in the purchase, second most frequent, third, fourth.\n",
        "    f = lambda grp: grp.value_counts().nlargest(6)\n",
        "    x = df.groupby('VisitNumber')['DepartmentDescription'].apply(f).reset_index()\n",
        "    gp = x.groupby('VisitNumber')['level_1'].unique()\n",
        "\n",
        "    df['PopularCategory'] = df.VisitNumber.map(gp)\n",
        "    for i in range(4):\n",
        "        df[f'Category_{i}'] = df['PopularCategory'].apply(return_nth, args=[i])\n",
        "\n",
        "    # 2. Same for FinelineNumber, but 6\n",
        "    x = df.groupby('VisitNumber')['FinelineNumber'].apply(f).reset_index()\n",
        "    gp = x.groupby('VisitNumber')['level_1'].unique()\n",
        "\n",
        "    df['PopularFineline'] = df.VisitNumber.map(gp)\n",
        "    for i in range(6):\n",
        "        df[f'Fineline_{i}'] = df['PopularFineline'].apply(return_nth, args=[i]).astype(object)\n",
        "\n",
        "    # 3. Count number of unique DepartmentDescription in the purchase\n",
        "    gp = df.groupby('VisitNumber')['DepartmentDescription'].nunique()\n",
        "    df['#Unique_Department'] = df.VisitNumber.map(gp)\n",
        "\n",
        "    # 4. Count number of unique FinelineNumber in the purchase.\n",
        "    gp = df.groupby('VisitNumber')['FinelineNumber'].nunique()\n",
        "    df['#Unique_Fineline'] = df.VisitNumber.map(gp)\n",
        "\n",
        "    # 5. Count ScanCount (number of unique Upc in the purchase)\n",
        "\n",
        "    gp = df.groupby('VisitNumber')['ScanCount'].count()\n",
        "    df['#UniqueScanCount'] = df['VisitNumber'].map(gp)   \n",
        "\n",
        "    # 6. Sum ScanCount\n",
        "\n",
        "    gp = df.groupby('VisitNumber')['ScanCount'].sum()\n",
        "    df['TotalScanCount'] = df['VisitNumber'].map(gp)\n",
        "\n",
        "    # 7. Is weekend\n",
        "\n",
        "    df['is_Weekend'] = df['Weekday'].apply(is_weekend).astype(object)\n",
        "\n",
        "    # 8. Sum returns\n",
        "\n",
        "    gp = df.groupby('VisitNumber')['ScanCount'].apply(sum_return)\n",
        "    df['total_return'] = df.VisitNumber.map(gp)\n",
        "    df['total_return'].fillna(0, inplace=True)\n",
        "\n",
        "    # Drop old and intermediate features\n",
        "\n",
        "    df = df.drop(['Upc', 'ScanCount', 'DepartmentDescription',\n",
        "                  'FinelineNumber', 'PopularFineline', 'PopularCategory'], axis=1)\n",
        "\n",
        "    # Drop duplicated rows (with the same VisitNumber)\n",
        "\n",
        "    df = df.drop_duplicates(keep='first')\n",
        "    \n",
        "    return df"
      ]
    },
    {
      "cell_type": "code",
      "execution_count": 104,
      "metadata": {
        "id": "rCqPfZJQ1pTR"
      },
      "outputs": [],
      "source": [
        "# Running this cell takes about 10 minutes\n",
        "df = generate_features(df)"
      ]
    },
    {
      "cell_type": "markdown",
      "metadata": {
        "id": "HRcdHlBU1pTR"
      },
      "source": [
        "# 5. Train a model"
      ]
    },
    {
      "cell_type": "code",
      "execution_count": 105,
      "metadata": {
        "id": "Dywt0vrU1pTS",
        "colab": {
          "base_uri": "https://localhost:8080/"
        },
        "outputId": "0d554768-1e98-451d-913b-efbf803d1999"
      },
      "outputs": [
        {
          "output_type": "stream",
          "name": "stdout",
          "text": [
            "Looking in indexes: https://pypi.org/simple, https://us-python.pkg.dev/colab-wheels/public/simple/\n",
            "Requirement already satisfied: catboost in /usr/local/lib/python3.9/dist-packages (1.1.1)\n",
            "Requirement already satisfied: six in /usr/local/lib/python3.9/dist-packages (from catboost) (1.16.0)\n",
            "Requirement already satisfied: pandas>=0.24.0 in /usr/local/lib/python3.9/dist-packages (from catboost) (1.4.4)\n",
            "Requirement already satisfied: scipy in /usr/local/lib/python3.9/dist-packages (from catboost) (1.10.1)\n",
            "Requirement already satisfied: graphviz in /usr/local/lib/python3.9/dist-packages (from catboost) (0.20.1)\n",
            "Requirement already satisfied: plotly in /usr/local/lib/python3.9/dist-packages (from catboost) (5.13.1)\n",
            "Requirement already satisfied: matplotlib in /usr/local/lib/python3.9/dist-packages (from catboost) (3.7.1)\n",
            "Requirement already satisfied: numpy>=1.16.0 in /usr/local/lib/python3.9/dist-packages (from catboost) (1.22.4)\n",
            "Requirement already satisfied: pytz>=2020.1 in /usr/local/lib/python3.9/dist-packages (from pandas>=0.24.0->catboost) (2022.7.1)\n",
            "Requirement already satisfied: python-dateutil>=2.8.1 in /usr/local/lib/python3.9/dist-packages (from pandas>=0.24.0->catboost) (2.8.2)\n",
            "Requirement already satisfied: fonttools>=4.22.0 in /usr/local/lib/python3.9/dist-packages (from matplotlib->catboost) (4.39.3)\n",
            "Requirement already satisfied: importlib-resources>=3.2.0 in /usr/local/lib/python3.9/dist-packages (from matplotlib->catboost) (5.12.0)\n",
            "Requirement already satisfied: pillow>=6.2.0 in /usr/local/lib/python3.9/dist-packages (from matplotlib->catboost) (8.4.0)\n",
            "Requirement already satisfied: pyparsing>=2.3.1 in /usr/local/lib/python3.9/dist-packages (from matplotlib->catboost) (3.0.9)\n",
            "Requirement already satisfied: contourpy>=1.0.1 in /usr/local/lib/python3.9/dist-packages (from matplotlib->catboost) (1.0.7)\n",
            "Requirement already satisfied: kiwisolver>=1.0.1 in /usr/local/lib/python3.9/dist-packages (from matplotlib->catboost) (1.4.4)\n",
            "Requirement already satisfied: packaging>=20.0 in /usr/local/lib/python3.9/dist-packages (from matplotlib->catboost) (23.0)\n",
            "Requirement already satisfied: cycler>=0.10 in /usr/local/lib/python3.9/dist-packages (from matplotlib->catboost) (0.11.0)\n",
            "Requirement already satisfied: tenacity>=6.2.0 in /usr/local/lib/python3.9/dist-packages (from plotly->catboost) (8.2.2)\n",
            "Requirement already satisfied: zipp>=3.1.0 in /usr/local/lib/python3.9/dist-packages (from importlib-resources>=3.2.0->matplotlib->catboost) (3.15.0)\n"
          ]
        }
      ],
      "source": [
        "!pip install catboost"
      ]
    },
    {
      "cell_type": "code",
      "execution_count": 106,
      "metadata": {
        "id": "f0OVoe7N1pTS"
      },
      "outputs": [],
      "source": [
        "from catboost import CatBoostClassifier, Pool"
      ]
    },
    {
      "cell_type": "code",
      "execution_count": 107,
      "metadata": {
        "id": "gr23YGr01pTS",
        "outputId": "349b3b58-59ba-4977-8752-76f6a1f5e31a",
        "colab": {
          "base_uri": "https://localhost:8080/"
        }
      },
      "outputs": [
        {
          "output_type": "stream",
          "name": "stdout",
          "text": [
            "-2 TripType int64\n",
            "-1 VisitNumber int64\n",
            "0 Weekday object\n",
            "1 Category_0 object\n",
            "2 Category_1 object\n",
            "3 Category_2 object\n",
            "4 Category_3 object\n",
            "5 Fineline_0 object\n",
            "6 Fineline_1 object\n",
            "7 Fineline_2 object\n",
            "8 Fineline_3 object\n",
            "9 Fineline_4 object\n",
            "10 Fineline_5 object\n",
            "11 #Unique_Department int64\n",
            "12 #Unique_Fineline int64\n",
            "13 #UniqueScanCount int64\n",
            "14 TotalScanCount int64\n",
            "15 is_Weekend object\n",
            "16 total_return float64\n"
          ]
        }
      ],
      "source": [
        "for i, col in enumerate(df.columns):\n",
        "    print(i-2, col, df[col].dtype)"
      ]
    },
    {
      "cell_type": "code",
      "execution_count": 108,
      "metadata": {
        "id": "D6_PAjFw1pTT"
      },
      "outputs": [],
      "source": [
        "for col in df.columns:\n",
        "    if col.startswith('Category'):\n",
        "        df[col]=df[col].apply(str)\n",
        "    if col.startswith('Fineline'):\n",
        "        df[col]=df[col].apply(str)"
      ]
    },
    {
      "cell_type": "code",
      "execution_count": 109,
      "metadata": {
        "id": "Aki2LwYJ1pTT"
      },
      "outputs": [],
      "source": [
        "df.fillna('NaN', inplace=True)\n",
        "x_train, x_eval = train_test_split(df, test_size=0.1, random_state=10, shuffle=True)\n",
        "\n",
        "cat_features = [*list(range(10)), 15]\n",
        "\n",
        "data_train = Pool(x_train.drop(['TripType', 'VisitNumber'], axis=1), \n",
        "                  label=x_train.TripType,\n",
        "                  cat_features=cat_features)\n",
        "\n",
        "data_eval = Pool(x_eval.drop(['TripType', 'VisitNumber'], axis=1), \n",
        "                 label=x_eval.TripType,\n",
        "                 cat_features=cat_features)"
      ]
    },
    {
      "cell_type": "code",
      "execution_count": 110,
      "metadata": {
        "id": "iBd3dko51pTT"
      },
      "outputs": [],
      "source": [
        "ctb_params = {\n",
        "    'depth': 4,\n",
        "    'learning_rate': .3,\n",
        "    'l2_leaf_reg': 3,\n",
        "    'loss_function': 'MultiClass',\n",
        "    'verbose': 1,\n",
        "    'thread_count': 12,\n",
        "    'iterations': 100\n",
        "}"
      ]
    },
    {
      "cell_type": "code",
      "execution_count": 111,
      "metadata": {
        "id": "P4pR6jAf1pTT",
        "outputId": "c7e33deb-c117-4f1c-b12e-34acefb2e540",
        "colab": {
          "base_uri": "https://localhost:8080/"
        }
      },
      "outputs": [
        {
          "output_type": "stream",
          "name": "stdout",
          "text": [
            "0:\tlearn: 2.5003169\ttest: 2.5023496\tbest: 2.5023496 (0)\ttotal: 33.8s\tremaining: 55m 41s\n",
            "1:\tlearn: 2.1687069\ttest: 2.1689262\tbest: 2.1689262 (1)\ttotal: 54.6s\tremaining: 44m 33s\n",
            "2:\tlearn: 1.9832113\ttest: 1.9666134\tbest: 1.9666134 (2)\ttotal: 1m 15s\tremaining: 40m 53s\n",
            "3:\tlearn: 1.9312787\ttest: 1.9138151\tbest: 1.9138151 (3)\ttotal: 1m 38s\tremaining: 39m 13s\n",
            "4:\tlearn: 1.8529427\ttest: 1.8356256\tbest: 1.8356256 (4)\ttotal: 1m 58s\tremaining: 37m 34s\n",
            "5:\tlearn: 1.7816361\ttest: 1.7633018\tbest: 1.7633018 (5)\ttotal: 2m 19s\tremaining: 36m 32s\n",
            "6:\tlearn: 1.7063736\ttest: 1.6891190\tbest: 1.6891190 (6)\ttotal: 2m 40s\tremaining: 35m 34s\n",
            "7:\tlearn: 1.6517512\ttest: 1.6333151\tbest: 1.6333151 (7)\ttotal: 3m 1s\tremaining: 34m 51s\n",
            "8:\tlearn: 1.6079575\ttest: 1.5863785\tbest: 1.5863785 (8)\ttotal: 3m 22s\tremaining: 34m 7s\n",
            "9:\tlearn: 1.5607590\ttest: 1.5449389\tbest: 1.5449389 (9)\ttotal: 3m 43s\tremaining: 33m 30s\n",
            "10:\tlearn: 1.5295865\ttest: 1.5129462\tbest: 1.5129462 (10)\ttotal: 4m 4s\tremaining: 32m 58s\n",
            "11:\tlearn: 1.5023356\ttest: 1.4865528\tbest: 1.4865528 (11)\ttotal: 4m 25s\tremaining: 32m 28s\n",
            "12:\tlearn: 1.4759889\ttest: 1.4589769\tbest: 1.4589769 (12)\ttotal: 4m 46s\tremaining: 31m 54s\n",
            "13:\tlearn: 1.4513513\ttest: 1.4349187\tbest: 1.4349187 (13)\ttotal: 5m 8s\tremaining: 31m 33s\n",
            "14:\tlearn: 1.4093920\ttest: 1.3899054\tbest: 1.3899054 (14)\ttotal: 5m 29s\tremaining: 31m 5s\n",
            "15:\tlearn: 1.3940246\ttest: 1.3764160\tbest: 1.3764160 (15)\ttotal: 5m 50s\tremaining: 30m 40s\n",
            "16:\tlearn: 1.3805233\ttest: 1.3635848\tbest: 1.3635848 (16)\ttotal: 6m 10s\tremaining: 30m 11s\n",
            "17:\tlearn: 1.3651301\ttest: 1.3497011\tbest: 1.3497011 (17)\ttotal: 6m 32s\tremaining: 29m 47s\n",
            "18:\tlearn: 1.3448050\ttest: 1.3310756\tbest: 1.3310756 (18)\ttotal: 6m 52s\tremaining: 29m 19s\n",
            "19:\tlearn: 1.3254717\ttest: 1.3147028\tbest: 1.3147028 (19)\ttotal: 7m 12s\tremaining: 28m 49s\n",
            "20:\tlearn: 1.3181286\ttest: 1.3074625\tbest: 1.3074625 (20)\ttotal: 7m 33s\tremaining: 28m 26s\n",
            "21:\tlearn: 1.3033474\ttest: 1.2937173\tbest: 1.2937173 (21)\ttotal: 7m 55s\tremaining: 28m 5s\n",
            "22:\tlearn: 1.2865869\ttest: 1.2764722\tbest: 1.2764722 (22)\ttotal: 8m 16s\tremaining: 27m 42s\n",
            "23:\tlearn: 1.2764250\ttest: 1.2663214\tbest: 1.2663214 (23)\ttotal: 8m 36s\tremaining: 27m 15s\n",
            "24:\tlearn: 1.2675800\ttest: 1.2593734\tbest: 1.2593734 (24)\ttotal: 8m 57s\tremaining: 26m 52s\n",
            "25:\tlearn: 1.2607738\ttest: 1.2529364\tbest: 1.2529364 (25)\ttotal: 9m 18s\tremaining: 26m 30s\n",
            "26:\tlearn: 1.2519358\ttest: 1.2446447\tbest: 1.2446447 (26)\ttotal: 9m 39s\tremaining: 26m 5s\n",
            "27:\tlearn: 1.2456152\ttest: 1.2386894\tbest: 1.2386894 (27)\ttotal: 10m\tremaining: 25m 44s\n",
            "28:\tlearn: 1.2381411\ttest: 1.2320929\tbest: 1.2320929 (28)\ttotal: 10m 21s\tremaining: 25m 22s\n",
            "29:\tlearn: 1.2269570\ttest: 1.2203671\tbest: 1.2203671 (29)\ttotal: 10m 44s\tremaining: 25m 3s\n",
            "30:\tlearn: 1.2213628\ttest: 1.2152439\tbest: 1.2152439 (30)\ttotal: 11m 5s\tremaining: 24m 40s\n",
            "31:\tlearn: 1.2162747\ttest: 1.2105803\tbest: 1.2105803 (31)\ttotal: 11m 27s\tremaining: 24m 20s\n",
            "32:\tlearn: 1.2112866\ttest: 1.2052769\tbest: 1.2052769 (32)\ttotal: 11m 48s\tremaining: 23m 58s\n",
            "33:\tlearn: 1.2000497\ttest: 1.1956024\tbest: 1.1956024 (33)\ttotal: 12m 9s\tremaining: 23m 36s\n",
            "34:\tlearn: 1.1939892\ttest: 1.1883364\tbest: 1.1883364 (34)\ttotal: 12m 30s\tremaining: 23m 12s\n",
            "35:\tlearn: 1.1871308\ttest: 1.1810231\tbest: 1.1810231 (35)\ttotal: 12m 52s\tremaining: 22m 53s\n",
            "36:\tlearn: 1.1841605\ttest: 1.1781205\tbest: 1.1781205 (36)\ttotal: 13m 14s\tremaining: 22m 33s\n",
            "37:\tlearn: 1.1789922\ttest: 1.1732812\tbest: 1.1732812 (37)\ttotal: 13m 36s\tremaining: 22m 12s\n",
            "38:\tlearn: 1.1743804\ttest: 1.1689386\tbest: 1.1689386 (38)\ttotal: 13m 57s\tremaining: 21m 50s\n",
            "39:\tlearn: 1.1680319\ttest: 1.1625572\tbest: 1.1625572 (39)\ttotal: 14m 18s\tremaining: 21m 28s\n",
            "40:\tlearn: 1.1563173\ttest: 1.1507975\tbest: 1.1507975 (40)\ttotal: 14m 39s\tremaining: 21m 5s\n",
            "41:\tlearn: 1.1472898\ttest: 1.1416406\tbest: 1.1416406 (41)\ttotal: 14m 59s\tremaining: 20m 42s\n",
            "42:\tlearn: 1.1418761\ttest: 1.1364382\tbest: 1.1364382 (42)\ttotal: 15m 20s\tremaining: 20m 20s\n",
            "43:\tlearn: 1.1371027\ttest: 1.1333730\tbest: 1.1333730 (43)\ttotal: 15m 41s\tremaining: 19m 58s\n",
            "44:\tlearn: 1.1336865\ttest: 1.1307347\tbest: 1.1307347 (44)\ttotal: 16m 3s\tremaining: 19m 38s\n",
            "45:\tlearn: 1.1268924\ttest: 1.1232199\tbest: 1.1232199 (45)\ttotal: 16m 24s\tremaining: 19m 15s\n",
            "46:\tlearn: 1.1231575\ttest: 1.1206113\tbest: 1.1206113 (46)\ttotal: 16m 46s\tremaining: 18m 55s\n",
            "47:\tlearn: 1.1200062\ttest: 1.1184550\tbest: 1.1184550 (47)\ttotal: 17m 8s\tremaining: 18m 34s\n",
            "48:\tlearn: 1.1160065\ttest: 1.1151888\tbest: 1.1151888 (48)\ttotal: 17m 29s\tremaining: 18m 12s\n",
            "49:\tlearn: 1.1107245\ttest: 1.1097650\tbest: 1.1097650 (49)\ttotal: 17m 49s\tremaining: 17m 49s\n",
            "50:\tlearn: 1.1083436\ttest: 1.1074552\tbest: 1.1074552 (50)\ttotal: 18m 11s\tremaining: 17m 28s\n",
            "51:\tlearn: 1.1052335\ttest: 1.1057256\tbest: 1.1057256 (51)\ttotal: 18m 31s\tremaining: 17m 6s\n",
            "52:\tlearn: 1.1010385\ttest: 1.1023919\tbest: 1.1023919 (52)\ttotal: 18m 52s\tremaining: 16m 44s\n",
            "53:\tlearn: 1.0988073\ttest: 1.1004593\tbest: 1.1004593 (53)\ttotal: 19m 13s\tremaining: 16m 22s\n",
            "54:\tlearn: 1.0955675\ttest: 1.0977436\tbest: 1.0977436 (54)\ttotal: 19m 35s\tremaining: 16m 1s\n",
            "55:\tlearn: 1.0931655\ttest: 1.0962087\tbest: 1.0962087 (55)\ttotal: 19m 56s\tremaining: 15m 40s\n",
            "56:\tlearn: 1.0846477\ttest: 1.0868180\tbest: 1.0868180 (56)\ttotal: 20m 16s\tremaining: 15m 17s\n",
            "57:\tlearn: 1.0812217\ttest: 1.0842444\tbest: 1.0842444 (57)\ttotal: 20m 36s\tremaining: 14m 55s\n",
            "58:\tlearn: 1.0767836\ttest: 1.0805692\tbest: 1.0805692 (58)\ttotal: 20m 57s\tremaining: 14m 33s\n",
            "59:\tlearn: 1.0716801\ttest: 1.0752567\tbest: 1.0752567 (59)\ttotal: 21m 19s\tremaining: 14m 12s\n",
            "60:\tlearn: 1.0689948\ttest: 1.0729903\tbest: 1.0729903 (60)\ttotal: 21m 39s\tremaining: 13m 50s\n",
            "61:\tlearn: 1.0649202\ttest: 1.0696213\tbest: 1.0696213 (61)\ttotal: 22m\tremaining: 13m 29s\n",
            "62:\tlearn: 1.0613892\ttest: 1.0667417\tbest: 1.0667417 (62)\ttotal: 22m 22s\tremaining: 13m 8s\n",
            "63:\tlearn: 1.0600272\ttest: 1.0652697\tbest: 1.0652697 (63)\ttotal: 22m 44s\tremaining: 12m 47s\n",
            "64:\tlearn: 1.0571416\ttest: 1.0627080\tbest: 1.0627080 (64)\ttotal: 23m 5s\tremaining: 12m 26s\n",
            "65:\tlearn: 1.0547364\ttest: 1.0605785\tbest: 1.0605785 (65)\ttotal: 23m 26s\tremaining: 12m 4s\n",
            "66:\tlearn: 1.0529791\ttest: 1.0594927\tbest: 1.0594927 (66)\ttotal: 23m 48s\tremaining: 11m 43s\n",
            "67:\tlearn: 1.0492948\ttest: 1.0563483\tbest: 1.0563483 (67)\ttotal: 24m 9s\tremaining: 11m 22s\n",
            "68:\tlearn: 1.0463738\ttest: 1.0541088\tbest: 1.0541088 (68)\ttotal: 24m 30s\tremaining: 11m\n",
            "69:\tlearn: 1.0439411\ttest: 1.0520114\tbest: 1.0520114 (69)\ttotal: 24m 51s\tremaining: 10m 39s\n",
            "70:\tlearn: 1.0415290\ttest: 1.0504884\tbest: 1.0504884 (70)\ttotal: 25m 13s\tremaining: 10m 18s\n",
            "71:\tlearn: 1.0397583\ttest: 1.0486588\tbest: 1.0486588 (71)\ttotal: 25m 35s\tremaining: 9m 56s\n",
            "72:\tlearn: 1.0367657\ttest: 1.0459610\tbest: 1.0459610 (72)\ttotal: 25m 55s\tremaining: 9m 35s\n",
            "73:\tlearn: 1.0352038\ttest: 1.0451704\tbest: 1.0451704 (73)\ttotal: 26m 16s\tremaining: 9m 14s\n",
            "74:\tlearn: 1.0331350\ttest: 1.0430946\tbest: 1.0430946 (74)\ttotal: 26m 38s\tremaining: 8m 52s\n",
            "75:\tlearn: 1.0315487\ttest: 1.0419671\tbest: 1.0419671 (75)\ttotal: 27m\tremaining: 8m 31s\n",
            "76:\tlearn: 1.0286367\ttest: 1.0394386\tbest: 1.0394386 (76)\ttotal: 27m 20s\tremaining: 8m 10s\n",
            "77:\tlearn: 1.0269718\ttest: 1.0377279\tbest: 1.0377279 (77)\ttotal: 27m 42s\tremaining: 7m 48s\n",
            "78:\tlearn: 1.0264379\ttest: 1.0374975\tbest: 1.0374975 (78)\ttotal: 28m 5s\tremaining: 7m 28s\n",
            "79:\tlearn: 1.0254383\ttest: 1.0364091\tbest: 1.0364091 (79)\ttotal: 28m 27s\tremaining: 7m 6s\n",
            "80:\tlearn: 1.0245575\ttest: 1.0356005\tbest: 1.0356005 (80)\ttotal: 28m 48s\tremaining: 6m 45s\n",
            "81:\tlearn: 1.0208074\ttest: 1.0323972\tbest: 1.0323972 (81)\ttotal: 29m 9s\tremaining: 6m 24s\n",
            "82:\tlearn: 1.0189833\ttest: 1.0313264\tbest: 1.0313264 (82)\ttotal: 29m 30s\tremaining: 6m 2s\n",
            "83:\tlearn: 1.0187331\ttest: 1.0311633\tbest: 1.0311633 (83)\ttotal: 29m 52s\tremaining: 5m 41s\n",
            "84:\tlearn: 1.0180017\ttest: 1.0306803\tbest: 1.0306803 (84)\ttotal: 30m 14s\tremaining: 5m 20s\n",
            "85:\tlearn: 1.0157915\ttest: 1.0293787\tbest: 1.0293787 (85)\ttotal: 30m 35s\tremaining: 4m 58s\n",
            "86:\tlearn: 1.0141607\ttest: 1.0285778\tbest: 1.0285778 (86)\ttotal: 30m 56s\tremaining: 4m 37s\n",
            "87:\tlearn: 1.0098456\ttest: 1.0236930\tbest: 1.0236930 (87)\ttotal: 31m 18s\tremaining: 4m 16s\n",
            "88:\tlearn: 1.0086300\ttest: 1.0225413\tbest: 1.0225413 (88)\ttotal: 31m 40s\tremaining: 3m 54s\n",
            "89:\tlearn: 1.0075344\ttest: 1.0219727\tbest: 1.0219727 (89)\ttotal: 32m\tremaining: 3m 33s\n",
            "90:\tlearn: 1.0068755\ttest: 1.0212340\tbest: 1.0212340 (90)\ttotal: 32m 22s\tremaining: 3m 12s\n",
            "91:\tlearn: 1.0047642\ttest: 1.0195326\tbest: 1.0195326 (91)\ttotal: 32m 43s\tremaining: 2m 50s\n",
            "92:\tlearn: 1.0032390\ttest: 1.0182526\tbest: 1.0182526 (92)\ttotal: 33m 5s\tremaining: 2m 29s\n",
            "93:\tlearn: 1.0013494\ttest: 1.0171458\tbest: 1.0171458 (93)\ttotal: 33m 26s\tremaining: 2m 8s\n",
            "94:\tlearn: 1.0010556\ttest: 1.0169773\tbest: 1.0169773 (94)\ttotal: 33m 48s\tremaining: 1m 46s\n",
            "95:\tlearn: 1.0002817\ttest: 1.0166992\tbest: 1.0166992 (95)\ttotal: 34m 10s\tremaining: 1m 25s\n",
            "96:\tlearn: 0.9998320\ttest: 1.0165175\tbest: 1.0165175 (96)\ttotal: 34m 32s\tremaining: 1m 4s\n",
            "97:\tlearn: 0.9992700\ttest: 1.0160388\tbest: 1.0160388 (97)\ttotal: 34m 54s\tremaining: 42.7s\n",
            "98:\tlearn: 0.9985497\ttest: 1.0155789\tbest: 1.0155789 (98)\ttotal: 35m 15s\tremaining: 21.4s\n",
            "99:\tlearn: 0.9974930\ttest: 1.0145020\tbest: 1.0145020 (99)\ttotal: 35m 37s\tremaining: 0us\n",
            "\n",
            "bestTest = 1.014501969\n",
            "bestIteration = 99\n",
            "\n"
          ]
        },
        {
          "output_type": "execute_result",
          "data": {
            "text/plain": [
              "<catboost.core.CatBoostClassifier at 0x7f8461deaac0>"
            ]
          },
          "metadata": {},
          "execution_count": 111
        }
      ],
      "source": [
        "model = CatBoostClassifier(**ctb_params)\n",
        "model.fit(X = data_train, silent=False, eval_set=data_eval)"
      ]
    },
    {
      "cell_type": "code",
      "execution_count": 112,
      "metadata": {
        "id": "3rvjBCSI1pTU"
      },
      "outputs": [],
      "source": [
        "model.save_model('catboost_depth=4_lr=.3_l2=3')\n",
        "# model = CatBoostClassifier()"
      ]
    },
    {
      "cell_type": "code",
      "execution_count": 147,
      "metadata": {
        "id": "mmEN9PF21pTU"
      },
      "outputs": [],
      "source": [
        "# y_pred = model.predict_proba(x_eval.drop(['TripType', 'VisitNumber'], axis=1))\n",
        "# accuracy_score(x_eval.TripType, y_pred)"
      ]
    },
    {
      "cell_type": "code",
      "source": [
        "y_pred[0]"
      ],
      "metadata": {
        "colab": {
          "base_uri": "https://localhost:8080/"
        },
        "id": "vYVeO2_2572T",
        "outputId": "503d4662-5008-4d76-ab2d-b62491bea47a"
      },
      "execution_count": 115,
      "outputs": [
        {
          "output_type": "execute_result",
          "data": {
            "text/plain": [
              "array([40])"
            ]
          },
          "metadata": {},
          "execution_count": 115
        }
      ]
    },
    {
      "cell_type": "code",
      "source": [
        "model.get_params()"
      ],
      "metadata": {
        "colab": {
          "base_uri": "https://localhost:8080/"
        },
        "id": "w0hJ_QqSejC8",
        "outputId": "add0f50a-4094-4bc9-ba87-b0345ea8f4b3"
      },
      "execution_count": 141,
      "outputs": [
        {
          "output_type": "execute_result",
          "data": {
            "text/plain": [
              "{'iterations': 100,\n",
              " 'learning_rate': 0.3,\n",
              " 'depth': 4,\n",
              " 'l2_leaf_reg': 3,\n",
              " 'loss_function': 'MultiClass',\n",
              " 'thread_count': 12,\n",
              " 'verbose': 1}"
            ]
          },
          "metadata": {},
          "execution_count": 141
        }
      ]
    },
    {
      "cell_type": "code",
      "source": [
        "from catboost import CatBoostClassifier, Pool, metrics, cv"
      ],
      "metadata": {
        "id": "YJX_zAcRgjk7"
      },
      "execution_count": 143,
      "outputs": []
    },
    {
      "cell_type": "code",
      "source": [
        "# cv_params = model.get_params()\n",
        "\n",
        "# cv_data = cv(\n",
        "#     Pool(df.drop(['TripType', 'VisitNumber'], axis=1), df.TripType, cat_features=cat_features),\n",
        "#     cv_params,\n",
        "#     plot=True\n",
        "# )"
      ],
      "metadata": {
        "id": "EsiQRikWgaax"
      },
      "execution_count": null,
      "outputs": []
    },
    {
      "cell_type": "markdown",
      "source": [
        "# Подбор гиперпараметров для catboost"
      ],
      "metadata": {
        "id": "L5YqyxVEejZF"
      }
    },
    {
      "cell_type": "code",
      "source": [
        "from catboost import CatBoostClassifier, Pool, metrics, cv"
      ],
      "metadata": {
        "id": "drNLRcE2qiu-"
      },
      "execution_count": null,
      "outputs": []
    },
    {
      "cell_type": "code",
      "source": [
        "from sklearn.model_selection import GridSearchCV"
      ],
      "metadata": {
        "id": "Xg3bTTvVnd6q"
      },
      "execution_count": null,
      "outputs": []
    },
    {
      "cell_type": "code",
      "source": [
        "cb_model = CatBoostClassifier()"
      ],
      "metadata": {
        "id": "iFSI1sIEozgl"
      },
      "execution_count": null,
      "outputs": []
    },
    {
      "cell_type": "code",
      "source": [
        "cv_data = cv(\n",
        "    Pool(df.drop(['TripType', 'VisitNumber'], axis=1), df.TripType, cat_features=cat_features)\n",
        ")"
      ],
      "metadata": {
        "colab": {
          "base_uri": "https://localhost:8080/",
          "height": 357
        },
        "id": "ldXJ1kLaqmZs",
        "outputId": "9b14e647-92a3-4a4b-f247-e5368a7ac623"
      },
      "execution_count": 148,
      "outputs": [
        {
          "output_type": "error",
          "ename": "CatBoostError",
          "evalue": "ignored",
          "traceback": [
            "\u001b[0;31m---------------------------------------------------------------------------\u001b[0m",
            "\u001b[0;31mCatBoostError\u001b[0m                             Traceback (most recent call last)",
            "\u001b[0;32m<ipython-input-148-9ab85784ac37>\u001b[0m in \u001b[0;36m<cell line: 1>\u001b[0;34m()\u001b[0m\n\u001b[0;32m----> 1\u001b[0;31m cv_data = cv(\n\u001b[0m\u001b[1;32m      2\u001b[0m     \u001b[0mPool\u001b[0m\u001b[0;34m(\u001b[0m\u001b[0mdf\u001b[0m\u001b[0;34m.\u001b[0m\u001b[0mdrop\u001b[0m\u001b[0;34m(\u001b[0m\u001b[0;34m[\u001b[0m\u001b[0;34m'TripType'\u001b[0m\u001b[0;34m,\u001b[0m \u001b[0;34m'VisitNumber'\u001b[0m\u001b[0;34m]\u001b[0m\u001b[0;34m,\u001b[0m \u001b[0maxis\u001b[0m\u001b[0;34m=\u001b[0m\u001b[0;36m1\u001b[0m\u001b[0;34m)\u001b[0m\u001b[0;34m,\u001b[0m \u001b[0mdf\u001b[0m\u001b[0;34m.\u001b[0m\u001b[0mTripType\u001b[0m\u001b[0;34m,\u001b[0m \u001b[0mcat_features\u001b[0m\u001b[0;34m=\u001b[0m\u001b[0mcat_features\u001b[0m\u001b[0;34m)\u001b[0m\u001b[0;34m\u001b[0m\u001b[0;34m\u001b[0m\u001b[0m\n\u001b[1;32m      3\u001b[0m )\n",
            "\u001b[0;32m/usr/local/lib/python3.9/dist-packages/catboost/core.py\u001b[0m in \u001b[0;36mcv\u001b[0;34m(pool, params, dtrain, iterations, num_boost_round, fold_count, nfold, inverted, partition_random_seed, seed, shuffle, logging_level, stratified, as_pandas, metric_period, verbose, verbose_eval, plot, plot_file, early_stopping_rounds, save_snapshot, snapshot_file, snapshot_interval, metric_update_interval, folds, type, return_models, log_cout, log_cerr)\u001b[0m\n\u001b[1;32m   6515\u001b[0m     \"\"\"\n\u001b[1;32m   6516\u001b[0m     \u001b[0;32mif\u001b[0m \u001b[0mparams\u001b[0m \u001b[0;32mis\u001b[0m \u001b[0;32mNone\u001b[0m\u001b[0;34m:\u001b[0m\u001b[0;34m\u001b[0m\u001b[0;34m\u001b[0m\u001b[0m\n\u001b[0;32m-> 6517\u001b[0;31m         \u001b[0;32mraise\u001b[0m \u001b[0mCatBoostError\u001b[0m\u001b[0;34m(\u001b[0m\u001b[0;34m\"params should be set.\"\u001b[0m\u001b[0;34m)\u001b[0m\u001b[0;34m\u001b[0m\u001b[0;34m\u001b[0m\u001b[0m\n\u001b[0m\u001b[1;32m   6518\u001b[0m \u001b[0;34m\u001b[0m\u001b[0m\n\u001b[1;32m   6519\u001b[0m     \u001b[0mparams\u001b[0m \u001b[0;34m=\u001b[0m \u001b[0mdeepcopy\u001b[0m\u001b[0;34m(\u001b[0m\u001b[0mparams\u001b[0m\u001b[0;34m)\u001b[0m\u001b[0;34m\u001b[0m\u001b[0;34m\u001b[0m\u001b[0m\n",
            "\u001b[0;31mCatBoostError\u001b[0m: params should be set."
          ]
        }
      ]
    },
    {
      "cell_type": "code",
      "source": [
        "ctb_params = {\n",
        "    'depth': [4, 6, 8],\n",
        "    'learning_rate': [.1, .3, .5],\n",
        "    'l2_leaf_reg': [2, 3, 4],\n",
        "    'loss_function': ['MultiClass'],\n",
        "    'verbose': [1],\n",
        "    'thread_count': [12],\n",
        "    'iterations': [200],\n",
        "    'use_best_model': [True]\n",
        "}"
      ],
      "metadata": {
        "id": "g8nr_62Xmz4R"
      },
      "execution_count": null,
      "outputs": []
    },
    {
      "cell_type": "code",
      "source": [
        "gs = GridSearchCV(estimator=cb_model,\n",
        "                  param_grid=ctb_params,\n",
        "                  cv=cv,\n",
        "                  n_jobs=-1)"
      ],
      "metadata": {
        "id": "SeN7TI1Mm0Cb"
      },
      "execution_count": null,
      "outputs": []
    },
    {
      "cell_type": "code",
      "source": [],
      "metadata": {
        "id": "Z5ItJRAcrywM"
      },
      "execution_count": null,
      "outputs": []
    },
    {
      "cell_type": "code",
      "source": [],
      "metadata": {
        "id": "nLhQXTu2ry0x"
      },
      "execution_count": null,
      "outputs": []
    },
    {
      "cell_type": "code",
      "source": [],
      "metadata": {
        "id": "TiO8vt32ry5m"
      },
      "execution_count": null,
      "outputs": []
    },
    {
      "cell_type": "markdown",
      "source": [
        "## hyper oprt"
      ],
      "metadata": {
        "id": "FFeCR2CYrzoK"
      }
    },
    {
      "cell_type": "code",
      "source": [
        "ctb_params = {\n",
        "    'depth': 4,\n",
        "    'learning_rate': .3,\n",
        "    'l2_leaf_reg': 3,\n",
        "    'loss_function': 'MultiClass',\n",
        "    'verbose': 1,\n",
        "    'thread_count': 12,\n",
        "    'iterations': 100\n",
        "}"
      ],
      "metadata": {
        "id": "dFDxNvRxsbTg"
      },
      "execution_count": null,
      "outputs": []
    },
    {
      "cell_type": "code",
      "source": [
        "!pip install hyperopt"
      ],
      "metadata": {
        "id": "SG49llLBr2_H"
      },
      "execution_count": null,
      "outputs": []
    },
    {
      "cell_type": "code",
      "source": [
        "import hyperopt\n",
        "\n",
        "def hyperopt_objective(params):\n",
        "    model = CatBoostClassifier(\n",
        "        depth = int(params['depth']),\n",
        "        l2_leaf_reg=int(params['l2_leaf_reg']),\n",
        "        learning_rate=params['learning_rate'],\n",
        "        iterations=100,\n",
        "        random_seed=42,\n",
        "        verbose=False,\n",
        "        loss_function=metrics.MultiClass(),\n",
        "        task_type='GPU'\n",
        "    )\n",
        "    \n",
        "    cv_data = cv(\n",
        "        Pool(df.drop(['TripType', 'VisitNumber'], axis=1), df.TripType, cat_features=cat_features),\n",
        "        model.get_params(),\n",
        "        logging_level='Silent',\n",
        "    )\n",
        "    best_accuracy = np.max(cv_data['test-MultiClass-mean'])\n",
        "    \n",
        "    return best_accuracy # as hyperopt minimises"
      ],
      "metadata": {
        "id": "ZFH1N02lr3G-"
      },
      "execution_count": null,
      "outputs": []
    },
    {
      "cell_type": "code",
      "source": [],
      "metadata": {
        "id": "QqH04HY9r3NU"
      },
      "execution_count": null,
      "outputs": []
    },
    {
      "cell_type": "code",
      "source": [],
      "metadata": {
        "id": "1rZ9anitr3Tm"
      },
      "execution_count": null,
      "outputs": []
    },
    {
      "cell_type": "markdown",
      "metadata": {
        "id": "DiTO8YJq1pTU"
      },
      "source": [
        "# 6. Compare `xgboost`, `catboost` and `lightgbm`"
      ]
    },
    {
      "cell_type": "code",
      "execution_count": 116,
      "metadata": {
        "id": "puu71s7A1pTV"
      },
      "outputs": [],
      "source": [
        "df_test = test.copy()"
      ]
    },
    {
      "cell_type": "code",
      "source": [
        "df_test = generate_features(df_test)"
      ],
      "metadata": {
        "id": "QWtKRlIE63t4"
      },
      "execution_count": 117,
      "outputs": []
    },
    {
      "cell_type": "code",
      "source": [
        "for i, col in enumerate(df_test.columns):\n",
        "    print(i-2, col, df_test[col].dtype)"
      ],
      "metadata": {
        "colab": {
          "base_uri": "https://localhost:8080/"
        },
        "id": "IY_pFZa37I_z",
        "outputId": "6f6a8065-ed86-419c-ef14-2e9b6dbf5482"
      },
      "execution_count": 118,
      "outputs": [
        {
          "output_type": "stream",
          "name": "stdout",
          "text": [
            "-2 VisitNumber int64\n",
            "-1 Weekday object\n",
            "0 Category_0 object\n",
            "1 Category_1 object\n",
            "2 Category_2 object\n",
            "3 Category_3 object\n",
            "4 Fineline_0 object\n",
            "5 Fineline_1 object\n",
            "6 Fineline_2 object\n",
            "7 Fineline_3 object\n",
            "8 Fineline_4 object\n",
            "9 Fineline_5 object\n",
            "10 #Unique_Department int64\n",
            "11 #Unique_Fineline int64\n",
            "12 #UniqueScanCount int64\n",
            "13 TotalScanCount int64\n",
            "14 is_Weekend object\n",
            "15 total_return float64\n"
          ]
        }
      ]
    },
    {
      "cell_type": "code",
      "source": [
        "for col in df_test.columns:\n",
        "    if col.startswith('Category'):\n",
        "        df_test[col]=df_test[col].apply(str)\n",
        "    if col.startswith('Fineline'):\n",
        "        df_test[col]=df_test[col].apply(str)"
      ],
      "metadata": {
        "id": "aZci0TJM7mo5"
      },
      "execution_count": 119,
      "outputs": []
    },
    {
      "cell_type": "code",
      "source": [
        "df_test.fillna('NaN', inplace=True)"
      ],
      "metadata": {
        "id": "pTCEUgzt71pi"
      },
      "execution_count": 120,
      "outputs": []
    },
    {
      "cell_type": "code",
      "source": [
        "df_test.head()"
      ],
      "metadata": {
        "colab": {
          "base_uri": "https://localhost:8080/",
          "height": 357
        },
        "id": "RtADPZO2OaXf",
        "outputId": "74095c51-0611-4bfa-ebae-a559f55bfb85"
      },
      "execution_count": 121,
      "outputs": [
        {
          "output_type": "execute_result",
          "data": {
            "text/plain": [
              "    VisitNumber Weekday           Category_0   Category_1         Category_2  \\\n",
              "0             1  Friday                DAIRY        SHOES  GROCERY DRY GOODS   \n",
              "4             2  Friday  IMPULSE MERCHANDISE  DSD GROCERY             BAKERY   \n",
              "8             3  Friday        PERSONAL CARE          nan                nan   \n",
              "10            4  Friday   FABRICS AND CRAFTS          nan                nan   \n",
              "11            6  Friday            BOYS WEAR          nan                nan   \n",
              "\n",
              "   Category_3 Fineline_0 Fineline_1 Fineline_2 Fineline_3 Fineline_4  \\\n",
              "0         nan     3002.0     1526.0     1431.0     3555.0        nan   \n",
              "4         nan     8023.0     4408.0     5019.0        nan        nan   \n",
              "8         nan     4504.0        nan        nan        nan        nan   \n",
              "10        nan     5924.0        nan        nan        nan        nan   \n",
              "11        nan      654.0        nan        nan        nan        nan   \n",
              "\n",
              "   Fineline_5  #Unique_Department  #Unique_Fineline  #UniqueScanCount  \\\n",
              "0         nan                   3                 4                 4   \n",
              "4         nan                   3                 3                 4   \n",
              "8         nan                   1                 1                 2   \n",
              "10        nan                   1                 1                 1   \n",
              "11        nan                   1                 1                 2   \n",
              "\n",
              "    TotalScanCount  is_Weekend  total_return  \n",
              "0                4           0           0.0  \n",
              "4                4           0           0.0  \n",
              "8                0           0          -1.0  \n",
              "10               1           0           0.0  \n",
              "11               0           0          -1.0  "
            ],
            "text/html": [
              "\n",
              "  <div id=\"df-cbe3ad66-06af-48cc-ae38-b1c4ff56c3c8\">\n",
              "    <div class=\"colab-df-container\">\n",
              "      <div>\n",
              "<style scoped>\n",
              "    .dataframe tbody tr th:only-of-type {\n",
              "        vertical-align: middle;\n",
              "    }\n",
              "\n",
              "    .dataframe tbody tr th {\n",
              "        vertical-align: top;\n",
              "    }\n",
              "\n",
              "    .dataframe thead th {\n",
              "        text-align: right;\n",
              "    }\n",
              "</style>\n",
              "<table border=\"1\" class=\"dataframe\">\n",
              "  <thead>\n",
              "    <tr style=\"text-align: right;\">\n",
              "      <th></th>\n",
              "      <th>VisitNumber</th>\n",
              "      <th>Weekday</th>\n",
              "      <th>Category_0</th>\n",
              "      <th>Category_1</th>\n",
              "      <th>Category_2</th>\n",
              "      <th>Category_3</th>\n",
              "      <th>Fineline_0</th>\n",
              "      <th>Fineline_1</th>\n",
              "      <th>Fineline_2</th>\n",
              "      <th>Fineline_3</th>\n",
              "      <th>Fineline_4</th>\n",
              "      <th>Fineline_5</th>\n",
              "      <th>#Unique_Department</th>\n",
              "      <th>#Unique_Fineline</th>\n",
              "      <th>#UniqueScanCount</th>\n",
              "      <th>TotalScanCount</th>\n",
              "      <th>is_Weekend</th>\n",
              "      <th>total_return</th>\n",
              "    </tr>\n",
              "  </thead>\n",
              "  <tbody>\n",
              "    <tr>\n",
              "      <th>0</th>\n",
              "      <td>1</td>\n",
              "      <td>Friday</td>\n",
              "      <td>DAIRY</td>\n",
              "      <td>SHOES</td>\n",
              "      <td>GROCERY DRY GOODS</td>\n",
              "      <td>nan</td>\n",
              "      <td>3002.0</td>\n",
              "      <td>1526.0</td>\n",
              "      <td>1431.0</td>\n",
              "      <td>3555.0</td>\n",
              "      <td>nan</td>\n",
              "      <td>nan</td>\n",
              "      <td>3</td>\n",
              "      <td>4</td>\n",
              "      <td>4</td>\n",
              "      <td>4</td>\n",
              "      <td>0</td>\n",
              "      <td>0.0</td>\n",
              "    </tr>\n",
              "    <tr>\n",
              "      <th>4</th>\n",
              "      <td>2</td>\n",
              "      <td>Friday</td>\n",
              "      <td>IMPULSE MERCHANDISE</td>\n",
              "      <td>DSD GROCERY</td>\n",
              "      <td>BAKERY</td>\n",
              "      <td>nan</td>\n",
              "      <td>8023.0</td>\n",
              "      <td>4408.0</td>\n",
              "      <td>5019.0</td>\n",
              "      <td>nan</td>\n",
              "      <td>nan</td>\n",
              "      <td>nan</td>\n",
              "      <td>3</td>\n",
              "      <td>3</td>\n",
              "      <td>4</td>\n",
              "      <td>4</td>\n",
              "      <td>0</td>\n",
              "      <td>0.0</td>\n",
              "    </tr>\n",
              "    <tr>\n",
              "      <th>8</th>\n",
              "      <td>3</td>\n",
              "      <td>Friday</td>\n",
              "      <td>PERSONAL CARE</td>\n",
              "      <td>nan</td>\n",
              "      <td>nan</td>\n",
              "      <td>nan</td>\n",
              "      <td>4504.0</td>\n",
              "      <td>nan</td>\n",
              "      <td>nan</td>\n",
              "      <td>nan</td>\n",
              "      <td>nan</td>\n",
              "      <td>nan</td>\n",
              "      <td>1</td>\n",
              "      <td>1</td>\n",
              "      <td>2</td>\n",
              "      <td>0</td>\n",
              "      <td>0</td>\n",
              "      <td>-1.0</td>\n",
              "    </tr>\n",
              "    <tr>\n",
              "      <th>10</th>\n",
              "      <td>4</td>\n",
              "      <td>Friday</td>\n",
              "      <td>FABRICS AND CRAFTS</td>\n",
              "      <td>nan</td>\n",
              "      <td>nan</td>\n",
              "      <td>nan</td>\n",
              "      <td>5924.0</td>\n",
              "      <td>nan</td>\n",
              "      <td>nan</td>\n",
              "      <td>nan</td>\n",
              "      <td>nan</td>\n",
              "      <td>nan</td>\n",
              "      <td>1</td>\n",
              "      <td>1</td>\n",
              "      <td>1</td>\n",
              "      <td>1</td>\n",
              "      <td>0</td>\n",
              "      <td>0.0</td>\n",
              "    </tr>\n",
              "    <tr>\n",
              "      <th>11</th>\n",
              "      <td>6</td>\n",
              "      <td>Friday</td>\n",
              "      <td>BOYS WEAR</td>\n",
              "      <td>nan</td>\n",
              "      <td>nan</td>\n",
              "      <td>nan</td>\n",
              "      <td>654.0</td>\n",
              "      <td>nan</td>\n",
              "      <td>nan</td>\n",
              "      <td>nan</td>\n",
              "      <td>nan</td>\n",
              "      <td>nan</td>\n",
              "      <td>1</td>\n",
              "      <td>1</td>\n",
              "      <td>2</td>\n",
              "      <td>0</td>\n",
              "      <td>0</td>\n",
              "      <td>-1.0</td>\n",
              "    </tr>\n",
              "  </tbody>\n",
              "</table>\n",
              "</div>\n",
              "      <button class=\"colab-df-convert\" onclick=\"convertToInteractive('df-cbe3ad66-06af-48cc-ae38-b1c4ff56c3c8')\"\n",
              "              title=\"Convert this dataframe to an interactive table.\"\n",
              "              style=\"display:none;\">\n",
              "        \n",
              "  <svg xmlns=\"http://www.w3.org/2000/svg\" height=\"24px\"viewBox=\"0 0 24 24\"\n",
              "       width=\"24px\">\n",
              "    <path d=\"M0 0h24v24H0V0z\" fill=\"none\"/>\n",
              "    <path d=\"M18.56 5.44l.94 2.06.94-2.06 2.06-.94-2.06-.94-.94-2.06-.94 2.06-2.06.94zm-11 1L8.5 8.5l.94-2.06 2.06-.94-2.06-.94L8.5 2.5l-.94 2.06-2.06.94zm10 10l.94 2.06.94-2.06 2.06-.94-2.06-.94-.94-2.06-.94 2.06-2.06.94z\"/><path d=\"M17.41 7.96l-1.37-1.37c-.4-.4-.92-.59-1.43-.59-.52 0-1.04.2-1.43.59L10.3 9.45l-7.72 7.72c-.78.78-.78 2.05 0 2.83L4 21.41c.39.39.9.59 1.41.59.51 0 1.02-.2 1.41-.59l7.78-7.78 2.81-2.81c.8-.78.8-2.07 0-2.86zM5.41 20L4 18.59l7.72-7.72 1.47 1.35L5.41 20z\"/>\n",
              "  </svg>\n",
              "      </button>\n",
              "      \n",
              "  <style>\n",
              "    .colab-df-container {\n",
              "      display:flex;\n",
              "      flex-wrap:wrap;\n",
              "      gap: 12px;\n",
              "    }\n",
              "\n",
              "    .colab-df-convert {\n",
              "      background-color: #E8F0FE;\n",
              "      border: none;\n",
              "      border-radius: 50%;\n",
              "      cursor: pointer;\n",
              "      display: none;\n",
              "      fill: #1967D2;\n",
              "      height: 32px;\n",
              "      padding: 0 0 0 0;\n",
              "      width: 32px;\n",
              "    }\n",
              "\n",
              "    .colab-df-convert:hover {\n",
              "      background-color: #E2EBFA;\n",
              "      box-shadow: 0px 1px 2px rgba(60, 64, 67, 0.3), 0px 1px 3px 1px rgba(60, 64, 67, 0.15);\n",
              "      fill: #174EA6;\n",
              "    }\n",
              "\n",
              "    [theme=dark] .colab-df-convert {\n",
              "      background-color: #3B4455;\n",
              "      fill: #D2E3FC;\n",
              "    }\n",
              "\n",
              "    [theme=dark] .colab-df-convert:hover {\n",
              "      background-color: #434B5C;\n",
              "      box-shadow: 0px 1px 3px 1px rgba(0, 0, 0, 0.15);\n",
              "      filter: drop-shadow(0px 1px 2px rgba(0, 0, 0, 0.3));\n",
              "      fill: #FFFFFF;\n",
              "    }\n",
              "  </style>\n",
              "\n",
              "      <script>\n",
              "        const buttonEl =\n",
              "          document.querySelector('#df-cbe3ad66-06af-48cc-ae38-b1c4ff56c3c8 button.colab-df-convert');\n",
              "        buttonEl.style.display =\n",
              "          google.colab.kernel.accessAllowed ? 'block' : 'none';\n",
              "\n",
              "        async function convertToInteractive(key) {\n",
              "          const element = document.querySelector('#df-cbe3ad66-06af-48cc-ae38-b1c4ff56c3c8');\n",
              "          const dataTable =\n",
              "            await google.colab.kernel.invokeFunction('convertToInteractive',\n",
              "                                                     [key], {});\n",
              "          if (!dataTable) return;\n",
              "\n",
              "          const docLinkHtml = 'Like what you see? Visit the ' +\n",
              "            '<a target=\"_blank\" href=https://colab.research.google.com/notebooks/data_table.ipynb>data table notebook</a>'\n",
              "            + ' to learn more about interactive tables.';\n",
              "          element.innerHTML = '';\n",
              "          dataTable['output_type'] = 'display_data';\n",
              "          await google.colab.output.renderOutput(dataTable, element);\n",
              "          const docLink = document.createElement('div');\n",
              "          docLink.innerHTML = docLinkHtml;\n",
              "          element.appendChild(docLink);\n",
              "        }\n",
              "      </script>\n",
              "    </div>\n",
              "  </div>\n",
              "  "
            ]
          },
          "metadata": {},
          "execution_count": 121
        }
      ]
    },
    {
      "cell_type": "code",
      "source": [
        "y_pred = model.predict_proba(df_test.drop(['VisitNumber'], axis=1))"
      ],
      "metadata": {
        "id": "cH2Nao7MNQo0"
      },
      "execution_count": 122,
      "outputs": []
    },
    {
      "cell_type": "code",
      "source": [
        "y_pred[0]"
      ],
      "metadata": {
        "colab": {
          "base_uri": "https://localhost:8080/"
        },
        "id": "8SIrD-fLOyW1",
        "outputId": "62f93179-8b87-41ed-b823-b828abed90cd"
      },
      "execution_count": 124,
      "outputs": [
        {
          "output_type": "execute_result",
          "data": {
            "text/plain": [
              "array([4.05188404e-04, 3.51934796e-04, 3.04967113e-03, 1.38875240e-03,\n",
              "       1.40589895e-02, 2.96555819e-03, 1.85195072e-02, 1.09875877e-02,\n",
              "       6.01557541e-05, 1.07544806e-02, 4.36278573e-03, 2.51360714e-03,\n",
              "       6.39745844e-03, 1.32909154e-03, 6.08777227e-03, 3.90411791e-04,\n",
              "       2.69195917e-02, 7.01629540e-02, 9.34560598e-03, 1.20094703e-02,\n",
              "       4.34496712e-03, 5.64875420e-03, 2.96061142e-01, 3.79266780e-02,\n",
              "       3.52629919e-02, 1.01126259e-02, 7.94152284e-03, 4.14485282e-03,\n",
              "       1.84520982e-02, 1.34942838e-02, 1.43930971e-01, 1.36781509e-01,\n",
              "       1.44275104e-03, 1.95897169e-02, 1.21869672e-02, 9.02122481e-03,\n",
              "       1.01992072e-03, 4.05764489e-02])"
            ]
          },
          "metadata": {},
          "execution_count": 124
        }
      ]
    },
    {
      "cell_type": "code",
      "source": [
        "submission = pd.read_csv('/content/sample_submission.csv')"
      ],
      "metadata": {
        "id": "1-YQEiQANREc"
      },
      "execution_count": 125,
      "outputs": []
    },
    {
      "cell_type": "code",
      "source": [
        "submission"
      ],
      "metadata": {
        "colab": {
          "base_uri": "https://localhost:8080/",
          "height": 487
        },
        "id": "TnM8vqZJO7Dt",
        "outputId": "5bf90358-1de0-43a5-b8eb-7e90afd04423"
      },
      "execution_count": 126,
      "outputs": [
        {
          "output_type": "execute_result",
          "data": {
            "text/plain": [
              "       VisitNumber  TripType_3  TripType_4  TripType_5  TripType_6  \\\n",
              "0                1           0           0           0           0   \n",
              "1                2           0           0           0           0   \n",
              "2                3           0           0           0           0   \n",
              "3                4           0           0           0           0   \n",
              "4                6           0           0           0           0   \n",
              "...            ...         ...         ...         ...         ...   \n",
              "95669       191338           0           0           0           0   \n",
              "95670       191339           0           0           0           0   \n",
              "95671       191340           0           0           0           0   \n",
              "95672       191341           0           0           0           0   \n",
              "95673       191348           0           0           0           0   \n",
              "\n",
              "       TripType_7  TripType_8  TripType_9  TripType_12  TripType_14  ...  \\\n",
              "0               0           0           0            0            0  ...   \n",
              "1               0           0           0            0            0  ...   \n",
              "2               0           0           0            0            0  ...   \n",
              "3               0           0           0            0            0  ...   \n",
              "4               0           0           0            0            0  ...   \n",
              "...           ...         ...         ...          ...          ...  ...   \n",
              "95669           0           0           0            0            0  ...   \n",
              "95670           0           0           0            0            0  ...   \n",
              "95671           0           0           0            0            0  ...   \n",
              "95672           0           0           0            0            0  ...   \n",
              "95673           0           0           0            0            0  ...   \n",
              "\n",
              "       TripType_36  TripType_37  TripType_38  TripType_39  TripType_40  \\\n",
              "0                0            0            0            0            0   \n",
              "1                0            0            0            0            0   \n",
              "2                0            0            0            0            0   \n",
              "3                0            0            0            0            0   \n",
              "4                0            0            0            0            0   \n",
              "...            ...          ...          ...          ...          ...   \n",
              "95669            0            0            0            0            0   \n",
              "95670            0            0            0            0            0   \n",
              "95671            0            0            0            0            0   \n",
              "95672            0            0            0            0            0   \n",
              "95673            0            0            0            0            0   \n",
              "\n",
              "       TripType_41  TripType_42  TripType_43  TripType_44  TripType_999  \n",
              "0                0            0            0            0             0  \n",
              "1                0            0            0            0             0  \n",
              "2                0            0            0            0             0  \n",
              "3                0            0            0            0             0  \n",
              "4                0            0            0            0             0  \n",
              "...            ...          ...          ...          ...           ...  \n",
              "95669            0            0            0            0             0  \n",
              "95670            0            0            0            0             0  \n",
              "95671            0            0            0            0             0  \n",
              "95672            0            0            0            0             0  \n",
              "95673            0            0            0            0             0  \n",
              "\n",
              "[95674 rows x 39 columns]"
            ],
            "text/html": [
              "\n",
              "  <div id=\"df-26b567df-4db0-49fb-8d04-af850900d075\">\n",
              "    <div class=\"colab-df-container\">\n",
              "      <div>\n",
              "<style scoped>\n",
              "    .dataframe tbody tr th:only-of-type {\n",
              "        vertical-align: middle;\n",
              "    }\n",
              "\n",
              "    .dataframe tbody tr th {\n",
              "        vertical-align: top;\n",
              "    }\n",
              "\n",
              "    .dataframe thead th {\n",
              "        text-align: right;\n",
              "    }\n",
              "</style>\n",
              "<table border=\"1\" class=\"dataframe\">\n",
              "  <thead>\n",
              "    <tr style=\"text-align: right;\">\n",
              "      <th></th>\n",
              "      <th>VisitNumber</th>\n",
              "      <th>TripType_3</th>\n",
              "      <th>TripType_4</th>\n",
              "      <th>TripType_5</th>\n",
              "      <th>TripType_6</th>\n",
              "      <th>TripType_7</th>\n",
              "      <th>TripType_8</th>\n",
              "      <th>TripType_9</th>\n",
              "      <th>TripType_12</th>\n",
              "      <th>TripType_14</th>\n",
              "      <th>...</th>\n",
              "      <th>TripType_36</th>\n",
              "      <th>TripType_37</th>\n",
              "      <th>TripType_38</th>\n",
              "      <th>TripType_39</th>\n",
              "      <th>TripType_40</th>\n",
              "      <th>TripType_41</th>\n",
              "      <th>TripType_42</th>\n",
              "      <th>TripType_43</th>\n",
              "      <th>TripType_44</th>\n",
              "      <th>TripType_999</th>\n",
              "    </tr>\n",
              "  </thead>\n",
              "  <tbody>\n",
              "    <tr>\n",
              "      <th>0</th>\n",
              "      <td>1</td>\n",
              "      <td>0</td>\n",
              "      <td>0</td>\n",
              "      <td>0</td>\n",
              "      <td>0</td>\n",
              "      <td>0</td>\n",
              "      <td>0</td>\n",
              "      <td>0</td>\n",
              "      <td>0</td>\n",
              "      <td>0</td>\n",
              "      <td>...</td>\n",
              "      <td>0</td>\n",
              "      <td>0</td>\n",
              "      <td>0</td>\n",
              "      <td>0</td>\n",
              "      <td>0</td>\n",
              "      <td>0</td>\n",
              "      <td>0</td>\n",
              "      <td>0</td>\n",
              "      <td>0</td>\n",
              "      <td>0</td>\n",
              "    </tr>\n",
              "    <tr>\n",
              "      <th>1</th>\n",
              "      <td>2</td>\n",
              "      <td>0</td>\n",
              "      <td>0</td>\n",
              "      <td>0</td>\n",
              "      <td>0</td>\n",
              "      <td>0</td>\n",
              "      <td>0</td>\n",
              "      <td>0</td>\n",
              "      <td>0</td>\n",
              "      <td>0</td>\n",
              "      <td>...</td>\n",
              "      <td>0</td>\n",
              "      <td>0</td>\n",
              "      <td>0</td>\n",
              "      <td>0</td>\n",
              "      <td>0</td>\n",
              "      <td>0</td>\n",
              "      <td>0</td>\n",
              "      <td>0</td>\n",
              "      <td>0</td>\n",
              "      <td>0</td>\n",
              "    </tr>\n",
              "    <tr>\n",
              "      <th>2</th>\n",
              "      <td>3</td>\n",
              "      <td>0</td>\n",
              "      <td>0</td>\n",
              "      <td>0</td>\n",
              "      <td>0</td>\n",
              "      <td>0</td>\n",
              "      <td>0</td>\n",
              "      <td>0</td>\n",
              "      <td>0</td>\n",
              "      <td>0</td>\n",
              "      <td>...</td>\n",
              "      <td>0</td>\n",
              "      <td>0</td>\n",
              "      <td>0</td>\n",
              "      <td>0</td>\n",
              "      <td>0</td>\n",
              "      <td>0</td>\n",
              "      <td>0</td>\n",
              "      <td>0</td>\n",
              "      <td>0</td>\n",
              "      <td>0</td>\n",
              "    </tr>\n",
              "    <tr>\n",
              "      <th>3</th>\n",
              "      <td>4</td>\n",
              "      <td>0</td>\n",
              "      <td>0</td>\n",
              "      <td>0</td>\n",
              "      <td>0</td>\n",
              "      <td>0</td>\n",
              "      <td>0</td>\n",
              "      <td>0</td>\n",
              "      <td>0</td>\n",
              "      <td>0</td>\n",
              "      <td>...</td>\n",
              "      <td>0</td>\n",
              "      <td>0</td>\n",
              "      <td>0</td>\n",
              "      <td>0</td>\n",
              "      <td>0</td>\n",
              "      <td>0</td>\n",
              "      <td>0</td>\n",
              "      <td>0</td>\n",
              "      <td>0</td>\n",
              "      <td>0</td>\n",
              "    </tr>\n",
              "    <tr>\n",
              "      <th>4</th>\n",
              "      <td>6</td>\n",
              "      <td>0</td>\n",
              "      <td>0</td>\n",
              "      <td>0</td>\n",
              "      <td>0</td>\n",
              "      <td>0</td>\n",
              "      <td>0</td>\n",
              "      <td>0</td>\n",
              "      <td>0</td>\n",
              "      <td>0</td>\n",
              "      <td>...</td>\n",
              "      <td>0</td>\n",
              "      <td>0</td>\n",
              "      <td>0</td>\n",
              "      <td>0</td>\n",
              "      <td>0</td>\n",
              "      <td>0</td>\n",
              "      <td>0</td>\n",
              "      <td>0</td>\n",
              "      <td>0</td>\n",
              "      <td>0</td>\n",
              "    </tr>\n",
              "    <tr>\n",
              "      <th>...</th>\n",
              "      <td>...</td>\n",
              "      <td>...</td>\n",
              "      <td>...</td>\n",
              "      <td>...</td>\n",
              "      <td>...</td>\n",
              "      <td>...</td>\n",
              "      <td>...</td>\n",
              "      <td>...</td>\n",
              "      <td>...</td>\n",
              "      <td>...</td>\n",
              "      <td>...</td>\n",
              "      <td>...</td>\n",
              "      <td>...</td>\n",
              "      <td>...</td>\n",
              "      <td>...</td>\n",
              "      <td>...</td>\n",
              "      <td>...</td>\n",
              "      <td>...</td>\n",
              "      <td>...</td>\n",
              "      <td>...</td>\n",
              "      <td>...</td>\n",
              "    </tr>\n",
              "    <tr>\n",
              "      <th>95669</th>\n",
              "      <td>191338</td>\n",
              "      <td>0</td>\n",
              "      <td>0</td>\n",
              "      <td>0</td>\n",
              "      <td>0</td>\n",
              "      <td>0</td>\n",
              "      <td>0</td>\n",
              "      <td>0</td>\n",
              "      <td>0</td>\n",
              "      <td>0</td>\n",
              "      <td>...</td>\n",
              "      <td>0</td>\n",
              "      <td>0</td>\n",
              "      <td>0</td>\n",
              "      <td>0</td>\n",
              "      <td>0</td>\n",
              "      <td>0</td>\n",
              "      <td>0</td>\n",
              "      <td>0</td>\n",
              "      <td>0</td>\n",
              "      <td>0</td>\n",
              "    </tr>\n",
              "    <tr>\n",
              "      <th>95670</th>\n",
              "      <td>191339</td>\n",
              "      <td>0</td>\n",
              "      <td>0</td>\n",
              "      <td>0</td>\n",
              "      <td>0</td>\n",
              "      <td>0</td>\n",
              "      <td>0</td>\n",
              "      <td>0</td>\n",
              "      <td>0</td>\n",
              "      <td>0</td>\n",
              "      <td>...</td>\n",
              "      <td>0</td>\n",
              "      <td>0</td>\n",
              "      <td>0</td>\n",
              "      <td>0</td>\n",
              "      <td>0</td>\n",
              "      <td>0</td>\n",
              "      <td>0</td>\n",
              "      <td>0</td>\n",
              "      <td>0</td>\n",
              "      <td>0</td>\n",
              "    </tr>\n",
              "    <tr>\n",
              "      <th>95671</th>\n",
              "      <td>191340</td>\n",
              "      <td>0</td>\n",
              "      <td>0</td>\n",
              "      <td>0</td>\n",
              "      <td>0</td>\n",
              "      <td>0</td>\n",
              "      <td>0</td>\n",
              "      <td>0</td>\n",
              "      <td>0</td>\n",
              "      <td>0</td>\n",
              "      <td>...</td>\n",
              "      <td>0</td>\n",
              "      <td>0</td>\n",
              "      <td>0</td>\n",
              "      <td>0</td>\n",
              "      <td>0</td>\n",
              "      <td>0</td>\n",
              "      <td>0</td>\n",
              "      <td>0</td>\n",
              "      <td>0</td>\n",
              "      <td>0</td>\n",
              "    </tr>\n",
              "    <tr>\n",
              "      <th>95672</th>\n",
              "      <td>191341</td>\n",
              "      <td>0</td>\n",
              "      <td>0</td>\n",
              "      <td>0</td>\n",
              "      <td>0</td>\n",
              "      <td>0</td>\n",
              "      <td>0</td>\n",
              "      <td>0</td>\n",
              "      <td>0</td>\n",
              "      <td>0</td>\n",
              "      <td>...</td>\n",
              "      <td>0</td>\n",
              "      <td>0</td>\n",
              "      <td>0</td>\n",
              "      <td>0</td>\n",
              "      <td>0</td>\n",
              "      <td>0</td>\n",
              "      <td>0</td>\n",
              "      <td>0</td>\n",
              "      <td>0</td>\n",
              "      <td>0</td>\n",
              "    </tr>\n",
              "    <tr>\n",
              "      <th>95673</th>\n",
              "      <td>191348</td>\n",
              "      <td>0</td>\n",
              "      <td>0</td>\n",
              "      <td>0</td>\n",
              "      <td>0</td>\n",
              "      <td>0</td>\n",
              "      <td>0</td>\n",
              "      <td>0</td>\n",
              "      <td>0</td>\n",
              "      <td>0</td>\n",
              "      <td>...</td>\n",
              "      <td>0</td>\n",
              "      <td>0</td>\n",
              "      <td>0</td>\n",
              "      <td>0</td>\n",
              "      <td>0</td>\n",
              "      <td>0</td>\n",
              "      <td>0</td>\n",
              "      <td>0</td>\n",
              "      <td>0</td>\n",
              "      <td>0</td>\n",
              "    </tr>\n",
              "  </tbody>\n",
              "</table>\n",
              "<p>95674 rows × 39 columns</p>\n",
              "</div>\n",
              "      <button class=\"colab-df-convert\" onclick=\"convertToInteractive('df-26b567df-4db0-49fb-8d04-af850900d075')\"\n",
              "              title=\"Convert this dataframe to an interactive table.\"\n",
              "              style=\"display:none;\">\n",
              "        \n",
              "  <svg xmlns=\"http://www.w3.org/2000/svg\" height=\"24px\"viewBox=\"0 0 24 24\"\n",
              "       width=\"24px\">\n",
              "    <path d=\"M0 0h24v24H0V0z\" fill=\"none\"/>\n",
              "    <path d=\"M18.56 5.44l.94 2.06.94-2.06 2.06-.94-2.06-.94-.94-2.06-.94 2.06-2.06.94zm-11 1L8.5 8.5l.94-2.06 2.06-.94-2.06-.94L8.5 2.5l-.94 2.06-2.06.94zm10 10l.94 2.06.94-2.06 2.06-.94-2.06-.94-.94-2.06-.94 2.06-2.06.94z\"/><path d=\"M17.41 7.96l-1.37-1.37c-.4-.4-.92-.59-1.43-.59-.52 0-1.04.2-1.43.59L10.3 9.45l-7.72 7.72c-.78.78-.78 2.05 0 2.83L4 21.41c.39.39.9.59 1.41.59.51 0 1.02-.2 1.41-.59l7.78-7.78 2.81-2.81c.8-.78.8-2.07 0-2.86zM5.41 20L4 18.59l7.72-7.72 1.47 1.35L5.41 20z\"/>\n",
              "  </svg>\n",
              "      </button>\n",
              "      \n",
              "  <style>\n",
              "    .colab-df-container {\n",
              "      display:flex;\n",
              "      flex-wrap:wrap;\n",
              "      gap: 12px;\n",
              "    }\n",
              "\n",
              "    .colab-df-convert {\n",
              "      background-color: #E8F0FE;\n",
              "      border: none;\n",
              "      border-radius: 50%;\n",
              "      cursor: pointer;\n",
              "      display: none;\n",
              "      fill: #1967D2;\n",
              "      height: 32px;\n",
              "      padding: 0 0 0 0;\n",
              "      width: 32px;\n",
              "    }\n",
              "\n",
              "    .colab-df-convert:hover {\n",
              "      background-color: #E2EBFA;\n",
              "      box-shadow: 0px 1px 2px rgba(60, 64, 67, 0.3), 0px 1px 3px 1px rgba(60, 64, 67, 0.15);\n",
              "      fill: #174EA6;\n",
              "    }\n",
              "\n",
              "    [theme=dark] .colab-df-convert {\n",
              "      background-color: #3B4455;\n",
              "      fill: #D2E3FC;\n",
              "    }\n",
              "\n",
              "    [theme=dark] .colab-df-convert:hover {\n",
              "      background-color: #434B5C;\n",
              "      box-shadow: 0px 1px 3px 1px rgba(0, 0, 0, 0.15);\n",
              "      filter: drop-shadow(0px 1px 2px rgba(0, 0, 0, 0.3));\n",
              "      fill: #FFFFFF;\n",
              "    }\n",
              "  </style>\n",
              "\n",
              "      <script>\n",
              "        const buttonEl =\n",
              "          document.querySelector('#df-26b567df-4db0-49fb-8d04-af850900d075 button.colab-df-convert');\n",
              "        buttonEl.style.display =\n",
              "          google.colab.kernel.accessAllowed ? 'block' : 'none';\n",
              "\n",
              "        async function convertToInteractive(key) {\n",
              "          const element = document.querySelector('#df-26b567df-4db0-49fb-8d04-af850900d075');\n",
              "          const dataTable =\n",
              "            await google.colab.kernel.invokeFunction('convertToInteractive',\n",
              "                                                     [key], {});\n",
              "          if (!dataTable) return;\n",
              "\n",
              "          const docLinkHtml = 'Like what you see? Visit the ' +\n",
              "            '<a target=\"_blank\" href=https://colab.research.google.com/notebooks/data_table.ipynb>data table notebook</a>'\n",
              "            + ' to learn more about interactive tables.';\n",
              "          element.innerHTML = '';\n",
              "          dataTable['output_type'] = 'display_data';\n",
              "          await google.colab.output.renderOutput(dataTable, element);\n",
              "          const docLink = document.createElement('div');\n",
              "          docLink.innerHTML = docLinkHtml;\n",
              "          element.appendChild(docLink);\n",
              "        }\n",
              "      </script>\n",
              "    </div>\n",
              "  </div>\n",
              "  "
            ]
          },
          "metadata": {},
          "execution_count": 126
        }
      ]
    },
    {
      "cell_type": "code",
      "source": [
        "y_pred[:, 0].shape"
      ],
      "metadata": {
        "colab": {
          "base_uri": "https://localhost:8080/"
        },
        "id": "WuzSEZthQURA",
        "outputId": "6e905597-3a4a-48ad-d786-2e6ffd5710c3"
      },
      "execution_count": 133,
      "outputs": [
        {
          "output_type": "execute_result",
          "data": {
            "text/plain": [
              "(95674,)"
            ]
          },
          "metadata": {},
          "execution_count": 133
        }
      ]
    },
    {
      "cell_type": "code",
      "source": [
        "submission['TripType_3']"
      ],
      "metadata": {
        "colab": {
          "base_uri": "https://localhost:8080/"
        },
        "id": "CGNY4ulTQEEl",
        "outputId": "3dfdc07c-1768-4264-b31f-f384a587bee6"
      },
      "execution_count": 130,
      "outputs": [
        {
          "output_type": "execute_result",
          "data": {
            "text/plain": [
              "(0        0\n",
              " 1        0\n",
              " 2        0\n",
              " 3        0\n",
              " 4        0\n",
              "         ..\n",
              " 95669    0\n",
              " 95670    0\n",
              " 95671    0\n",
              " 95672    0\n",
              " 95673    0\n",
              " Name: TripType_3, Length: 95674, dtype: int64,\n",
              " array([4.05188404e-04, 3.63501971e-04, 2.20378893e-06, ...,\n",
              "        2.49834146e-03, 7.63294929e-06, 8.04678863e-06]))"
            ]
          },
          "metadata": {},
          "execution_count": 130
        }
      ]
    },
    {
      "cell_type": "code",
      "source": [
        "for i, col in enumerate(submission.columns):\n",
        "    if i == 0:\n",
        "      continue\n",
        "    submission[col] = y_pred[:, i-1]"
      ],
      "metadata": {
        "id": "X2cNxiF1O7Jq"
      },
      "execution_count": 135,
      "outputs": []
    },
    {
      "cell_type": "code",
      "source": [
        "submission.head()"
      ],
      "metadata": {
        "colab": {
          "base_uri": "https://localhost:8080/",
          "height": 386
        },
        "id": "lHJmQskbPYVy",
        "outputId": "e040e489-af89-4da7-a8e5-7985b5f82a2e"
      },
      "execution_count": 139,
      "outputs": [
        {
          "output_type": "execute_result",
          "data": {
            "text/plain": [
              "   VisitNumber    TripType_3    TripType_4    TripType_5    TripType_6  \\\n",
              "0            1  4.051884e-04  3.519348e-04  3.049671e-03  1.388752e-03   \n",
              "1            2  3.635020e-04  1.835109e-03  7.138962e-03  6.516482e-03   \n",
              "2            3  2.203789e-06  7.804609e-07  1.665267e-05  3.822398e-06   \n",
              "3            4  4.877916e-04  1.613305e-04  1.082102e-03  1.224899e-03   \n",
              "4            6  4.987860e-07  1.748002e-07  9.319165e-07  3.600902e-07   \n",
              "\n",
              "   TripType_7    TripType_8    TripType_9   TripType_12   TripType_14  ...  \\\n",
              "0    0.014059  2.965558e-03  1.851951e-02  1.098759e-02  6.015575e-05  ...   \n",
              "1    0.024385  2.570282e-02  4.877938e-03  5.100188e-03  1.147729e-04  ...   \n",
              "2    0.000006  2.982787e-07  2.256949e-05  3.494680e-07  5.621063e-09  ...   \n",
              "3    0.001460  3.320707e-02  8.353170e-01  6.538378e-04  1.269196e-05  ...   \n",
              "4    0.000001  5.108024e-06  5.347074e-07  2.250070e-07  5.988274e-09  ...   \n",
              "\n",
              "    TripType_36   TripType_37   TripType_38   TripType_39   TripType_40  \\\n",
              "0  1.845210e-02  1.349428e-02  1.439310e-01  1.367815e-01  1.442751e-03   \n",
              "1  2.938828e-02  1.079029e-02  4.714376e-02  1.062594e-01  1.016837e-03   \n",
              "2  4.517698e-05  2.592777e-06  7.511184e-07  1.023272e-06  9.812771e-09   \n",
              "3  1.510606e-03  4.414680e-04  4.311357e-04  4.381853e-04  9.663647e-06   \n",
              "4  6.776378e-07  2.717402e-07  1.586514e-07  2.522330e-07  4.647084e-09   \n",
              "\n",
              "    TripType_41   TripType_42   TripType_43   TripType_44  TripType_999  \n",
              "0  1.958972e-02  1.218697e-02  9.021225e-03  1.019921e-03      0.040576  \n",
              "1  4.450700e-03  1.232887e-02  1.347301e-02  7.891909e-04      0.248291  \n",
              "2  1.381999e-07  3.372602e-07  1.426744e-07  3.631910e-08      0.999878  \n",
              "3  1.703217e-04  1.118217e-03  1.004082e-04  2.191794e-05      0.028625  \n",
              "4  2.334297e-07  1.215692e-06  9.622973e-08  2.622694e-08      0.999925  \n",
              "\n",
              "[5 rows x 39 columns]"
            ],
            "text/html": [
              "\n",
              "  <div id=\"df-4ed712cc-0be2-40b2-8977-09aeeb6b493c\">\n",
              "    <div class=\"colab-df-container\">\n",
              "      <div>\n",
              "<style scoped>\n",
              "    .dataframe tbody tr th:only-of-type {\n",
              "        vertical-align: middle;\n",
              "    }\n",
              "\n",
              "    .dataframe tbody tr th {\n",
              "        vertical-align: top;\n",
              "    }\n",
              "\n",
              "    .dataframe thead th {\n",
              "        text-align: right;\n",
              "    }\n",
              "</style>\n",
              "<table border=\"1\" class=\"dataframe\">\n",
              "  <thead>\n",
              "    <tr style=\"text-align: right;\">\n",
              "      <th></th>\n",
              "      <th>VisitNumber</th>\n",
              "      <th>TripType_3</th>\n",
              "      <th>TripType_4</th>\n",
              "      <th>TripType_5</th>\n",
              "      <th>TripType_6</th>\n",
              "      <th>TripType_7</th>\n",
              "      <th>TripType_8</th>\n",
              "      <th>TripType_9</th>\n",
              "      <th>TripType_12</th>\n",
              "      <th>TripType_14</th>\n",
              "      <th>...</th>\n",
              "      <th>TripType_36</th>\n",
              "      <th>TripType_37</th>\n",
              "      <th>TripType_38</th>\n",
              "      <th>TripType_39</th>\n",
              "      <th>TripType_40</th>\n",
              "      <th>TripType_41</th>\n",
              "      <th>TripType_42</th>\n",
              "      <th>TripType_43</th>\n",
              "      <th>TripType_44</th>\n",
              "      <th>TripType_999</th>\n",
              "    </tr>\n",
              "  </thead>\n",
              "  <tbody>\n",
              "    <tr>\n",
              "      <th>0</th>\n",
              "      <td>1</td>\n",
              "      <td>4.051884e-04</td>\n",
              "      <td>3.519348e-04</td>\n",
              "      <td>3.049671e-03</td>\n",
              "      <td>1.388752e-03</td>\n",
              "      <td>0.014059</td>\n",
              "      <td>2.965558e-03</td>\n",
              "      <td>1.851951e-02</td>\n",
              "      <td>1.098759e-02</td>\n",
              "      <td>6.015575e-05</td>\n",
              "      <td>...</td>\n",
              "      <td>1.845210e-02</td>\n",
              "      <td>1.349428e-02</td>\n",
              "      <td>1.439310e-01</td>\n",
              "      <td>1.367815e-01</td>\n",
              "      <td>1.442751e-03</td>\n",
              "      <td>1.958972e-02</td>\n",
              "      <td>1.218697e-02</td>\n",
              "      <td>9.021225e-03</td>\n",
              "      <td>1.019921e-03</td>\n",
              "      <td>0.040576</td>\n",
              "    </tr>\n",
              "    <tr>\n",
              "      <th>1</th>\n",
              "      <td>2</td>\n",
              "      <td>3.635020e-04</td>\n",
              "      <td>1.835109e-03</td>\n",
              "      <td>7.138962e-03</td>\n",
              "      <td>6.516482e-03</td>\n",
              "      <td>0.024385</td>\n",
              "      <td>2.570282e-02</td>\n",
              "      <td>4.877938e-03</td>\n",
              "      <td>5.100188e-03</td>\n",
              "      <td>1.147729e-04</td>\n",
              "      <td>...</td>\n",
              "      <td>2.938828e-02</td>\n",
              "      <td>1.079029e-02</td>\n",
              "      <td>4.714376e-02</td>\n",
              "      <td>1.062594e-01</td>\n",
              "      <td>1.016837e-03</td>\n",
              "      <td>4.450700e-03</td>\n",
              "      <td>1.232887e-02</td>\n",
              "      <td>1.347301e-02</td>\n",
              "      <td>7.891909e-04</td>\n",
              "      <td>0.248291</td>\n",
              "    </tr>\n",
              "    <tr>\n",
              "      <th>2</th>\n",
              "      <td>3</td>\n",
              "      <td>2.203789e-06</td>\n",
              "      <td>7.804609e-07</td>\n",
              "      <td>1.665267e-05</td>\n",
              "      <td>3.822398e-06</td>\n",
              "      <td>0.000006</td>\n",
              "      <td>2.982787e-07</td>\n",
              "      <td>2.256949e-05</td>\n",
              "      <td>3.494680e-07</td>\n",
              "      <td>5.621063e-09</td>\n",
              "      <td>...</td>\n",
              "      <td>4.517698e-05</td>\n",
              "      <td>2.592777e-06</td>\n",
              "      <td>7.511184e-07</td>\n",
              "      <td>1.023272e-06</td>\n",
              "      <td>9.812771e-09</td>\n",
              "      <td>1.381999e-07</td>\n",
              "      <td>3.372602e-07</td>\n",
              "      <td>1.426744e-07</td>\n",
              "      <td>3.631910e-08</td>\n",
              "      <td>0.999878</td>\n",
              "    </tr>\n",
              "    <tr>\n",
              "      <th>3</th>\n",
              "      <td>4</td>\n",
              "      <td>4.877916e-04</td>\n",
              "      <td>1.613305e-04</td>\n",
              "      <td>1.082102e-03</td>\n",
              "      <td>1.224899e-03</td>\n",
              "      <td>0.001460</td>\n",
              "      <td>3.320707e-02</td>\n",
              "      <td>8.353170e-01</td>\n",
              "      <td>6.538378e-04</td>\n",
              "      <td>1.269196e-05</td>\n",
              "      <td>...</td>\n",
              "      <td>1.510606e-03</td>\n",
              "      <td>4.414680e-04</td>\n",
              "      <td>4.311357e-04</td>\n",
              "      <td>4.381853e-04</td>\n",
              "      <td>9.663647e-06</td>\n",
              "      <td>1.703217e-04</td>\n",
              "      <td>1.118217e-03</td>\n",
              "      <td>1.004082e-04</td>\n",
              "      <td>2.191794e-05</td>\n",
              "      <td>0.028625</td>\n",
              "    </tr>\n",
              "    <tr>\n",
              "      <th>4</th>\n",
              "      <td>6</td>\n",
              "      <td>4.987860e-07</td>\n",
              "      <td>1.748002e-07</td>\n",
              "      <td>9.319165e-07</td>\n",
              "      <td>3.600902e-07</td>\n",
              "      <td>0.000001</td>\n",
              "      <td>5.108024e-06</td>\n",
              "      <td>5.347074e-07</td>\n",
              "      <td>2.250070e-07</td>\n",
              "      <td>5.988274e-09</td>\n",
              "      <td>...</td>\n",
              "      <td>6.776378e-07</td>\n",
              "      <td>2.717402e-07</td>\n",
              "      <td>1.586514e-07</td>\n",
              "      <td>2.522330e-07</td>\n",
              "      <td>4.647084e-09</td>\n",
              "      <td>2.334297e-07</td>\n",
              "      <td>1.215692e-06</td>\n",
              "      <td>9.622973e-08</td>\n",
              "      <td>2.622694e-08</td>\n",
              "      <td>0.999925</td>\n",
              "    </tr>\n",
              "  </tbody>\n",
              "</table>\n",
              "<p>5 rows × 39 columns</p>\n",
              "</div>\n",
              "      <button class=\"colab-df-convert\" onclick=\"convertToInteractive('df-4ed712cc-0be2-40b2-8977-09aeeb6b493c')\"\n",
              "              title=\"Convert this dataframe to an interactive table.\"\n",
              "              style=\"display:none;\">\n",
              "        \n",
              "  <svg xmlns=\"http://www.w3.org/2000/svg\" height=\"24px\"viewBox=\"0 0 24 24\"\n",
              "       width=\"24px\">\n",
              "    <path d=\"M0 0h24v24H0V0z\" fill=\"none\"/>\n",
              "    <path d=\"M18.56 5.44l.94 2.06.94-2.06 2.06-.94-2.06-.94-.94-2.06-.94 2.06-2.06.94zm-11 1L8.5 8.5l.94-2.06 2.06-.94-2.06-.94L8.5 2.5l-.94 2.06-2.06.94zm10 10l.94 2.06.94-2.06 2.06-.94-2.06-.94-.94-2.06-.94 2.06-2.06.94z\"/><path d=\"M17.41 7.96l-1.37-1.37c-.4-.4-.92-.59-1.43-.59-.52 0-1.04.2-1.43.59L10.3 9.45l-7.72 7.72c-.78.78-.78 2.05 0 2.83L4 21.41c.39.39.9.59 1.41.59.51 0 1.02-.2 1.41-.59l7.78-7.78 2.81-2.81c.8-.78.8-2.07 0-2.86zM5.41 20L4 18.59l7.72-7.72 1.47 1.35L5.41 20z\"/>\n",
              "  </svg>\n",
              "      </button>\n",
              "      \n",
              "  <style>\n",
              "    .colab-df-container {\n",
              "      display:flex;\n",
              "      flex-wrap:wrap;\n",
              "      gap: 12px;\n",
              "    }\n",
              "\n",
              "    .colab-df-convert {\n",
              "      background-color: #E8F0FE;\n",
              "      border: none;\n",
              "      border-radius: 50%;\n",
              "      cursor: pointer;\n",
              "      display: none;\n",
              "      fill: #1967D2;\n",
              "      height: 32px;\n",
              "      padding: 0 0 0 0;\n",
              "      width: 32px;\n",
              "    }\n",
              "\n",
              "    .colab-df-convert:hover {\n",
              "      background-color: #E2EBFA;\n",
              "      box-shadow: 0px 1px 2px rgba(60, 64, 67, 0.3), 0px 1px 3px 1px rgba(60, 64, 67, 0.15);\n",
              "      fill: #174EA6;\n",
              "    }\n",
              "\n",
              "    [theme=dark] .colab-df-convert {\n",
              "      background-color: #3B4455;\n",
              "      fill: #D2E3FC;\n",
              "    }\n",
              "\n",
              "    [theme=dark] .colab-df-convert:hover {\n",
              "      background-color: #434B5C;\n",
              "      box-shadow: 0px 1px 3px 1px rgba(0, 0, 0, 0.15);\n",
              "      filter: drop-shadow(0px 1px 2px rgba(0, 0, 0, 0.3));\n",
              "      fill: #FFFFFF;\n",
              "    }\n",
              "  </style>\n",
              "\n",
              "      <script>\n",
              "        const buttonEl =\n",
              "          document.querySelector('#df-4ed712cc-0be2-40b2-8977-09aeeb6b493c button.colab-df-convert');\n",
              "        buttonEl.style.display =\n",
              "          google.colab.kernel.accessAllowed ? 'block' : 'none';\n",
              "\n",
              "        async function convertToInteractive(key) {\n",
              "          const element = document.querySelector('#df-4ed712cc-0be2-40b2-8977-09aeeb6b493c');\n",
              "          const dataTable =\n",
              "            await google.colab.kernel.invokeFunction('convertToInteractive',\n",
              "                                                     [key], {});\n",
              "          if (!dataTable) return;\n",
              "\n",
              "          const docLinkHtml = 'Like what you see? Visit the ' +\n",
              "            '<a target=\"_blank\" href=https://colab.research.google.com/notebooks/data_table.ipynb>data table notebook</a>'\n",
              "            + ' to learn more about interactive tables.';\n",
              "          element.innerHTML = '';\n",
              "          dataTable['output_type'] = 'display_data';\n",
              "          await google.colab.output.renderOutput(dataTable, element);\n",
              "          const docLink = document.createElement('div');\n",
              "          docLink.innerHTML = docLinkHtml;\n",
              "          element.appendChild(docLink);\n",
              "        }\n",
              "      </script>\n",
              "    </div>\n",
              "  </div>\n",
              "  "
            ]
          },
          "metadata": {},
          "execution_count": 139
        }
      ]
    },
    {
      "cell_type": "code",
      "source": [
        "submission.to_csv('./my_submission.csv', index=False)"
      ],
      "metadata": {
        "id": "9ulCxwgtQqnb"
      },
      "execution_count": 140,
      "outputs": []
    }
  ],
  "metadata": {
    "kernelspec": {
      "display_name": "Python 3 (ipykernel)",
      "language": "python",
      "name": "python3"
    },
    "language_info": {
      "codemirror_mode": {
        "name": "ipython",
        "version": 3
      },
      "file_extension": ".py",
      "mimetype": "text/x-python",
      "name": "python",
      "nbconvert_exporter": "python",
      "pygments_lexer": "ipython3",
      "version": "3.9.13"
    },
    "colab": {
      "provenance": [],
      "include_colab_link": true
    }
  },
  "nbformat": 4,
  "nbformat_minor": 0
}